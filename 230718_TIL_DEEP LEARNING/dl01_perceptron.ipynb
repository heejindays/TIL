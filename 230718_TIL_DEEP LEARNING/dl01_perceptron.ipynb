{
 "cells": [
  {
   "cell_type": "markdown",
   "metadata": {},
   "source": [
    "y = f(w1*x1 + w2*x2 + ... + wn*xn + b)"
   ]
  },
  {
   "cell_type": "code",
   "execution_count": 1,
   "metadata": {},
   "outputs": [],
   "source": [
    "import numpy as np"
   ]
  },
  {
   "cell_type": "code",
   "execution_count": 3,
   "metadata": {},
   "outputs": [],
   "source": [
    "# 입력에 대해서 활성화 함수를 만듦\n",
    "# 활성화 함수를 임의로 한번 만들어 봄\n",
    "\n",
    "def perceptron (x, w, b):\n",
    "    result = np.sum(w * x) + b\n",
    "\n",
    "    if result <= 0:\n",
    "        return 0\n",
    "    \n",
    "    else:\n",
    "        return 1"
   ]
  },
  {
   "cell_type": "code",
   "execution_count": 5,
   "metadata": {},
   "outputs": [],
   "source": [
    "x_list = np.array([[0, 0],\n",
    "                   [0, 1],\n",
    "                   [1, 0],\n",
    "                   [1, 1]])"
   ]
  },
  {
   "cell_type": "code",
   "execution_count": 6,
   "metadata": {},
   "outputs": [
    {
     "name": "stdout",
     "output_type": "stream",
     "text": [
      "[0 0] : 0\n",
      "[0 1] : 0\n",
      "[1 0] : 0\n",
      "[1 1] : 1\n"
     ]
    }
   ],
   "source": [
    "# and\n",
    "w = np.array([0.5, 0.5])\n",
    "b = -0.7\n",
    "\n",
    "for x in x_list:\n",
    "    print(f\"{x} : {perceptron(x, w, b)}\")"
   ]
  },
  {
   "cell_type": "code",
   "execution_count": 7,
   "metadata": {},
   "outputs": [
    {
     "name": "stdout",
     "output_type": "stream",
     "text": [
      "[0 0] : 0\n",
      "[0 1] : 1\n",
      "[1 0] : 1\n",
      "[1 1] : 1\n"
     ]
    }
   ],
   "source": [
    "# or\n",
    "w = np.array([0.5, 0.5])\n",
    "b = -0.4\n",
    "\n",
    "for x in x_list:\n",
    "    print(f\"{x} : {perceptron(x, w, b)}\")"
   ]
  },
  {
   "cell_type": "code",
   "execution_count": null,
   "metadata": {},
   "outputs": [],
   "source": [
    "# 퍼셉트론은 w와 b가 중요하다"
   ]
  },
  {
   "cell_type": "markdown",
   "metadata": {},
   "source": [
    "nand\n",
    "\n",
    "![](https://www.apogeeweb.net/images/headImage/202205111629342.jpg)"
   ]
  },
  {
   "cell_type": "code",
   "execution_count": 8,
   "metadata": {},
   "outputs": [
    {
     "name": "stdout",
     "output_type": "stream",
     "text": [
      "[0 0] : 1\n",
      "[0 1] : 1\n",
      "[1 0] : 1\n",
      "[1 1] : 0\n"
     ]
    }
   ],
   "source": [
    "# nand\n",
    "w = np.array([-0.5, -0.5])\n",
    "b = 0.7\n",
    "\n",
    "for x in x_list:\n",
    "    print(f\"{x} : {perceptron(x, w, b)}\")"
   ]
  },
  {
   "cell_type": "markdown",
   "metadata": {},
   "source": [
    "xor\n",
    "\n",
    "![](https://upload.wikimedia.org/wikipedia/commons/a/a2/254px_3gate_XOR.jpg)"
   ]
  },
  {
   "cell_type": "code",
   "execution_count": 10,
   "metadata": {},
   "outputs": [
    {
     "name": "stdout",
     "output_type": "stream",
     "text": [
      "[0 0] : 0\n",
      "[0 1] : 1\n",
      "[1 0] : 1\n",
      "[1 1] : 0\n"
     ]
    }
   ],
   "source": [
    "# xor\n",
    "for x in x_list:\n",
    "    nand_result = perceptron(x, [-0.5, -0.5], 0.7)\n",
    "    or_result = perceptron(x, [0.5, 0.5], -0.4)\n",
    "    result = perceptron(np.array([nand_result, or_result]),\n",
    "                        [0.5, 0.5], -0.7)\n",
    "    print(f\"{x} : {result}\")"
   ]
  },
  {
   "cell_type": "markdown",
   "metadata": {},
   "source": [
    "결론\n",
    "\n",
    "1) 가중치와 편향에 따라 결과값이 변한다\n",
    "\n",
    "2) 퍼셉트론의 연결을 통해 원하는 결과를 얻을 수 있다"
   ]
  },
  {
   "cell_type": "markdown",
   "metadata": {},
   "source": []
  }
 ],
 "metadata": {
  "kernelspec": {
   "display_name": "dsde04",
   "language": "python",
   "name": "python3"
  },
  "language_info": {
   "codemirror_mode": {
    "name": "ipython",
    "version": 3
   },
   "file_extension": ".py",
   "mimetype": "text/x-python",
   "name": "python",
   "nbconvert_exporter": "python",
   "pygments_lexer": "ipython3",
   "version": "3.10.11"
  },
  "orig_nbformat": 4
 },
 "nbformat": 4,
 "nbformat_minor": 2
}
