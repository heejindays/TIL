{
 "cells": [
  {
   "cell_type": "code",
   "execution_count": 4,
   "metadata": {},
   "outputs": [],
   "source": [
    "from sklearn.ensemble import RandomForestClassifier\n",
    "from sklearn.datasets import load_iris\n",
    "import joblib"
   ]
  },
  {
   "cell_type": "code",
   "execution_count": 5,
   "metadata": {},
   "outputs": [],
   "source": [
    "iris = load_iris()"
   ]
  },
  {
   "cell_type": "code",
   "execution_count": 6,
   "metadata": {},
   "outputs": [],
   "source": [
    "model = RandomForestClassifier().fit(iris.data, iris.target)"
   ]
  },
  {
   "cell_type": "code",
   "execution_count": 7,
   "metadata": {},
   "outputs": [
    {
     "data": {
      "text/plain": [
       "['iris_random_forest.pkl']"
      ]
     },
     "execution_count": 7,
     "metadata": {},
     "output_type": "execute_result"
    }
   ],
   "source": [
    "# picking (sklearn은 python 객체로 저장)\n",
    "joblib.dump(model, \"iris_random_forest.pkl\")"
   ]
  },
  {
   "cell_type": "code",
   "execution_count": null,
   "metadata": {},
   "outputs": [],
   "source": [
    "# 주피터로 만든 코드를 클래스나 함수로 만들어 파이썬 코드로 만들기\n",
    "# 파이썬 코드로 만들어 사용할 때 장고에 가져다 올려놓고 그대로 쓰면\n",
    "# 학습을 매번 돌리면 지금이야 금방 나오지만\n",
    "# 딥러닝 한 걸 계속 돌려야하니 시간이 엄청나게 매일 나온다\n",
    "# 그렇게 되면 안됨(사용자가 쓸때마다 시간이 걸리면 안되니)\n",
    "\n",
    "# 고로 그렇게 하는 게 아니라\n",
    "# 이미 학습이 완료된 파일을 저장해놓고 불러다가 예측만 해서 \n",
    "# 예측된 것을 서비스로 요청 응답해야함"
   ]
  }
 ],
 "metadata": {
  "kernelspec": {
   "display_name": "dsde04",
   "language": "python",
   "name": "python3"
  },
  "language_info": {
   "codemirror_mode": {
    "name": "ipython",
    "version": 3
   },
   "file_extension": ".py",
   "mimetype": "text/x-python",
   "name": "python",
   "nbconvert_exporter": "python",
   "pygments_lexer": "ipython3",
   "version": "3.10.11"
  },
  "orig_nbformat": 4
 },
 "nbformat": 4,
 "nbformat_minor": 2
}
