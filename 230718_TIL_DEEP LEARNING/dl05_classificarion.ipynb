{
 "cells": [
  {
   "cell_type": "code",
   "execution_count": 43,
   "metadata": {},
   "outputs": [],
   "source": [
    "from tensorflow.keras.datasets.mnist import load_data"
   ]
  },
  {
   "cell_type": "code",
   "execution_count": 44,
   "metadata": {},
   "outputs": [],
   "source": [
    "(x_train, y_train), (x_test, y_test) = load_data()"
   ]
  },
  {
   "cell_type": "code",
   "execution_count": 83,
   "metadata": {},
   "outputs": [
    {
     "name": "stdout",
     "output_type": "stream",
     "text": [
      "(42000, 28, 28), (42000,)\n",
      "[[[0 0 0 ... 0 0 0]\n",
      "  [0 0 0 ... 0 0 0]\n",
      "  [0 0 0 ... 0 0 0]\n",
      "  ...\n",
      "  [0 0 0 ... 0 0 0]\n",
      "  [0 0 0 ... 0 0 0]\n",
      "  [0 0 0 ... 0 0 0]]\n",
      "\n",
      " [[0 0 0 ... 0 0 0]\n",
      "  [0 0 0 ... 0 0 0]\n",
      "  [0 0 0 ... 0 0 0]\n",
      "  ...\n",
      "  [0 0 0 ... 0 0 0]\n",
      "  [0 0 0 ... 0 0 0]\n",
      "  [0 0 0 ... 0 0 0]]\n",
      "\n",
      " [[0 0 0 ... 0 0 0]\n",
      "  [0 0 0 ... 0 0 0]\n",
      "  [0 0 0 ... 0 0 0]\n",
      "  ...\n",
      "  [0 0 0 ... 0 0 0]\n",
      "  [0 0 0 ... 0 0 0]\n",
      "  [0 0 0 ... 0 0 0]]\n",
      "\n",
      " ...\n",
      "\n",
      " [[0 0 0 ... 0 0 0]\n",
      "  [0 0 0 ... 0 0 0]\n",
      "  [0 0 0 ... 0 0 0]\n",
      "  ...\n",
      "  [0 0 0 ... 0 0 0]\n",
      "  [0 0 0 ... 0 0 0]\n",
      "  [0 0 0 ... 0 0 0]]\n",
      "\n",
      " [[0 0 0 ... 0 0 0]\n",
      "  [0 0 0 ... 0 0 0]\n",
      "  [0 0 0 ... 0 0 0]\n",
      "  ...\n",
      "  [0 0 0 ... 0 0 0]\n",
      "  [0 0 0 ... 0 0 0]\n",
      "  [0 0 0 ... 0 0 0]]\n",
      "\n",
      " [[0 0 0 ... 0 0 0]\n",
      "  [0 0 0 ... 0 0 0]\n",
      "  [0 0 0 ... 0 0 0]\n",
      "  ...\n",
      "  [0 0 0 ... 0 0 0]\n",
      "  [0 0 0 ... 0 0 0]\n",
      "  [0 0 0 ... 0 0 0]]]\n",
      "[2 7 6 ... 0 9 0]\n"
     ]
    }
   ],
   "source": [
    "# 총 60,000개가 있는데 가로 세로 28개씩 들어있음\n",
    "\n",
    "print(f\"{x_train.shape}, {y_train.shape}\")\n",
    "print(x_train)\n",
    "print(y_train)"
   ]
  },
  {
   "cell_type": "code",
   "execution_count": 47,
   "metadata": {},
   "outputs": [
    {
     "name": "stdout",
     "output_type": "stream",
     "text": [
      "(10000, 28, 28), (10000,)\n",
      "[[[0 0 0 ... 0 0 0]\n",
      "  [0 0 0 ... 0 0 0]\n",
      "  [0 0 0 ... 0 0 0]\n",
      "  ...\n",
      "  [0 0 0 ... 0 0 0]\n",
      "  [0 0 0 ... 0 0 0]\n",
      "  [0 0 0 ... 0 0 0]]\n",
      "\n",
      " [[0 0 0 ... 0 0 0]\n",
      "  [0 0 0 ... 0 0 0]\n",
      "  [0 0 0 ... 0 0 0]\n",
      "  ...\n",
      "  [0 0 0 ... 0 0 0]\n",
      "  [0 0 0 ... 0 0 0]\n",
      "  [0 0 0 ... 0 0 0]]\n",
      "\n",
      " [[0 0 0 ... 0 0 0]\n",
      "  [0 0 0 ... 0 0 0]\n",
      "  [0 0 0 ... 0 0 0]\n",
      "  ...\n",
      "  [0 0 0 ... 0 0 0]\n",
      "  [0 0 0 ... 0 0 0]\n",
      "  [0 0 0 ... 0 0 0]]\n",
      "\n",
      " ...\n",
      "\n",
      " [[0 0 0 ... 0 0 0]\n",
      "  [0 0 0 ... 0 0 0]\n",
      "  [0 0 0 ... 0 0 0]\n",
      "  ...\n",
      "  [0 0 0 ... 0 0 0]\n",
      "  [0 0 0 ... 0 0 0]\n",
      "  [0 0 0 ... 0 0 0]]\n",
      "\n",
      " [[0 0 0 ... 0 0 0]\n",
      "  [0 0 0 ... 0 0 0]\n",
      "  [0 0 0 ... 0 0 0]\n",
      "  ...\n",
      "  [0 0 0 ... 0 0 0]\n",
      "  [0 0 0 ... 0 0 0]\n",
      "  [0 0 0 ... 0 0 0]]\n",
      "\n",
      " [[0 0 0 ... 0 0 0]\n",
      "  [0 0 0 ... 0 0 0]\n",
      "  [0 0 0 ... 0 0 0]\n",
      "  ...\n",
      "  [0 0 0 ... 0 0 0]\n",
      "  [0 0 0 ... 0 0 0]\n",
      "  [0 0 0 ... 0 0 0]]]\n",
      "[7 2 1 ... 4 5 6]\n"
     ]
    }
   ],
   "source": [
    "print(f\"{x_test.shape}, {y_test.shape}\")\n",
    "print(x_test)\n",
    "print(y_test)"
   ]
  },
  {
   "cell_type": "code",
   "execution_count": 48,
   "metadata": {},
   "outputs": [],
   "source": [
    "import matplotlib.pyplot as plt\n",
    "import numpy as np"
   ]
  },
  {
   "cell_type": "code",
   "execution_count": 49,
   "metadata": {},
   "outputs": [
    {
     "data": {
      "text/plain": [
       "33003"
      ]
     },
     "execution_count": 49,
     "metadata": {},
     "output_type": "execute_result"
    }
   ],
   "source": [
    "np.random.seed(1)\n",
    "random_num = np.random.randint(x_train.shape[0])\n",
    "random_num\n",
    "\n",
    "# 6만 개 중에서 랜덤으로 하나 뽑은 수가 33003"
   ]
  },
  {
   "cell_type": "code",
   "execution_count": 50,
   "metadata": {},
   "outputs": [
    {
     "data": {
      "text/plain": [
       "array([[  0,   0,   0,   0,   0,   0,   0,   0,   0,   0,   0,   0,   0,\n",
       "          0,   0,   0,   0,   0,   0,   0,   0,   0,   0,   0,   0,   0,\n",
       "          0,   0],\n",
       "       [  0,   0,   0,   0,   0,   0,   0,   0,   0,   0,   0,   0,   0,\n",
       "          0,   0,   0,   0,   0,   0,   0,   0,   0,   0,   0,   0,   0,\n",
       "          0,   0],\n",
       "       [  0,   0,   0,   0,   0,   0,   0,   0,   0,   0,   0,   0,   0,\n",
       "          0,   0,   0,   0,   0,   0,   0,   0,   0,   0,   0,   0,   0,\n",
       "          0,   0],\n",
       "       [  0,   0,   0,   0,   0,   0,   0,   0,   0,   0,   0,   0,   0,\n",
       "          0,   0,   0,   0,   0,   0,   0,   0,   0,   0,   0,   0,   0,\n",
       "          0,   0],\n",
       "       [  0,   0,   0,   0,   0,   0,   0,   0,   0,   0,   0,   0,   0,\n",
       "          0,   0,  87, 202, 254, 254, 254, 254,  14,   0,   0,   0,   0,\n",
       "          0,   0],\n",
       "       [  0,   0,   0,   0,   0,   0,   0,   0,   0,   0,   0,   0,   0,\n",
       "         36, 211, 246, 253, 253, 253, 253, 253, 137,   0,   0,   0,   0,\n",
       "          0,   0],\n",
       "       [  0,   0,   0,   0,   0,   0,   0,   0,   0,   0,   0,   0, 127,\n",
       "        217, 254, 253, 253, 253, 253, 253, 253,  66,   0,   0,   0,   0,\n",
       "          0,   0],\n",
       "       [  0,   0,   0,   0,   0,   0,   0,   0,   0,   0,   0, 114, 222,\n",
       "        253, 254, 253, 253, 253, 253, 253, 253,  14,   0,   0,   0,   0,\n",
       "          0,   0],\n",
       "       [  0,   0,   0,   0,   0,   0,   0,   0,   0,   0, 120, 251, 253,\n",
       "        253, 254, 235, 178, 142, 236, 253, 253,  14,   0,   0,   0,   0,\n",
       "          0,   0],\n",
       "       [  0,   0,   0,   0,   0,   0,   0,   0,   0,  40, 219, 253, 253,\n",
       "        253, 224,  82,   0, 120, 253, 253, 253,  32,   0,   0,   0,   0,\n",
       "          0,   0],\n",
       "       [  0,   0,   0,   0,   0,   0,   0,   0,  40, 219, 253, 253, 253,\n",
       "        253,   0,   0,   0, 120, 253, 253, 253, 163,   0,   0,   0,   0,\n",
       "          0,   0],\n",
       "       [  0,   0,   0,   0,   0,   0,   0,   0,  75, 253, 253, 253, 237,\n",
       "         75,   0,   0,   0, 120, 253, 253, 253, 163,   0,   0,   0,   0,\n",
       "          0,   0],\n",
       "       [  0,   0,   0,   0,   0,   0,   0,  22, 195, 253, 253, 253,  94,\n",
       "          0,   0,   0,   0, 120, 253, 253, 253,  49,   0,   0,   0,   0,\n",
       "          0,   0],\n",
       "       [  0,   0,   0,   0,   0,   0,   0, 120, 253, 253, 253, 200,  24,\n",
       "          0,   0,   0,   0, 120, 253, 253, 253,  14,   0,   0,   0,   0,\n",
       "          0,   0],\n",
       "       [  0,   0,   0,   0,   0,   0,  16, 254, 254, 254, 254, 103,   0,\n",
       "          0,   0,   0,   0, 121, 254, 254, 254,  14,   0,   0,   0,   0,\n",
       "          0,   0],\n",
       "       [  0,   0,   0,   0,   0,   0,  15, 253, 253, 253, 141,   3,   0,\n",
       "          0,   0,   0,   0,  49, 236, 253, 253,  14,   0,   0,   0,   0,\n",
       "          0,   0],\n",
       "       [  0,   0,   0,   0,   0,   0, 113, 253, 253, 253, 119,   0,   0,\n",
       "          0,   0,   0,   0, 120, 253, 253, 253,  14,   0,   0,   0,   0,\n",
       "          0,   0],\n",
       "       [  0,   0,   0,   0,   0,   0, 164, 253, 253, 253, 119,   0,   0,\n",
       "          0,   0,   0,   0, 120, 253, 253, 253,  14,   0,   0,   0,   0,\n",
       "          0,   0],\n",
       "       [  0,   0,   0,   0,   0,   0, 164, 253, 253, 226,  14,   0,   0,\n",
       "          0,   0,  18,  84, 238, 253, 253, 213,  10,   0,   0,   0,   0,\n",
       "          0,   0],\n",
       "       [  0,   0,   0,   0,   0,   0, 164, 253, 253, 227,  15,   0,  24,\n",
       "         30, 181, 197, 253, 253, 253, 214,  35,   0,   0,   0,   0,   0,\n",
       "          0,   0],\n",
       "       [  0,   0,   0,   0,   0,   0, 164, 253, 253, 253, 190, 134, 226,\n",
       "        253, 254, 253, 253, 253, 253,  74,   0,   0,   0,   0,   0,   0,\n",
       "          0,   0],\n",
       "       [  0,   0,   0,   0,   0,   0, 164, 253, 253, 253, 253, 253, 253,\n",
       "        253, 255, 253, 253, 210, 120,   4,   0,   0,   0,   0,   0,   0,\n",
       "          0,   0],\n",
       "       [  0,   0,   0,   0,   0,   0,  50, 253, 253, 253, 253, 253, 253,\n",
       "        253, 254, 242, 199,  31,   0,   0,   0,   0,   0,   0,   0,   0,\n",
       "          0,   0],\n",
       "       [  0,   0,   0,   0,   0,   0,   7, 104, 147, 253, 253, 253, 253,\n",
       "        164, 105,  80,   0,   0,   0,   0,   0,   0,   0,   0,   0,   0,\n",
       "          0,   0],\n",
       "       [  0,   0,   0,   0,   0,   0,   0,   0,   0,   0,   0,   0,   0,\n",
       "          0,   0,   0,   0,   0,   0,   0,   0,   0,   0,   0,   0,   0,\n",
       "          0,   0],\n",
       "       [  0,   0,   0,   0,   0,   0,   0,   0,   0,   0,   0,   0,   0,\n",
       "          0,   0,   0,   0,   0,   0,   0,   0,   0,   0,   0,   0,   0,\n",
       "          0,   0],\n",
       "       [  0,   0,   0,   0,   0,   0,   0,   0,   0,   0,   0,   0,   0,\n",
       "          0,   0,   0,   0,   0,   0,   0,   0,   0,   0,   0,   0,   0,\n",
       "          0,   0],\n",
       "       [  0,   0,   0,   0,   0,   0,   0,   0,   0,   0,   0,   0,   0,\n",
       "          0,   0,   0,   0,   0,   0,   0,   0,   0,   0,   0,   0,   0,\n",
       "          0,   0]], dtype=uint8)"
      ]
     },
     "execution_count": 50,
     "metadata": {},
     "output_type": "execute_result"
    }
   ],
   "source": [
    "# 33003번에 있는 x데이터 다 가져와라\n",
    "# 작은 배열 안에 28개가 들어감 (그림으로 되어있음)\n",
    "# 픽셀 하나가 28개씩 들어가있음\n",
    "\n",
    "img = x_train[random_num, :]\n",
    "img"
   ]
  },
  {
   "cell_type": "code",
   "execution_count": 51,
   "metadata": {},
   "outputs": [
    {
     "data": {
      "text/plain": [
       "0"
      ]
     },
     "execution_count": 51,
     "metadata": {},
     "output_type": "execute_result"
    }
   ],
   "source": [
    "# 이 그림을 0으로 부른다 (y값이 라벨)\n",
    "\n",
    "label = y_train[random_num]\n",
    "label"
   ]
  },
  {
   "cell_type": "code",
   "execution_count": 52,
   "metadata": {},
   "outputs": [
    {
     "data": {
      "text/plain": [
       "Text(0.5, 1.0, '0 (index: 33003)')"
      ]
     },
     "execution_count": 52,
     "metadata": {},
     "output_type": "execute_result"
    },
    {
     "data": {
      "image/png": "[encoded data removed]",
      "text/plain": [
       "<Figure size 640x480 with 1 Axes>"
      ]
     },
     "metadata": {},
     "output_type": "display_data"
    }
   ],
   "source": [
    "plt.figure()\n",
    "plt.imshow(img)\n",
    "plt.title(f\"{label} (index: {random_num})\", fontsize=15)"
   ]
  },
  {
   "cell_type": "code",
   "execution_count": 53,
   "metadata": {},
   "outputs": [
    {
     "data": {
      "text/plain": [
       "Text(0.5, 1.0, '7 (index: 0)')"
      ]
     },
     "execution_count": 53,
     "metadata": {},
     "output_type": "execute_result"
    },
    {
     "data": {
      "image/png": "[encoded data removed]",
      "text/plain": [
       "<Figure size 640x480 with 1 Axes>"
      ]
     },
     "metadata": {},
     "output_type": "display_data"
    }
   ],
   "source": [
    "plt.figure()\n",
    "plt.imshow(x_test[0, :])\n",
    "plt.title(f\"{y_test[0]} (index: 0)\", fontsize=15)"
   ]
  },
  {
   "cell_type": "code",
   "execution_count": 54,
   "metadata": {},
   "outputs": [
    {
     "name": "stdout",
     "output_type": "stream",
     "text": [
      "   0   0   0   0   0   0   0   0   0   0   0   0   0   0   0   0   0   0   0   0   0   0   0   0   0   0   0   0\n",
      "   0   0   0   0   0   0   0   0   0   0   0   0   0   0   0   0   0   0   0   0   0   0   0   0   0   0   0   0\n",
      "   0   0   0   0   0   0   0   0   0   0   0   0   0   0   0   0   0   0   0   0   0   0   0   0   0   0   0   0\n",
      "   0   0   0   0   0   0   0   0   0   0   0   0   0   0   0   0   0   0   0   0   0   0   0   0   0   0   0   0\n",
      "   0   0   0   0   0   0   0   0   0   0   0   0   0   0   0   0   0   0   0   0   0   0   0   0   0   0   0   0\n",
      "   0   0   0   0   0   0   0   0   0   0   0   0   0   0   0   0   0   0   0   0   0   0   0   0   0   0   0   0\n",
      "   0   0   0   0   0   0   0   0   0   0   0   0   0   0   0   0   0   0   0   0   0   0   0   0   0   0   0   0\n",
      "   0   0   0   0   0   0  84 185 159 151  60  36   0   0   0   0   0   0   0   0   0   0   0   0   0   0   0   0\n",
      "   0   0   0   0   0   0 222 254 254 254 254 241 198 198 198 198 198 198 198 198 170  52   0   0   0   0   0   0\n",
      "   0   0   0   0   0   0  67 114  72 114 163 227 254 225 254 254 254 250 229 254 254 140   0   0   0   0   0   0\n",
      "   0   0   0   0   0   0   0   0   0   0   0  17  66  14  67  67  67  59  21 236 254 106   0   0   0   0   0   0\n",
      "   0   0   0   0   0   0   0   0   0   0   0   0   0   0   0   0   0   0  83 253 209  18   0   0   0   0   0   0\n",
      "   0   0   0   0   0   0   0   0   0   0   0   0   0   0   0   0   0  22 233 255  83   0   0   0   0   0   0   0\n",
      "   0   0   0   0   0   0   0   0   0   0   0   0   0   0   0   0   0 129 254 238  44   0   0   0   0   0   0   0\n",
      "   0   0   0   0   0   0   0   0   0   0   0   0   0   0   0   0  59 249 254  62   0   0   0   0   0   0   0   0\n",
      "   0   0   0   0   0   0   0   0   0   0   0   0   0   0   0   0 133 254 187   5   0   0   0   0   0   0   0   0\n",
      "   0   0   0   0   0   0   0   0   0   0   0   0   0   0   0   9 205 248  58   0   0   0   0   0   0   0   0   0\n",
      "   0   0   0   0   0   0   0   0   0   0   0   0   0   0   0 126 254 182   0   0   0   0   0   0   0   0   0   0\n",
      "   0   0   0   0   0   0   0   0   0   0   0   0   0   0  75 251 240  57   0   0   0   0   0   0   0   0   0   0\n",
      "   0   0   0   0   0   0   0   0   0   0   0   0   0  19 221 254 166   0   0   0   0   0   0   0   0   0   0   0\n",
      "   0   0   0   0   0   0   0   0   0   0   0   0   3 203 254 219  35   0   0   0   0   0   0   0   0   0   0   0\n",
      "   0   0   0   0   0   0   0   0   0   0   0   0  38 254 254  77   0   0   0   0   0   0   0   0   0   0   0   0\n",
      "   0   0   0   0   0   0   0   0   0   0   0  31 224 254 115   1   0   0   0   0   0   0   0   0   0   0   0   0\n",
      "   0   0   0   0   0   0   0   0   0   0   0 133 254 254  52   0   0   0   0   0   0   0   0   0   0   0   0   0\n",
      "   0   0   0   0   0   0   0   0   0   0  61 242 254 254  52   0   0   0   0   0   0   0   0   0   0   0   0   0\n",
      "   0   0   0   0   0   0   0   0   0   0 121 254 254 219  40   0   0   0   0   0   0   0   0   0   0   0   0   0\n",
      "   0   0   0   0   0   0   0   0   0   0 121 254 207  18   0   0   0   0   0   0   0   0   0   0   0   0   0   0\n",
      "   0   0   0   0   0   0   0   0   0   0   0   0   0   0   0   0   0   0   0   0   0   0   0   0   0   0   0   0\n"
     ]
    }
   ],
   "source": [
    "# 글자가 연할수록 색이 밝을수록 255에 가까워짐\n",
    "# f\"{j:4}\" : 4칸 채워라 (간격을 넓히도록)\n",
    "\n",
    "for i in x_test[0]:\n",
    "    for j in i:\n",
    "        print(f\"{j:4}\", end=\"\")\n",
    "    print()"
   ]
  },
  {
   "cell_type": "code",
   "execution_count": 55,
   "metadata": {},
   "outputs": [],
   "source": [
    "from sklearn.model_selection import train_test_split"
   ]
  },
  {
   "cell_type": "code",
   "execution_count": 56,
   "metadata": {},
   "outputs": [],
   "source": [
    "x_train, x_val, y_train, y_val = train_test_split(x_train, y_train, test_size=0.3, random_state=1)"
   ]
  },
  {
   "cell_type": "code",
   "execution_count": 57,
   "metadata": {},
   "outputs": [
    {
     "name": "stdout",
     "output_type": "stream",
     "text": [
      "42000\n",
      "18000\n",
      "10000\n"
     ]
    }
   ],
   "source": [
    "num_x_train = x_train.shape[0]\n",
    "num_x_val = x_val.shape[0]\n",
    "num_x_test = x_test.shape[0]\n",
    "\n",
    "print(num_x_train)\n",
    "print(num_x_val)\n",
    "print(num_x_test)"
   ]
  },
  {
   "cell_type": "code",
   "execution_count": 84,
   "metadata": {},
   "outputs": [
    {
     "name": "stdout",
     "output_type": "stream",
     "text": [
      "[[[0 0 0 ... 0 0 0]\n",
      "  [0 0 0 ... 0 0 0]\n",
      "  [0 0 0 ... 0 0 0]\n",
      "  ...\n",
      "  [0 0 0 ... 0 0 0]\n",
      "  [0 0 0 ... 0 0 0]\n",
      "  [0 0 0 ... 0 0 0]]\n",
      "\n",
      " [[0 0 0 ... 0 0 0]\n",
      "  [0 0 0 ... 0 0 0]\n",
      "  [0 0 0 ... 0 0 0]\n",
      "  ...\n",
      "  [0 0 0 ... 0 0 0]\n",
      "  [0 0 0 ... 0 0 0]\n",
      "  [0 0 0 ... 0 0 0]]\n",
      "\n",
      " [[0 0 0 ... 0 0 0]\n",
      "  [0 0 0 ... 0 0 0]\n",
      "  [0 0 0 ... 0 0 0]\n",
      "  ...\n",
      "  [0 0 0 ... 0 0 0]\n",
      "  [0 0 0 ... 0 0 0]\n",
      "  [0 0 0 ... 0 0 0]]\n",
      "\n",
      " ...\n",
      "\n",
      " [[0 0 0 ... 0 0 0]\n",
      "  [0 0 0 ... 0 0 0]\n",
      "  [0 0 0 ... 0 0 0]\n",
      "  ...\n",
      "  [0 0 0 ... 0 0 0]\n",
      "  [0 0 0 ... 0 0 0]\n",
      "  [0 0 0 ... 0 0 0]]\n",
      "\n",
      " [[0 0 0 ... 0 0 0]\n",
      "  [0 0 0 ... 0 0 0]\n",
      "  [0 0 0 ... 0 0 0]\n",
      "  ...\n",
      "  [0 0 0 ... 0 0 0]\n",
      "  [0 0 0 ... 0 0 0]\n",
      "  [0 0 0 ... 0 0 0]]\n",
      "\n",
      " [[0 0 0 ... 0 0 0]\n",
      "  [0 0 0 ... 0 0 0]\n",
      "  [0 0 0 ... 0 0 0]\n",
      "  ...\n",
      "  [0 0 0 ... 0 0 0]\n",
      "  [0 0 0 ... 0 0 0]\n",
      "  [0 0 0 ... 0 0 0]]]\n"
     ]
    }
   ],
   "source": [
    "print(x_train)"
   ]
  },
  {
   "cell_type": "code",
   "execution_count": 58,
   "metadata": {},
   "outputs": [],
   "source": [
    "# 스케일링\n",
    "# shape 변경 (컴퓨터가 알아들을 수 있는 형태로 변경해야 함) \n",
    "# flatten (한 줄로 쭉 다 만듦)\n",
    "# 가로세로 28인 데이터가 6만개 들어있음\n",
    "# [[0, 0, 0, 0, 0,... 0], [0, 0, 0, 1,0 0,]] 이게 그림 하나인데, 이게 6만개 들어있음\n",
    "# 1 * 784로 바꾼 게 6만개가 있어야 함\n",
    "\n",
    "# x가 784개인 걸로 바꿔서 학습 시키고, 0~9까지 잘 분류할 수 있는지\n",
    "\n",
    "x_train_scale = (x_train / 255.0).reshape(num_x_train, 28 * 28)\n",
    "x_val_scale = (x_val / 255.0).reshape(num_x_val, 28 * 28)\n",
    "x_test_scale = (x_test / 255.0).reshape(num_x_test, 28 * 28)\n"
   ]
  },
  {
   "cell_type": "code",
   "execution_count": 59,
   "metadata": {},
   "outputs": [
    {
     "name": "stdout",
     "output_type": "stream",
     "text": [
      "(42000, 784)\n",
      "(18000, 784)\n",
      "(10000, 784)\n"
     ]
    }
   ],
   "source": [
    "print(x_train_scale.shape)\n",
    "print(x_val_scale.shape)\n",
    "print(x_test_scale.shape)"
   ]
  },
  {
   "cell_type": "code",
   "execution_count": 60,
   "metadata": {},
   "outputs": [],
   "source": [
    "from tensorflow.keras.utils import to_categorical"
   ]
  },
  {
   "cell_type": "code",
   "execution_count": 61,
   "metadata": {},
   "outputs": [],
   "source": [
    "# to_categorical : 카텔고리로 만들어주는 것 (원핫인코딩)\n",
    "\n",
    "y_train_cate = to_categorical(y_train)\n",
    "y_val_cate = to_categorical(y_val)\n",
    "y_test_cate = to_categorical(y_test)"
   ]
  },
  {
   "cell_type": "code",
   "execution_count": 62,
   "metadata": {},
   "outputs": [
    {
     "name": "stdout",
     "output_type": "stream",
     "text": [
      "(42000, 10)\n",
      "(18000, 10)\n",
      "(10000, 10)\n"
     ]
    }
   ],
   "source": [
    "print(y_train_cate.shape)\n",
    "print(y_val_cate.shape)\n",
    "print(y_test_cate.shape)"
   ]
  },
  {
   "cell_type": "code",
   "execution_count": 63,
   "metadata": {},
   "outputs": [
    {
     "data": {
      "text/plain": [
       "array([0., 0., 1., 0., 0., 0., 0., 0., 0., 0.], dtype=float32)"
      ]
     },
     "execution_count": 63,
     "metadata": {},
     "output_type": "execute_result"
    }
   ],
   "source": [
    "y_train_cate[0]"
   ]
  },
  {
   "cell_type": "code",
   "execution_count": 64,
   "metadata": {},
   "outputs": [],
   "source": [
    "# 모델 준비\n",
    "\n",
    "from tensorflow.keras.models import Sequential\n",
    "from tensorflow.keras.layers import Dense"
   ]
  },
  {
   "cell_type": "code",
   "execution_count": 65,
   "metadata": {},
   "outputs": [],
   "source": [
    "model = Sequential()"
   ]
  },
  {
   "cell_type": "code",
   "execution_count": 66,
   "metadata": {},
   "outputs": [],
   "source": [
    "# x 피쳐가 784개니까\n",
    "model.add(Dense(8, input_shape=(784, ), activation=\"relu\"))\n",
    "\n",
    "# hidden layer\n",
    "# 이후에는 input 생략 가능함\n",
    "model.add(Dense(64, activation=\"relu\"))\n",
    "model.add(Dense(32, activation=\"relu\"))\n",
    "\n",
    "# output layer\n",
    "# y를 원핫인코딩 해두었기 때문에 10개 중에 하나\n",
    "# 0일 확률 ~ 9일 확률까지 총 10개가 나옴\n",
    "# 분류니까 소프트맥스(softmax)\n",
    "model.add(Dense(10, activation=\"softmax\"))"
   ]
  },
  {
   "cell_type": "code",
   "execution_count": 67,
   "metadata": {},
   "outputs": [],
   "source": [
    "# 나머지 추가\n",
    "model.compile(optimizer=\"adam\", loss=\"categorical_crossentropy\", metrics=[\"acc\"])\n"
   ]
  },
  {
   "cell_type": "code",
   "execution_count": 68,
   "metadata": {},
   "outputs": [
    {
     "name": "stdout",
     "output_type": "stream",
     "text": [
      "Model: \"sequential_1\"\n",
      "_________________________________________________________________\n",
      " Layer (type)                Output Shape              Param #   \n",
      "=================================================================\n",
      " dense_4 (Dense)             (None, 8)                 6280      \n",
      "                                                                 \n",
      " dense_5 (Dense)             (None, 64)                576       \n",
      "                                                                 \n",
      " dense_6 (Dense)             (None, 32)                2080      \n",
      "                                                                 \n",
      " dense_7 (Dense)             (None, 10)                330       \n",
      "                                                                 \n",
      "=================================================================\n",
      "Total params: 9266 (36.20 KB)\n",
      "Trainable params: 9266 (36.20 KB)\n",
      "Non-trainable params: 0 (0.00 Byte)\n",
      "_________________________________________________________________\n"
     ]
    }
   ],
   "source": [
    "model.summary()\n",
    "\n",
    "# 왜 Param #이 6280개인가?\n",
    "# (x : 784) * (perseptron : 8) + (b : 8) (퍼셉트론 하나 당 b도 1개) \n",
    "# 그래서 총 6280개"
   ]
  },
  {
   "cell_type": "code",
   "execution_count": 69,
   "metadata": {},
   "outputs": [],
   "source": [
    "from tensorflow.keras.utils import plot_model"
   ]
  },
  {
   "cell_type": "code",
   "execution_count": 70,
   "metadata": {},
   "outputs": [
    {
     "data": {
      "image/png": "[encoded data removed]",
      "text/plain": [
       "<IPython.core.display.Image object>"
      ]
     },
     "execution_count": 70,
     "metadata": {},
     "output_type": "execute_result"
    }
   ],
   "source": [
    "# pydot, graphbiz 있어야 한다!\n",
    "\n",
    "plot_model(model, show_shapes=True)"
   ]
  },
  {
   "cell_type": "code",
   "execution_count": 71,
   "metadata": {},
   "outputs": [],
   "source": [
    "# %conda install pydot"
   ]
  },
  {
   "cell_type": "code",
   "execution_count": 72,
   "metadata": {},
   "outputs": [
    {
     "name": "stdout",
     "output_type": "stream",
     "text": [
      "Epoch 1/100\n",
      "420/420 [==============================] - 2s 3ms/step - loss: 0.7772 - acc: 0.7477 - val_loss: 0.3654 - val_acc: 0.8921\n",
      "Epoch 2/100\n",
      "420/420 [==============================] - 1s 3ms/step - loss: 0.3140 - acc: 0.9066 - val_loss: 0.2862 - val_acc: 0.9148\n",
      "Epoch 3/100\n",
      "420/420 [==============================] - 1s 2ms/step - loss: 0.2568 - acc: 0.9255 - val_loss: 0.2549 - val_acc: 0.9254\n",
      "Epoch 4/100\n",
      "420/420 [==============================] - 1s 2ms/step - loss: 0.2295 - acc: 0.9311 - val_loss: 0.2417 - val_acc: 0.9296\n",
      "Epoch 5/100\n",
      "420/420 [==============================] - 1s 2ms/step - loss: 0.2138 - acc: 0.9370 - val_loss: 0.2283 - val_acc: 0.9344\n",
      "Epoch 6/100\n",
      "420/420 [==============================] - 1s 3ms/step - loss: 0.2017 - acc: 0.9394 - val_loss: 0.2214 - val_acc: 0.9349\n",
      "Epoch 7/100\n",
      "420/420 [==============================] - 1s 3ms/step - loss: 0.1914 - acc: 0.9429 - val_loss: 0.2119 - val_acc: 0.9378\n",
      "Epoch 8/100\n",
      "420/420 [==============================] - 1s 3ms/step - loss: 0.1829 - acc: 0.9446 - val_loss: 0.2113 - val_acc: 0.9381\n",
      "Epoch 9/100\n",
      "420/420 [==============================] - 1s 3ms/step - loss: 0.1773 - acc: 0.9461 - val_loss: 0.2090 - val_acc: 0.9378\n",
      "Epoch 10/100\n",
      "420/420 [==============================] - 1s 3ms/step - loss: 0.1716 - acc: 0.9479 - val_loss: 0.2103 - val_acc: 0.9369\n",
      "Epoch 11/100\n",
      "420/420 [==============================] - 1s 3ms/step - loss: 0.1653 - acc: 0.9492 - val_loss: 0.2043 - val_acc: 0.9409\n",
      "Epoch 12/100\n",
      "420/420 [==============================] - 1s 3ms/step - loss: 0.1616 - acc: 0.9499 - val_loss: 0.1966 - val_acc: 0.9423\n",
      "Epoch 13/100\n",
      "420/420 [==============================] - 1s 3ms/step - loss: 0.1559 - acc: 0.9525 - val_loss: 0.2073 - val_acc: 0.9372\n",
      "Epoch 14/100\n",
      "420/420 [==============================] - 1s 3ms/step - loss: 0.1533 - acc: 0.9513 - val_loss: 0.2004 - val_acc: 0.9391\n",
      "Epoch 15/100\n",
      "420/420 [==============================] - 1s 3ms/step - loss: 0.1513 - acc: 0.9542 - val_loss: 0.2062 - val_acc: 0.9378\n",
      "Epoch 16/100\n",
      "420/420 [==============================] - 1s 3ms/step - loss: 0.1478 - acc: 0.9532 - val_loss: 0.1976 - val_acc: 0.9418\n",
      "Epoch 17/100\n",
      "420/420 [==============================] - 1s 3ms/step - loss: 0.1451 - acc: 0.9545 - val_loss: 0.1964 - val_acc: 0.9440\n",
      "Epoch 18/100\n",
      "420/420 [==============================] - 1s 3ms/step - loss: 0.1426 - acc: 0.9555 - val_loss: 0.2061 - val_acc: 0.9393\n",
      "Epoch 19/100\n",
      "420/420 [==============================] - 1s 3ms/step - loss: 0.1403 - acc: 0.9565 - val_loss: 0.1949 - val_acc: 0.9423\n",
      "Epoch 20/100\n",
      "420/420 [==============================] - 1s 3ms/step - loss: 0.1365 - acc: 0.9579 - val_loss: 0.1957 - val_acc: 0.9414\n",
      "Epoch 21/100\n",
      "420/420 [==============================] - 1s 3ms/step - loss: 0.1353 - acc: 0.9576 - val_loss: 0.1941 - val_acc: 0.9422\n",
      "Epoch 22/100\n",
      "420/420 [==============================] - 1s 3ms/step - loss: 0.1316 - acc: 0.9588 - val_loss: 0.1957 - val_acc: 0.9420\n",
      "Epoch 23/100\n",
      "420/420 [==============================] - 1s 3ms/step - loss: 0.1286 - acc: 0.9598 - val_loss: 0.1957 - val_acc: 0.9431\n",
      "Epoch 24/100\n",
      "420/420 [==============================] - 1s 3ms/step - loss: 0.1290 - acc: 0.9595 - val_loss: 0.1932 - val_acc: 0.9439\n",
      "Epoch 25/100\n",
      "420/420 [==============================] - 1s 3ms/step - loss: 0.1275 - acc: 0.9599 - val_loss: 0.1964 - val_acc: 0.9436\n",
      "Epoch 26/100\n",
      "420/420 [==============================] - 1s 3ms/step - loss: 0.1262 - acc: 0.9607 - val_loss: 0.2033 - val_acc: 0.9419\n",
      "Epoch 27/100\n",
      "420/420 [==============================] - 1s 3ms/step - loss: 0.1252 - acc: 0.9609 - val_loss: 0.1997 - val_acc: 0.9419\n",
      "Epoch 28/100\n",
      "420/420 [==============================] - 1s 3ms/step - loss: 0.1205 - acc: 0.9625 - val_loss: 0.1979 - val_acc: 0.9444\n",
      "Epoch 29/100\n",
      "420/420 [==============================] - 1s 3ms/step - loss: 0.1226 - acc: 0.9611 - val_loss: 0.2080 - val_acc: 0.9415\n",
      "Epoch 30/100\n",
      "420/420 [==============================] - 1s 3ms/step - loss: 0.1182 - acc: 0.9630 - val_loss: 0.2047 - val_acc: 0.9412\n",
      "Epoch 31/100\n",
      "420/420 [==============================] - 1s 3ms/step - loss: 0.1183 - acc: 0.9634 - val_loss: 0.1952 - val_acc: 0.9446\n",
      "Epoch 32/100\n",
      "420/420 [==============================] - 1s 3ms/step - loss: 0.1172 - acc: 0.9634 - val_loss: 0.1999 - val_acc: 0.9432\n",
      "Epoch 33/100\n",
      "420/420 [==============================] - 1s 3ms/step - loss: 0.1147 - acc: 0.9639 - val_loss: 0.2024 - val_acc: 0.9439\n",
      "Epoch 34/100\n",
      "420/420 [==============================] - 1s 3ms/step - loss: 0.1137 - acc: 0.9645 - val_loss: 0.2048 - val_acc: 0.9433\n",
      "Epoch 35/100\n",
      "420/420 [==============================] - 1s 3ms/step - loss: 0.1127 - acc: 0.9650 - val_loss: 0.2017 - val_acc: 0.9428\n",
      "Epoch 36/100\n",
      "420/420 [==============================] - 1s 3ms/step - loss: 0.1132 - acc: 0.9648 - val_loss: 0.2023 - val_acc: 0.9426\n",
      "Epoch 37/100\n",
      "420/420 [==============================] - 1s 3ms/step - loss: 0.1099 - acc: 0.9650 - val_loss: 0.2156 - val_acc: 0.9394\n",
      "Epoch 38/100\n",
      "420/420 [==============================] - 1s 3ms/step - loss: 0.1087 - acc: 0.9651 - val_loss: 0.2132 - val_acc: 0.9429\n",
      "Epoch 39/100\n",
      "420/420 [==============================] - 1s 3ms/step - loss: 0.1073 - acc: 0.9660 - val_loss: 0.2012 - val_acc: 0.9441\n",
      "Epoch 40/100\n",
      "420/420 [==============================] - 1s 3ms/step - loss: 0.1066 - acc: 0.9660 - val_loss: 0.2215 - val_acc: 0.9402\n",
      "Epoch 41/100\n",
      "420/420 [==============================] - 1s 3ms/step - loss: 0.1080 - acc: 0.9653 - val_loss: 0.2166 - val_acc: 0.9410\n",
      "Epoch 42/100\n",
      "420/420 [==============================] - 1s 3ms/step - loss: 0.1045 - acc: 0.9670 - val_loss: 0.2079 - val_acc: 0.9421\n",
      "Epoch 43/100\n",
      "420/420 [==============================] - 1s 3ms/step - loss: 0.1041 - acc: 0.9677 - val_loss: 0.2076 - val_acc: 0.9428\n",
      "Epoch 44/100\n",
      "420/420 [==============================] - 1s 3ms/step - loss: 0.1030 - acc: 0.9678 - val_loss: 0.2073 - val_acc: 0.9443\n",
      "Epoch 45/100\n",
      "420/420 [==============================] - 1s 3ms/step - loss: 0.1020 - acc: 0.9683 - val_loss: 0.2069 - val_acc: 0.9437\n",
      "Epoch 46/100\n",
      "420/420 [==============================] - 1s 3ms/step - loss: 0.1006 - acc: 0.9690 - val_loss: 0.2227 - val_acc: 0.9409\n",
      "Epoch 47/100\n",
      "420/420 [==============================] - 1s 3ms/step - loss: 0.0996 - acc: 0.9683 - val_loss: 0.2087 - val_acc: 0.9431\n",
      "Epoch 48/100\n",
      "420/420 [==============================] - 1s 3ms/step - loss: 0.0984 - acc: 0.9685 - val_loss: 0.2212 - val_acc: 0.9428\n",
      "Epoch 49/100\n",
      "420/420 [==============================] - 1s 3ms/step - loss: 0.0983 - acc: 0.9690 - val_loss: 0.2124 - val_acc: 0.9424\n",
      "Epoch 50/100\n",
      "420/420 [==============================] - 1s 3ms/step - loss: 0.0992 - acc: 0.9685 - val_loss: 0.2166 - val_acc: 0.9423\n",
      "Epoch 51/100\n",
      "420/420 [==============================] - 1s 3ms/step - loss: 0.0960 - acc: 0.9685 - val_loss: 0.2327 - val_acc: 0.9397\n",
      "Epoch 52/100\n",
      "420/420 [==============================] - 1s 3ms/step - loss: 0.0958 - acc: 0.9692 - val_loss: 0.2173 - val_acc: 0.9427\n",
      "Epoch 53/100\n",
      "420/420 [==============================] - 1s 3ms/step - loss: 0.0943 - acc: 0.9706 - val_loss: 0.2216 - val_acc: 0.9414\n",
      "Epoch 54/100\n",
      "420/420 [==============================] - 1s 3ms/step - loss: 0.0939 - acc: 0.9702 - val_loss: 0.2278 - val_acc: 0.9411\n",
      "Epoch 55/100\n",
      "420/420 [==============================] - 1s 3ms/step - loss: 0.0937 - acc: 0.9700 - val_loss: 0.2214 - val_acc: 0.9432\n",
      "Epoch 56/100\n",
      "420/420 [==============================] - 1s 3ms/step - loss: 0.0930 - acc: 0.9707 - val_loss: 0.2224 - val_acc: 0.9431\n",
      "Epoch 57/100\n",
      "420/420 [==============================] - 1s 3ms/step - loss: 0.0921 - acc: 0.9717 - val_loss: 0.2354 - val_acc: 0.9389\n",
      "Epoch 58/100\n",
      "420/420 [==============================] - 1s 3ms/step - loss: 0.0911 - acc: 0.9715 - val_loss: 0.2287 - val_acc: 0.9394\n",
      "Epoch 59/100\n",
      "420/420 [==============================] - 1s 3ms/step - loss: 0.0926 - acc: 0.9695 - val_loss: 0.2350 - val_acc: 0.9398\n",
      "Epoch 60/100\n",
      "420/420 [==============================] - 1s 3ms/step - loss: 0.0899 - acc: 0.9712 - val_loss: 0.2360 - val_acc: 0.9398\n",
      "Epoch 61/100\n",
      "420/420 [==============================] - 1s 3ms/step - loss: 0.0887 - acc: 0.9715 - val_loss: 0.2217 - val_acc: 0.9437\n",
      "Epoch 62/100\n",
      "420/420 [==============================] - 1s 3ms/step - loss: 0.0874 - acc: 0.9721 - val_loss: 0.2323 - val_acc: 0.9408\n",
      "Epoch 63/100\n",
      "420/420 [==============================] - 1s 3ms/step - loss: 0.0885 - acc: 0.9718 - val_loss: 0.2277 - val_acc: 0.9415\n",
      "Epoch 64/100\n",
      "420/420 [==============================] - 1s 3ms/step - loss: 0.0867 - acc: 0.9722 - val_loss: 0.2293 - val_acc: 0.9417\n",
      "Epoch 65/100\n",
      "420/420 [==============================] - 1s 3ms/step - loss: 0.0867 - acc: 0.9717 - val_loss: 0.2420 - val_acc: 0.9393\n",
      "Epoch 66/100\n",
      "420/420 [==============================] - 1s 3ms/step - loss: 0.0862 - acc: 0.9723 - val_loss: 0.2377 - val_acc: 0.9381\n",
      "Epoch 67/100\n",
      "420/420 [==============================] - 1s 3ms/step - loss: 0.0847 - acc: 0.9734 - val_loss: 0.2308 - val_acc: 0.9416\n",
      "Epoch 68/100\n",
      "420/420 [==============================] - 1s 3ms/step - loss: 0.0845 - acc: 0.9730 - val_loss: 0.2278 - val_acc: 0.9408\n",
      "Epoch 69/100\n",
      "420/420 [==============================] - 1s 3ms/step - loss: 0.0825 - acc: 0.9730 - val_loss: 0.2306 - val_acc: 0.9407\n",
      "Epoch 70/100\n",
      "420/420 [==============================] - 1s 3ms/step - loss: 0.0835 - acc: 0.9732 - val_loss: 0.2335 - val_acc: 0.9418\n",
      "Epoch 71/100\n",
      "420/420 [==============================] - 1s 3ms/step - loss: 0.0820 - acc: 0.9737 - val_loss: 0.2358 - val_acc: 0.9422\n",
      "Epoch 72/100\n",
      "420/420 [==============================] - 1s 3ms/step - loss: 0.0828 - acc: 0.9736 - val_loss: 0.2330 - val_acc: 0.9414\n",
      "Epoch 73/100\n",
      "420/420 [==============================] - 1s 3ms/step - loss: 0.0822 - acc: 0.9731 - val_loss: 0.2382 - val_acc: 0.9417\n",
      "Epoch 74/100\n",
      "420/420 [==============================] - 1s 3ms/step - loss: 0.0817 - acc: 0.9738 - val_loss: 0.2392 - val_acc: 0.9388\n",
      "Epoch 75/100\n",
      "420/420 [==============================] - 1s 3ms/step - loss: 0.0789 - acc: 0.9745 - val_loss: 0.2386 - val_acc: 0.9418\n",
      "Epoch 76/100\n",
      "420/420 [==============================] - 1s 3ms/step - loss: 0.0773 - acc: 0.9745 - val_loss: 0.2514 - val_acc: 0.9398\n",
      "Epoch 77/100\n",
      "420/420 [==============================] - 1s 3ms/step - loss: 0.0794 - acc: 0.9742 - val_loss: 0.2436 - val_acc: 0.9389\n",
      "Epoch 78/100\n",
      "420/420 [==============================] - 1s 3ms/step - loss: 0.0773 - acc: 0.9750 - val_loss: 0.2480 - val_acc: 0.9384\n",
      "Epoch 79/100\n",
      "420/420 [==============================] - 1s 3ms/step - loss: 0.0797 - acc: 0.9747 - val_loss: 0.2415 - val_acc: 0.9413\n",
      "Epoch 80/100\n",
      "420/420 [==============================] - 1s 3ms/step - loss: 0.0763 - acc: 0.9753 - val_loss: 0.2484 - val_acc: 0.9413\n",
      "Epoch 81/100\n",
      "420/420 [==============================] - 1s 3ms/step - loss: 0.0778 - acc: 0.9747 - val_loss: 0.2475 - val_acc: 0.9409\n",
      "Epoch 82/100\n",
      "420/420 [==============================] - 1s 3ms/step - loss: 0.0778 - acc: 0.9750 - val_loss: 0.2460 - val_acc: 0.9411\n",
      "Epoch 83/100\n",
      "420/420 [==============================] - 1s 3ms/step - loss: 0.0751 - acc: 0.9759 - val_loss: 0.2464 - val_acc: 0.9414\n",
      "Epoch 84/100\n",
      "420/420 [==============================] - 1s 3ms/step - loss: 0.0764 - acc: 0.9755 - val_loss: 0.2522 - val_acc: 0.9386\n",
      "Epoch 85/100\n",
      "420/420 [==============================] - 1s 3ms/step - loss: 0.0741 - acc: 0.9757 - val_loss: 0.2588 - val_acc: 0.9385\n",
      "Epoch 86/100\n",
      "420/420 [==============================] - 1s 3ms/step - loss: 0.0756 - acc: 0.9751 - val_loss: 0.2637 - val_acc: 0.9366\n",
      "Epoch 87/100\n",
      "420/420 [==============================] - 1s 3ms/step - loss: 0.0761 - acc: 0.9750 - val_loss: 0.2517 - val_acc: 0.9415\n",
      "Epoch 88/100\n",
      "420/420 [==============================] - 1s 3ms/step - loss: 0.0742 - acc: 0.9760 - val_loss: 0.2609 - val_acc: 0.9402\n",
      "Epoch 89/100\n",
      "420/420 [==============================] - 1s 3ms/step - loss: 0.0737 - acc: 0.9761 - val_loss: 0.2551 - val_acc: 0.9412\n",
      "Epoch 90/100\n",
      "420/420 [==============================] - 1s 3ms/step - loss: 0.0722 - acc: 0.9767 - val_loss: 0.2578 - val_acc: 0.9403\n",
      "Epoch 91/100\n",
      "420/420 [==============================] - 1s 3ms/step - loss: 0.0719 - acc: 0.9764 - val_loss: 0.2554 - val_acc: 0.9404\n",
      "Epoch 92/100\n",
      "420/420 [==============================] - 1s 3ms/step - loss: 0.0717 - acc: 0.9767 - val_loss: 0.2628 - val_acc: 0.9389\n",
      "Epoch 93/100\n",
      "420/420 [==============================] - 1s 3ms/step - loss: 0.0716 - acc: 0.9767 - val_loss: 0.2687 - val_acc: 0.9392\n",
      "Epoch 94/100\n",
      "420/420 [==============================] - 1s 3ms/step - loss: 0.0706 - acc: 0.9775 - val_loss: 0.2657 - val_acc: 0.9397\n",
      "Epoch 95/100\n",
      "420/420 [==============================] - 1s 3ms/step - loss: 0.0697 - acc: 0.9774 - val_loss: 0.2692 - val_acc: 0.9391\n",
      "Epoch 96/100\n",
      "420/420 [==============================] - 1s 3ms/step - loss: 0.0697 - acc: 0.9775 - val_loss: 0.2854 - val_acc: 0.9372\n",
      "Epoch 97/100\n",
      "420/420 [==============================] - 1s 3ms/step - loss: 0.0680 - acc: 0.9775 - val_loss: 0.2651 - val_acc: 0.9397\n",
      "Epoch 98/100\n",
      "420/420 [==============================] - 1s 3ms/step - loss: 0.0696 - acc: 0.9774 - val_loss: 0.2718 - val_acc: 0.9382\n",
      "Epoch 99/100\n",
      "420/420 [==============================] - 1s 3ms/step - loss: 0.0707 - acc: 0.9765 - val_loss: 0.2805 - val_acc: 0.9369\n",
      "Epoch 100/100\n",
      "420/420 [==============================] - 1s 3ms/step - loss: 0.0689 - acc: 0.9779 - val_loss: 0.2826 - val_acc: 0.9391\n"
     ]
    }
   ],
   "source": [
    "# 만약 validation 셋이 따로 있다면 validation_data로 따로 넣을 수 있음\n",
    "result = model.fit(x_train_scale, y_train_cate, epochs=100, batch_size=100, validation_data=(x_val_scale, y_val_cate))"
   ]
  },
  {
   "cell_type": "code",
   "execution_count": 73,
   "metadata": {},
   "outputs": [],
   "source": [
    "result_dict = result.history"
   ]
  },
  {
   "cell_type": "code",
   "execution_count": 74,
   "metadata": {},
   "outputs": [],
   "source": [
    "loss = result_dict[\"loss\"]\n",
    "val_loss = result_dict[\"val_loss\"]\n",
    "\n",
    "acc = result_dict[\"acc\"]\n",
    "val_acc = result_dict[\"val_acc\"]"
   ]
  },
  {
   "cell_type": "code",
   "execution_count": 75,
   "metadata": {},
   "outputs": [
    {
     "data": {
      "text/plain": [
       "range(1, 101)"
      ]
     },
     "execution_count": 75,
     "metadata": {},
     "output_type": "execute_result"
    }
   ],
   "source": [
    "epochs = range(1, len(loss) + 1)\n",
    "epochs"
   ]
  },
  {
   "cell_type": "code",
   "execution_count": 76,
   "metadata": {},
   "outputs": [
    {
     "data": {
      "image/png": "[encoded data removed]",
      "text/plain": [
       "<Figure size 640x480 with 1 Axes>"
      ]
     },
     "metadata": {},
     "output_type": "display_data"
    }
   ],
   "source": [
    "plt.plot(epochs, loss, color=\"blue\", label=\"loss\")\n",
    "plt.plot(epochs, val_loss, color=\"red\", label=\"val_loss\")\n",
    "\n",
    "plt.xlabel(\"epochs\")\n",
    "plt.ylabel(\"loss\")\n",
    "plt.title(\"loss\")\n",
    "plt.legend()\n",
    "plt.show()\n",
    "\n",
    "# val_loss(검증셋)가 내려가다가 오히려 올라가고 있다\n",
    "# 과적합 되었다고 해석할 여지 있음\n",
    "# 20번만 학습하는 게 나을 수 있음"
   ]
  },
  {
   "cell_type": "code",
   "execution_count": 77,
   "metadata": {},
   "outputs": [
    {
     "data": {
      "image/png": "[encoded data removed]",
      "text/plain": [
       "<Figure size 640x480 with 1 Axes>"
      ]
     },
     "metadata": {},
     "output_type": "display_data"
    }
   ],
   "source": [
    "plt.plot(epochs, acc, color=\"blue\", label=\"loss\")\n",
    "plt.plot(epochs, val_acc, color=\"red\", label=\"val_acc\")\n",
    "\n",
    "plt.xlabel(\"epochs\")\n",
    "plt.ylabel(\"acc\")\n",
    "plt.title(\"acc\")\n",
    "plt.legend()\n",
    "plt.show()\n",
    "\n",
    "# 검증 데이터 셋은 20번 이후부터는 애매함 (검증해도 더이상 올라가지 않음)\n",
    "# 과적합 되었다고 판단할 수 있음"
   ]
  },
  {
   "cell_type": "code",
   "execution_count": 78,
   "metadata": {},
   "outputs": [
    {
     "name": "stdout",
     "output_type": "stream",
     "text": [
      "313/313 [==============================] - 1s 1ms/step - loss: 0.2702 - acc: 0.9415\n"
     ]
    },
    {
     "data": {
      "text/plain": [
       "[0.2702336311340332, 0.9415000081062317]"
      ]
     },
     "execution_count": 78,
     "metadata": {},
     "output_type": "execute_result"
    }
   ],
   "source": [
    "# 평가\n",
    "model.evaluate(x_test_scale, y_test_cate)\n",
    "\n",
    "# loss가 0.2 / acc가 0.9"
   ]
  },
  {
   "cell_type": "code",
   "execution_count": 79,
   "metadata": {},
   "outputs": [
    {
     "name": "stdout",
     "output_type": "stream",
     "text": [
      "313/313 [==============================] - 0s 1ms/step\n",
      "(10000, 10)\n"
     ]
    }
   ],
   "source": [
    "predict = model.predict(x_test_scale)\n",
    "print(predict.shape)"
   ]
  },
  {
   "cell_type": "code",
   "execution_count": 80,
   "metadata": {},
   "outputs": [],
   "source": [
    "import numpy as np"
   ]
  },
  {
   "cell_type": "code",
   "execution_count": 81,
   "metadata": {},
   "outputs": [
    {
     "data": {
      "text/plain": [
       "array([0., 0., 0., 0., 0., 0., 0., 1., 0., 0.], dtype=float32)"
      ]
     },
     "execution_count": 81,
     "metadata": {},
     "output_type": "execute_result"
    }
   ],
   "source": [
    "np.round(predict[0], 3)\n",
    "\n",
    "# 7이라고 예측함\n",
    "# 학습이 잘 되어서 바로 7일 확률이 1이 나옴"
   ]
  },
  {
   "cell_type": "code",
   "execution_count": 82,
   "metadata": {},
   "outputs": [
    {
     "data": {
      "text/plain": [
       "array([0., 0., 0., 0., 0., 0., 0., 1., 0., 0.], dtype=float32)"
      ]
     },
     "execution_count": 82,
     "metadata": {},
     "output_type": "execute_result"
    }
   ],
   "source": [
    "y_test_cate[0]\n",
    "\n",
    "# 실제 값이 7이 나옴 (정답을 맞힘)"
   ]
  },
  {
   "cell_type": "code",
   "execution_count": null,
   "metadata": {},
   "outputs": [],
   "source": []
  }
 ],
 "metadata": {
  "kernelspec": {
   "display_name": "dsde04",
   "language": "python",
   "name": "python3"
  },
  "language_info": {
   "codemirror_mode": {
    "name": "ipython",
    "version": 3
   },
   "file_extension": ".py",
   "mimetype": "text/x-python",
   "name": "python",
   "nbconvert_exporter": "python",
   "pygments_lexer": "ipython3",
   "version": "3.10.11"
  },
  "orig_nbformat": 4
 },
 "nbformat": 4,
 "nbformat_minor": 2
}
