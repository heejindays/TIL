{
 "cells": [
  {
   "cell_type": "code",
   "execution_count": 2,
   "metadata": {},
   "outputs": [],
   "source": [
    "from IPython.core.interactiveshell import InteractiveShell\n",
    "InteractiveShell.ast_node_interactivity = \"all\""
   ]
  },
  {
   "cell_type": "code",
   "execution_count": 3,
   "metadata": {},
   "outputs": [],
   "source": [
    "import numpy as np\n",
    "import pandas as pd"
   ]
  },
  {
   "cell_type": "code",
   "execution_count": 4,
   "metadata": {},
   "outputs": [
    {
     "data": {
      "text/plain": [
       "array([[50, 40, 11],\n",
       "       [54, 94, 21],\n",
       "       [49, 58, 20]])"
      ]
     },
     "execution_count": 4,
     "metadata": {},
     "output_type": "execute_result"
    }
   ],
   "source": [
    "random_num = np.random.randint(1, 101, [3, 3])\n",
    "random_num"
   ]
  },
  {
   "cell_type": "code",
   "execution_count": 5,
   "metadata": {},
   "outputs": [
    {
     "data": {
      "text/html": [
       "<div>\n",
       "<style scoped>\n",
       "    .dataframe tbody tr th:only-of-type {\n",
       "        vertical-align: middle;\n",
       "    }\n",
       "\n",
       "    .dataframe tbody tr th {\n",
       "        vertical-align: top;\n",
       "    }\n",
       "\n",
       "    .dataframe thead th {\n",
       "        text-align: right;\n",
       "    }\n",
       "</style>\n",
       "<table border=\"1\" class=\"dataframe\">\n",
       "  <thead>\n",
       "    <tr style=\"text-align: right;\">\n",
       "      <th></th>\n",
       "      <th>0</th>\n",
       "      <th>1</th>\n",
       "      <th>2</th>\n",
       "    </tr>\n",
       "  </thead>\n",
       "  <tbody>\n",
       "    <tr>\n",
       "      <th>0</th>\n",
       "      <td>50</td>\n",
       "      <td>40</td>\n",
       "      <td>11</td>\n",
       "    </tr>\n",
       "    <tr>\n",
       "      <th>1</th>\n",
       "      <td>54</td>\n",
       "      <td>94</td>\n",
       "      <td>21</td>\n",
       "    </tr>\n",
       "    <tr>\n",
       "      <th>2</th>\n",
       "      <td>49</td>\n",
       "      <td>58</td>\n",
       "      <td>20</td>\n",
       "    </tr>\n",
       "  </tbody>\n",
       "</table>\n",
       "</div>"
      ],
      "text/plain": [
       "    0   1   2\n",
       "0  50  40  11\n",
       "1  54  94  21\n",
       "2  49  58  20"
      ]
     },
     "execution_count": 5,
     "metadata": {},
     "output_type": "execute_result"
    }
   ],
   "source": [
    "# numpy의 ndarray를 가지고 데이터프레임을 만들면 행(row)이 인덱스가 됨\n",
    "# 컬럼도 숫자가 잡힘\n",
    "df_num = pd.DataFrame(random_num)\n",
    "df_num"
   ]
  },
  {
   "cell_type": "code",
   "execution_count": 9,
   "metadata": {},
   "outputs": [
    {
     "data": {
      "text/html": [
       "<div>\n",
       "<style scoped>\n",
       "    .dataframe tbody tr th:only-of-type {\n",
       "        vertical-align: middle;\n",
       "    }\n",
       "\n",
       "    .dataframe tbody tr th {\n",
       "        vertical-align: top;\n",
       "    }\n",
       "\n",
       "    .dataframe thead th {\n",
       "        text-align: right;\n",
       "    }\n",
       "</style>\n",
       "<table border=\"1\" class=\"dataframe\">\n",
       "  <thead>\n",
       "    <tr style=\"text-align: right;\">\n",
       "      <th></th>\n",
       "      <th>col1</th>\n",
       "      <th>col2</th>\n",
       "      <th>col3</th>\n",
       "    </tr>\n",
       "  </thead>\n",
       "  <tbody>\n",
       "    <tr>\n",
       "      <th>row1</th>\n",
       "      <td>50</td>\n",
       "      <td>40</td>\n",
       "      <td>11</td>\n",
       "    </tr>\n",
       "    <tr>\n",
       "      <th>row2</th>\n",
       "      <td>54</td>\n",
       "      <td>94</td>\n",
       "      <td>21</td>\n",
       "    </tr>\n",
       "    <tr>\n",
       "      <th>row3</th>\n",
       "      <td>49</td>\n",
       "      <td>58</td>\n",
       "      <td>20</td>\n",
       "    </tr>\n",
       "  </tbody>\n",
       "</table>\n",
       "</div>"
      ],
      "text/plain": [
       "      col1  col2  col3\n",
       "row1    50    40    11\n",
       "row2    54    94    21\n",
       "row3    49    58    20"
      ]
     },
     "execution_count": 9,
     "metadata": {},
     "output_type": "execute_result"
    }
   ],
   "source": [
    "df_num = pd.DataFrame(random_num, \n",
    "                      index=[\"row1\", \"row2\", \"row3\"], \n",
    "                      columns=[\"col1\", \"col2\", \"col3\"])\n",
    "df_num"
   ]
  },
  {
   "cell_type": "code",
   "execution_count": 10,
   "metadata": {},
   "outputs": [
    {
     "data": {
      "text/plain": [
       "{'title': ['개미', '고구려', '드래곤라자', '퇴마록'],\n",
       " 'writer': ['베르나르베르베르', '김진명', '이영도', '이우혁'],\n",
       " 'publisher': ['열린책들', '이타북스', '황금가지', '들녁'],\n",
       " '1st-edition': ['2013-05-30', '2011-02-28', '1998-05-30', '1994-01-01'],\n",
       " 'price': [15800, 15800, 6300, 8550]}"
      ]
     },
     "execution_count": 10,
     "metadata": {},
     "output_type": "execute_result"
    }
   ],
   "source": [
    "books = {\"title\" : [\"개미\", \"고구려\", \"드래곤라자\", \"퇴마록\"],\n",
    "         \"writer\" : [\"베르나르베르베르\", \"김진명\", \"이영도\", \"이우혁\"],\n",
    "         \"publisher\" : [\"열린책들\", \"이타북스\", \"황금가지\", \"들녁\"],\n",
    "         \"1st-edition\" : [\"2013-05-30\", \"2011-02-28\", \"1998-05-30\", \"1994-01-01\"],\n",
    "         \"price\" : [15800, 15800, 6300, 8550]}\n",
    "books"
   ]
  },
  {
   "cell_type": "code",
   "execution_count": 11,
   "metadata": {},
   "outputs": [
    {
     "data": {
      "text/html": [
       "<div>\n",
       "<style scoped>\n",
       "    .dataframe tbody tr th:only-of-type {\n",
       "        vertical-align: middle;\n",
       "    }\n",
       "\n",
       "    .dataframe tbody tr th {\n",
       "        vertical-align: top;\n",
       "    }\n",
       "\n",
       "    .dataframe thead th {\n",
       "        text-align: right;\n",
       "    }\n",
       "</style>\n",
       "<table border=\"1\" class=\"dataframe\">\n",
       "  <thead>\n",
       "    <tr style=\"text-align: right;\">\n",
       "      <th></th>\n",
       "      <th>title</th>\n",
       "      <th>writer</th>\n",
       "      <th>publisher</th>\n",
       "      <th>1st-edition</th>\n",
       "      <th>price</th>\n",
       "    </tr>\n",
       "  </thead>\n",
       "  <tbody>\n",
       "    <tr>\n",
       "      <th>0</th>\n",
       "      <td>개미</td>\n",
       "      <td>베르나르베르베르</td>\n",
       "      <td>열린책들</td>\n",
       "      <td>2013-05-30</td>\n",
       "      <td>15800</td>\n",
       "    </tr>\n",
       "    <tr>\n",
       "      <th>1</th>\n",
       "      <td>고구려</td>\n",
       "      <td>김진명</td>\n",
       "      <td>이타북스</td>\n",
       "      <td>2011-02-28</td>\n",
       "      <td>15800</td>\n",
       "    </tr>\n",
       "    <tr>\n",
       "      <th>2</th>\n",
       "      <td>드래곤라자</td>\n",
       "      <td>이영도</td>\n",
       "      <td>황금가지</td>\n",
       "      <td>1998-05-30</td>\n",
       "      <td>6300</td>\n",
       "    </tr>\n",
       "    <tr>\n",
       "      <th>3</th>\n",
       "      <td>퇴마록</td>\n",
       "      <td>이우혁</td>\n",
       "      <td>들녁</td>\n",
       "      <td>1994-01-01</td>\n",
       "      <td>8550</td>\n",
       "    </tr>\n",
       "  </tbody>\n",
       "</table>\n",
       "</div>"
      ],
      "text/plain": [
       "   title    writer publisher 1st-edition  price\n",
       "0     개미  베르나르베르베르      열린책들  2013-05-30  15800\n",
       "1    고구려       김진명      이타북스  2011-02-28  15800\n",
       "2  드래곤라자       이영도      황금가지  1998-05-30   6300\n",
       "3    퇴마록       이우혁        들녁  1994-01-01   8550"
      ]
     },
     "execution_count": 11,
     "metadata": {},
     "output_type": "execute_result"
    }
   ],
   "source": [
    "df_books = pd.DataFrame(books)\n",
    "df_books"
   ]
  },
  {
   "cell_type": "code",
   "execution_count": 12,
   "metadata": {},
   "outputs": [
    {
     "data": {
      "text/plain": [
       "RangeIndex(start=0, stop=4, step=1)"
      ]
     },
     "execution_count": 12,
     "metadata": {},
     "output_type": "execute_result"
    },
    {
     "data": {
      "text/plain": [
       "Index(['title', 'writer', 'publisher', '1st-edition', 'price'], dtype='object')"
      ]
     },
     "execution_count": 12,
     "metadata": {},
     "output_type": "execute_result"
    },
    {
     "data": {
      "text/plain": [
       "(4, 5)"
      ]
     },
     "execution_count": 12,
     "metadata": {},
     "output_type": "execute_result"
    },
    {
     "data": {
      "text/plain": [
       "20"
      ]
     },
     "execution_count": 12,
     "metadata": {},
     "output_type": "execute_result"
    },
    {
     "data": {
      "text/plain": [
       "title          object\n",
       "writer         object\n",
       "publisher      object\n",
       "1st-edition    object\n",
       "price           int64\n",
       "dtype: object"
      ]
     },
     "execution_count": 12,
     "metadata": {},
     "output_type": "execute_result"
    },
    {
     "data": {
      "text/plain": [
       "title          4\n",
       "writer         4\n",
       "publisher      4\n",
       "1st-edition    4\n",
       "price          4\n",
       "dtype: int64"
      ]
     },
     "execution_count": 12,
     "metadata": {},
     "output_type": "execute_result"
    }
   ],
   "source": [
    "df_books.index\n",
    "df_books.columns\n",
    "df_books.shape\n",
    "df_books.size\n",
    "\n",
    "# 시리즈 별로 다른 타입을 가질 수 있음\n",
    "df_books.dtypes\n",
    "df_books.count()"
   ]
  },
  {
   "cell_type": "code",
   "execution_count": 15,
   "metadata": {},
   "outputs": [
    {
     "data": {
      "text/plain": [
       "<bound method DataFrame.info of    title    writer publisher 1st-edition  price\n",
       "0     개미  베르나르베르베르      열린책들  2013-05-30  15800\n",
       "1    고구려       김진명      이타북스  2011-02-28  15800\n",
       "2  드래곤라자       이영도      황금가지  1998-05-30   6300\n",
       "3    퇴마록       이우혁        들녁  1994-01-01   8550>"
      ]
     },
     "execution_count": 15,
     "metadata": {},
     "output_type": "execute_result"
    },
    {
     "data": {
      "text/plain": [
       "method"
      ]
     },
     "execution_count": 15,
     "metadata": {},
     "output_type": "execute_result"
    }
   ],
   "source": [
    "df_books.info\n",
    "type(df_books.info)"
   ]
  },
  {
   "cell_type": "code",
   "execution_count": 16,
   "metadata": {},
   "outputs": [
    {
     "name": "stdout",
     "output_type": "stream",
     "text": [
      "<class 'pandas.core.frame.DataFrame'>\n",
      "RangeIndex: 4 entries, 0 to 3\n",
      "Data columns (total 5 columns):\n",
      " #   Column       Non-Null Count  Dtype \n",
      "---  ------       --------------  ----- \n",
      " 0   title        4 non-null      object\n",
      " 1   writer       4 non-null      object\n",
      " 2   publisher    4 non-null      object\n",
      " 3   1st-edition  4 non-null      object\n",
      " 4   price        4 non-null      int64 \n",
      "dtypes: int64(1), object(4)\n",
      "memory usage: 288.0+ bytes\n",
      "<class 'pandas.core.frame.DataFrame'>\n",
      "RangeIndex: 4 entries, 0 to 3\n",
      "Data columns (total 5 columns):\n",
      " #   Column       Non-Null Count  Dtype \n",
      "---  ------       --------------  ----- \n",
      " 0   title        4 non-null      object\n",
      " 1   writer       4 non-null      object\n",
      " 2   publisher    4 non-null      object\n",
      " 3   1st-edition  4 non-null      object\n",
      " 4   price        4 non-null      int64 \n",
      "dtypes: int64(1), object(4)\n",
      "memory usage: 288.0+ bytes\n"
     ]
    },
    {
     "data": {
      "text/plain": [
       "NoneType"
      ]
     },
     "execution_count": 16,
     "metadata": {},
     "output_type": "execute_result"
    }
   ],
   "source": [
    "df_books.info()\n",
    "type(df_books.info())"
   ]
  },
  {
   "cell_type": "code",
   "execution_count": 18,
   "metadata": {},
   "outputs": [
    {
     "data": {
      "text/plain": [
       "0       개미\n",
       "1      고구려\n",
       "2    드래곤라자\n",
       "3      퇴마록\n",
       "Name: title, dtype: object"
      ]
     },
     "execution_count": 18,
     "metadata": {},
     "output_type": "execute_result"
    },
    {
     "data": {
      "text/plain": [
       "pandas.core.series.Series"
      ]
     },
     "execution_count": 18,
     "metadata": {},
     "output_type": "execute_result"
    }
   ],
   "source": [
    "# 데이터프레임은 시리즈들이 여러개 모여있는 것\n",
    "# title이라는 키를 넣었더니 (컬럼) 데이터 타입이 시리즈\n",
    "df_books[\"title\"]\n",
    "type(df_books[\"title\"])"
   ]
  },
  {
   "cell_type": "code",
   "execution_count": 19,
   "metadata": {},
   "outputs": [
    {
     "data": {
      "text/plain": [
       "'드래곤라자'"
      ]
     },
     "execution_count": 19,
     "metadata": {},
     "output_type": "execute_result"
    }
   ],
   "source": [
    "df_books[\"title\"][2]"
   ]
  },
  {
   "cell_type": "code",
   "execution_count": 20,
   "metadata": {},
   "outputs": [
    {
     "data": {
      "text/plain": [
       "0    15800\n",
       "1    15800\n",
       "2     6300\n",
       "3     8550\n",
       "Name: price, dtype: int64"
      ]
     },
     "execution_count": 20,
     "metadata": {},
     "output_type": "execute_result"
    }
   ],
   "source": [
    "df_books[\"price\"]"
   ]
  },
  {
   "cell_type": "code",
   "execution_count": 21,
   "metadata": {},
   "outputs": [
    {
     "data": {
      "text/plain": [
       "15800"
      ]
     },
     "execution_count": 21,
     "metadata": {},
     "output_type": "execute_result"
    }
   ],
   "source": [
    "df_books[\"price\"].max()"
   ]
  },
  {
   "cell_type": "code",
   "execution_count": 23,
   "metadata": {},
   "outputs": [
    {
     "data": {
      "text/plain": [
       "2     6300\n",
       "3     8550\n",
       "0    15800\n",
       "1    15800\n",
       "Name: price, dtype: int64"
      ]
     },
     "execution_count": 23,
     "metadata": {},
     "output_type": "execute_result"
    }
   ],
   "source": [
    "df_books[\"price\"].sort_values()"
   ]
  },
  {
   "cell_type": "code",
   "execution_count": 25,
   "metadata": {},
   "outputs": [
    {
     "data": {
      "text/html": [
       "<div>\n",
       "<style scoped>\n",
       "    .dataframe tbody tr th:only-of-type {\n",
       "        vertical-align: middle;\n",
       "    }\n",
       "\n",
       "    .dataframe tbody tr th {\n",
       "        vertical-align: top;\n",
       "    }\n",
       "\n",
       "    .dataframe thead th {\n",
       "        text-align: right;\n",
       "    }\n",
       "</style>\n",
       "<table border=\"1\" class=\"dataframe\">\n",
       "  <thead>\n",
       "    <tr style=\"text-align: right;\">\n",
       "      <th></th>\n",
       "      <th>title</th>\n",
       "      <th>writer</th>\n",
       "      <th>publisher</th>\n",
       "      <th>1st-edition</th>\n",
       "      <th>price</th>\n",
       "    </tr>\n",
       "  </thead>\n",
       "  <tbody>\n",
       "    <tr>\n",
       "      <th>0</th>\n",
       "      <td>개미</td>\n",
       "      <td>베르나르베르베르</td>\n",
       "      <td>열린책들</td>\n",
       "      <td>2013-05-30</td>\n",
       "      <td>15800</td>\n",
       "    </tr>\n",
       "    <tr>\n",
       "      <th>1</th>\n",
       "      <td>고구려</td>\n",
       "      <td>김진명</td>\n",
       "      <td>이타북스</td>\n",
       "      <td>2011-02-28</td>\n",
       "      <td>15800</td>\n",
       "    </tr>\n",
       "    <tr>\n",
       "      <th>3</th>\n",
       "      <td>퇴마록</td>\n",
       "      <td>이우혁</td>\n",
       "      <td>들녁</td>\n",
       "      <td>1994-01-01</td>\n",
       "      <td>8550</td>\n",
       "    </tr>\n",
       "    <tr>\n",
       "      <th>2</th>\n",
       "      <td>드래곤라자</td>\n",
       "      <td>이영도</td>\n",
       "      <td>황금가지</td>\n",
       "      <td>1998-05-30</td>\n",
       "      <td>6300</td>\n",
       "    </tr>\n",
       "  </tbody>\n",
       "</table>\n",
       "</div>"
      ],
      "text/plain": [
       "   title    writer publisher 1st-edition  price\n",
       "0     개미  베르나르베르베르      열린책들  2013-05-30  15800\n",
       "1    고구려       김진명      이타북스  2011-02-28  15800\n",
       "3    퇴마록       이우혁        들녁  1994-01-01   8550\n",
       "2  드래곤라자       이영도      황금가지  1998-05-30   6300"
      ]
     },
     "execution_count": 25,
     "metadata": {},
     "output_type": "execute_result"
    }
   ],
   "source": [
    "df_books.sort_values(by=\"price\", ascending=False)"
   ]
  },
  {
   "cell_type": "code",
   "execution_count": 28,
   "metadata": {},
   "outputs": [
    {
     "data": {
      "text/html": [
       "<div>\n",
       "<style scoped>\n",
       "    .dataframe tbody tr th:only-of-type {\n",
       "        vertical-align: middle;\n",
       "    }\n",
       "\n",
       "    .dataframe tbody tr th {\n",
       "        vertical-align: top;\n",
       "    }\n",
       "\n",
       "    .dataframe thead th {\n",
       "        text-align: right;\n",
       "    }\n",
       "</style>\n",
       "<table border=\"1\" class=\"dataframe\">\n",
       "  <thead>\n",
       "    <tr style=\"text-align: right;\">\n",
       "      <th></th>\n",
       "      <th>title</th>\n",
       "      <th>writer</th>\n",
       "      <th>publisher</th>\n",
       "      <th>1st-edition</th>\n",
       "      <th>price</th>\n",
       "    </tr>\n",
       "  </thead>\n",
       "  <tbody>\n",
       "    <tr>\n",
       "      <th>1</th>\n",
       "      <td>고구려</td>\n",
       "      <td>김진명</td>\n",
       "      <td>이타북스</td>\n",
       "      <td>2011-02-28</td>\n",
       "      <td>15800</td>\n",
       "    </tr>\n",
       "    <tr>\n",
       "      <th>0</th>\n",
       "      <td>개미</td>\n",
       "      <td>베르나르베르베르</td>\n",
       "      <td>열린책들</td>\n",
       "      <td>2013-05-30</td>\n",
       "      <td>15800</td>\n",
       "    </tr>\n",
       "    <tr>\n",
       "      <th>3</th>\n",
       "      <td>퇴마록</td>\n",
       "      <td>이우혁</td>\n",
       "      <td>들녁</td>\n",
       "      <td>1994-01-01</td>\n",
       "      <td>8550</td>\n",
       "    </tr>\n",
       "    <tr>\n",
       "      <th>2</th>\n",
       "      <td>드래곤라자</td>\n",
       "      <td>이영도</td>\n",
       "      <td>황금가지</td>\n",
       "      <td>1998-05-30</td>\n",
       "      <td>6300</td>\n",
       "    </tr>\n",
       "  </tbody>\n",
       "</table>\n",
       "</div>"
      ],
      "text/plain": [
       "   title    writer publisher 1st-edition  price\n",
       "1    고구려       김진명      이타북스  2011-02-28  15800\n",
       "0     개미  베르나르베르베르      열린책들  2013-05-30  15800\n",
       "3    퇴마록       이우혁        들녁  1994-01-01   8550\n",
       "2  드래곤라자       이영도      황금가지  1998-05-30   6300"
      ]
     },
     "execution_count": 28,
     "metadata": {},
     "output_type": "execute_result"
    }
   ],
   "source": [
    "# 가격과 초판 인쇄를 가격은 큰 것부터, 초판 인쇄는 작은 것(먼저 출판) 부터\n",
    "df_books.sort_values(by=[\"price\", \"1st-edition\"],\n",
    "                     ascending=[False, True])"
   ]
  },
  {
   "cell_type": "code",
   "execution_count": 30,
   "metadata": {},
   "outputs": [
    {
     "data": {
      "text/html": [
       "<div>\n",
       "<style scoped>\n",
       "    .dataframe tbody tr th:only-of-type {\n",
       "        vertical-align: middle;\n",
       "    }\n",
       "\n",
       "    .dataframe tbody tr th {\n",
       "        vertical-align: top;\n",
       "    }\n",
       "\n",
       "    .dataframe thead th {\n",
       "        text-align: right;\n",
       "    }\n",
       "</style>\n",
       "<table border=\"1\" class=\"dataframe\">\n",
       "  <thead>\n",
       "    <tr style=\"text-align: right;\">\n",
       "      <th></th>\n",
       "      <th>1st-edition</th>\n",
       "      <th>price</th>\n",
       "      <th>publisher</th>\n",
       "      <th>title</th>\n",
       "      <th>writer</th>\n",
       "    </tr>\n",
       "  </thead>\n",
       "  <tbody>\n",
       "    <tr>\n",
       "      <th>0</th>\n",
       "      <td>2013-05-30</td>\n",
       "      <td>15800</td>\n",
       "      <td>열린책들</td>\n",
       "      <td>개미</td>\n",
       "      <td>베르나르베르베르</td>\n",
       "    </tr>\n",
       "    <tr>\n",
       "      <th>1</th>\n",
       "      <td>2011-02-28</td>\n",
       "      <td>15800</td>\n",
       "      <td>이타북스</td>\n",
       "      <td>고구려</td>\n",
       "      <td>김진명</td>\n",
       "    </tr>\n",
       "    <tr>\n",
       "      <th>2</th>\n",
       "      <td>1998-05-30</td>\n",
       "      <td>6300</td>\n",
       "      <td>황금가지</td>\n",
       "      <td>드래곤라자</td>\n",
       "      <td>이영도</td>\n",
       "    </tr>\n",
       "    <tr>\n",
       "      <th>3</th>\n",
       "      <td>1994-01-01</td>\n",
       "      <td>8550</td>\n",
       "      <td>들녁</td>\n",
       "      <td>퇴마록</td>\n",
       "      <td>이우혁</td>\n",
       "    </tr>\n",
       "  </tbody>\n",
       "</table>\n",
       "</div>"
      ],
      "text/plain": [
       "  1st-edition  price publisher  title    writer\n",
       "0  2013-05-30  15800      열린책들     개미  베르나르베르베르\n",
       "1  2011-02-28  15800      이타북스    고구려       김진명\n",
       "2  1998-05-30   6300      황금가지  드래곤라자       이영도\n",
       "3  1994-01-01   8550        들녁    퇴마록       이우혁"
      ]
     },
     "execution_count": 30,
     "metadata": {},
     "output_type": "execute_result"
    }
   ],
   "source": [
    "df_books.sort_index(axis=1)"
   ]
  },
  {
   "cell_type": "code",
   "execution_count": 32,
   "metadata": {},
   "outputs": [
    {
     "data": {
      "text/plain": [
       "RangeIndex(start=0, stop=4, step=1)"
      ]
     },
     "execution_count": 32,
     "metadata": {},
     "output_type": "execute_result"
    },
    {
     "data": {
      "text/plain": [
       "array([['개미', '베르나르베르베르', '열린책들', '2013-05-30', 15800],\n",
       "       ['고구려', '김진명', '이타북스', '2011-02-28', 15800],\n",
       "       ['드래곤라자', '이영도', '황금가지', '1998-05-30', 6300],\n",
       "       ['퇴마록', '이우혁', '들녁', '1994-01-01', 8550]], dtype=object)"
      ]
     },
     "execution_count": 32,
     "metadata": {},
     "output_type": "execute_result"
    }
   ],
   "source": [
    "df_books.index\n",
    "df_books.values\n",
    "\n",
    "# RangeIndex(start=0, stop=4, step=1)\n",
    "# start=0 0부터 시작함\n",
    "# stop=4 인덱스의 종료 값\n",
    "# step=1 인덱스 값 사이의 간격 1"
   ]
  },
  {
   "cell_type": "code",
   "execution_count": 33,
   "metadata": {},
   "outputs": [
    {
     "data": {
      "text/plain": [
       "0       개미\n",
       "1      고구려\n",
       "2    드래곤라자\n",
       "3      퇴마록\n",
       "Name: title, dtype: object"
      ]
     },
     "execution_count": 33,
     "metadata": {},
     "output_type": "execute_result"
    }
   ],
   "source": [
    "df_books[\"title\"]"
   ]
  },
  {
   "cell_type": "code",
   "execution_count": 34,
   "metadata": {},
   "outputs": [
    {
     "data": {
      "text/plain": [
       "0       개미\n",
       "1      고구려\n",
       "2    드래곤라자\n",
       "3      퇴마록\n",
       "Name: title, dtype: object"
      ]
     },
     "execution_count": 34,
     "metadata": {},
     "output_type": "execute_result"
    }
   ],
   "source": [
    "df_books.title"
   ]
  },
  {
   "cell_type": "code",
   "execution_count": 35,
   "metadata": {},
   "outputs": [
    {
     "data": {
      "text/html": [
       "<div>\n",
       "<style scoped>\n",
       "    .dataframe tbody tr th:only-of-type {\n",
       "        vertical-align: middle;\n",
       "    }\n",
       "\n",
       "    .dataframe tbody tr th {\n",
       "        vertical-align: top;\n",
       "    }\n",
       "\n",
       "    .dataframe thead th {\n",
       "        text-align: right;\n",
       "    }\n",
       "</style>\n",
       "<table border=\"1\" class=\"dataframe\">\n",
       "  <thead>\n",
       "    <tr style=\"text-align: right;\">\n",
       "      <th></th>\n",
       "      <th>title</th>\n",
       "      <th>writer</th>\n",
       "      <th>publisher</th>\n",
       "      <th>1st-edition</th>\n",
       "      <th>price</th>\n",
       "    </tr>\n",
       "  </thead>\n",
       "  <tbody>\n",
       "    <tr>\n",
       "      <th>0</th>\n",
       "      <td>개미</td>\n",
       "      <td>베르나르베르베르</td>\n",
       "      <td>열린책들</td>\n",
       "      <td>2013-05-30</td>\n",
       "      <td>15800</td>\n",
       "    </tr>\n",
       "    <tr>\n",
       "      <th>1</th>\n",
       "      <td>고구려</td>\n",
       "      <td>김진명</td>\n",
       "      <td>이타북스</td>\n",
       "      <td>2011-02-28</td>\n",
       "      <td>15800</td>\n",
       "    </tr>\n",
       "    <tr>\n",
       "      <th>3</th>\n",
       "      <td>퇴마록</td>\n",
       "      <td>이우혁</td>\n",
       "      <td>들녁</td>\n",
       "      <td>1994-01-01</td>\n",
       "      <td>8550</td>\n",
       "    </tr>\n",
       "  </tbody>\n",
       "</table>\n",
       "</div>"
      ],
      "text/plain": [
       "  title    writer publisher 1st-edition  price\n",
       "0    개미  베르나르베르베르      열린책들  2013-05-30  15800\n",
       "1   고구려       김진명      이타북스  2011-02-28  15800\n",
       "3   퇴마록       이우혁        들녁  1994-01-01   8550"
      ]
     },
     "execution_count": 35,
     "metadata": {},
     "output_type": "execute_result"
    }
   ],
   "source": [
    "# \"price\"에서 가장 큰 값 3개\n",
    "df_books.nlargest(3, columns=\"price\")"
   ]
  },
  {
   "cell_type": "code",
   "execution_count": 37,
   "metadata": {},
   "outputs": [
    {
     "data": {
      "text/html": [
       "<div>\n",
       "<style scoped>\n",
       "    .dataframe tbody tr th:only-of-type {\n",
       "        vertical-align: middle;\n",
       "    }\n",
       "\n",
       "    .dataframe tbody tr th {\n",
       "        vertical-align: top;\n",
       "    }\n",
       "\n",
       "    .dataframe thead th {\n",
       "        text-align: right;\n",
       "    }\n",
       "</style>\n",
       "<table border=\"1\" class=\"dataframe\">\n",
       "  <thead>\n",
       "    <tr style=\"text-align: right;\">\n",
       "      <th></th>\n",
       "      <th>title</th>\n",
       "      <th>writer</th>\n",
       "      <th>publisher</th>\n",
       "      <th>1st-edition</th>\n",
       "      <th>price</th>\n",
       "    </tr>\n",
       "  </thead>\n",
       "  <tbody>\n",
       "    <tr>\n",
       "      <th>2</th>\n",
       "      <td>드래곤라자</td>\n",
       "      <td>이영도</td>\n",
       "      <td>황금가지</td>\n",
       "      <td>1998-05-30</td>\n",
       "      <td>6300</td>\n",
       "    </tr>\n",
       "    <tr>\n",
       "      <th>3</th>\n",
       "      <td>퇴마록</td>\n",
       "      <td>이우혁</td>\n",
       "      <td>들녁</td>\n",
       "      <td>1994-01-01</td>\n",
       "      <td>8550</td>\n",
       "    </tr>\n",
       "    <tr>\n",
       "      <th>0</th>\n",
       "      <td>개미</td>\n",
       "      <td>베르나르베르베르</td>\n",
       "      <td>열린책들</td>\n",
       "      <td>2013-05-30</td>\n",
       "      <td>15800</td>\n",
       "    </tr>\n",
       "  </tbody>\n",
       "</table>\n",
       "</div>"
      ],
      "text/plain": [
       "   title    writer publisher 1st-edition  price\n",
       "2  드래곤라자       이영도      황금가지  1998-05-30   6300\n",
       "3    퇴마록       이우혁        들녁  1994-01-01   8550\n",
       "0     개미  베르나르베르베르      열린책들  2013-05-30  15800"
      ]
     },
     "execution_count": 37,
     "metadata": {},
     "output_type": "execute_result"
    }
   ],
   "source": [
    "# \"price\"에서 가장 작은 값 3개\n",
    "df_books.nsmallest(3, columns=\"price\")"
   ]
  },
  {
   "cell_type": "code",
   "execution_count": 40,
   "metadata": {},
   "outputs": [
    {
     "data": {
      "text/plain": [
       "46450"
      ]
     },
     "execution_count": 40,
     "metadata": {},
     "output_type": "execute_result"
    },
    {
     "data": {
      "text/plain": [
       "numpy.int64"
      ]
     },
     "execution_count": 40,
     "metadata": {},
     "output_type": "execute_result"
    }
   ],
   "source": [
    "df_books.price.sum()\n",
    "type(df_books.price.sum())"
   ]
  },
  {
   "cell_type": "code",
   "execution_count": 48,
   "metadata": {},
   "outputs": [
    {
     "data": {
      "text/html": [
       "<div>\n",
       "<style scoped>\n",
       "    .dataframe tbody tr th:only-of-type {\n",
       "        vertical-align: middle;\n",
       "    }\n",
       "\n",
       "    .dataframe tbody tr th {\n",
       "        vertical-align: top;\n",
       "    }\n",
       "\n",
       "    .dataframe thead th {\n",
       "        text-align: right;\n",
       "    }\n",
       "</style>\n",
       "<table border=\"1\" class=\"dataframe\">\n",
       "  <thead>\n",
       "    <tr style=\"text-align: right;\">\n",
       "      <th></th>\n",
       "      <th>writer</th>\n",
       "      <th>publisher</th>\n",
       "      <th>1st-edition</th>\n",
       "      <th>price</th>\n",
       "    </tr>\n",
       "    <tr>\n",
       "      <th>title</th>\n",
       "      <th></th>\n",
       "      <th></th>\n",
       "      <th></th>\n",
       "      <th></th>\n",
       "    </tr>\n",
       "  </thead>\n",
       "  <tbody>\n",
       "    <tr>\n",
       "      <th>개미</th>\n",
       "      <td>베르나르베르베르</td>\n",
       "      <td>열린책들</td>\n",
       "      <td>2013-05-30</td>\n",
       "      <td>15800</td>\n",
       "    </tr>\n",
       "    <tr>\n",
       "      <th>고구려</th>\n",
       "      <td>김진명</td>\n",
       "      <td>이타북스</td>\n",
       "      <td>2011-02-28</td>\n",
       "      <td>15800</td>\n",
       "    </tr>\n",
       "    <tr>\n",
       "      <th>드래곤라자</th>\n",
       "      <td>이영도</td>\n",
       "      <td>황금가지</td>\n",
       "      <td>1998-05-30</td>\n",
       "      <td>6300</td>\n",
       "    </tr>\n",
       "    <tr>\n",
       "      <th>퇴마록</th>\n",
       "      <td>이우혁</td>\n",
       "      <td>들녁</td>\n",
       "      <td>1994-01-01</td>\n",
       "      <td>8550</td>\n",
       "    </tr>\n",
       "  </tbody>\n",
       "</table>\n",
       "</div>"
      ],
      "text/plain": [
       "         writer publisher 1st-edition  price\n",
       "title                                       \n",
       "개미     베르나르베르베르      열린책들  2013-05-30  15800\n",
       "고구려         김진명      이타북스  2011-02-28  15800\n",
       "드래곤라자       이영도      황금가지  1998-05-30   6300\n",
       "퇴마록         이우혁        들녁  1994-01-01   8550"
      ]
     },
     "execution_count": 48,
     "metadata": {},
     "output_type": "execute_result"
    }
   ],
   "source": [
    "# 인덱스를 타이틀로 바꿈\n",
    "df_title = df_books.set_index(\"title\")\n",
    "df_title"
   ]
  },
  {
   "cell_type": "code",
   "execution_count": 46,
   "metadata": {},
   "outputs": [
    {
     "data": {
      "text/plain": [
       "'김진명'"
      ]
     },
     "execution_count": 46,
     "metadata": {},
     "output_type": "execute_result"
    },
    {
     "data": {
      "text/plain": [
       "'김진명'"
      ]
     },
     "execution_count": 46,
     "metadata": {},
     "output_type": "execute_result"
    }
   ],
   "source": [
    "# 인덱스에 이름을 붙였기 때문에\n",
    "df_books[\"writer\"][1]\n",
    "df_title[\"writer\"][\"고구려\"]"
   ]
  },
  {
   "cell_type": "code",
   "execution_count": 47,
   "metadata": {},
   "outputs": [
    {
     "data": {
      "text/html": [
       "<div>\n",
       "<style scoped>\n",
       "    .dataframe tbody tr th:only-of-type {\n",
       "        vertical-align: middle;\n",
       "    }\n",
       "\n",
       "    .dataframe tbody tr th {\n",
       "        vertical-align: top;\n",
       "    }\n",
       "\n",
       "    .dataframe thead th {\n",
       "        text-align: right;\n",
       "    }\n",
       "</style>\n",
       "<table border=\"1\" class=\"dataframe\">\n",
       "  <thead>\n",
       "    <tr style=\"text-align: right;\">\n",
       "      <th></th>\n",
       "      <th>title</th>\n",
       "      <th>writer</th>\n",
       "      <th>publisher</th>\n",
       "      <th>1st-edition</th>\n",
       "      <th>price</th>\n",
       "    </tr>\n",
       "  </thead>\n",
       "  <tbody>\n",
       "    <tr>\n",
       "      <th>0</th>\n",
       "      <td>개미</td>\n",
       "      <td>베르나르베르베르</td>\n",
       "      <td>열린책들</td>\n",
       "      <td>2013-05-30</td>\n",
       "      <td>15800</td>\n",
       "    </tr>\n",
       "    <tr>\n",
       "      <th>1</th>\n",
       "      <td>고구려</td>\n",
       "      <td>김진명</td>\n",
       "      <td>이타북스</td>\n",
       "      <td>2011-02-28</td>\n",
       "      <td>15800</td>\n",
       "    </tr>\n",
       "    <tr>\n",
       "      <th>2</th>\n",
       "      <td>드래곤라자</td>\n",
       "      <td>이영도</td>\n",
       "      <td>황금가지</td>\n",
       "      <td>1998-05-30</td>\n",
       "      <td>6300</td>\n",
       "    </tr>\n",
       "    <tr>\n",
       "      <th>3</th>\n",
       "      <td>퇴마록</td>\n",
       "      <td>이우혁</td>\n",
       "      <td>들녁</td>\n",
       "      <td>1994-01-01</td>\n",
       "      <td>8550</td>\n",
       "    </tr>\n",
       "  </tbody>\n",
       "</table>\n",
       "</div>"
      ],
      "text/plain": [
       "   title    writer publisher 1st-edition  price\n",
       "0     개미  베르나르베르베르      열린책들  2013-05-30  15800\n",
       "1    고구려       김진명      이타북스  2011-02-28  15800\n",
       "2  드래곤라자       이영도      황금가지  1998-05-30   6300\n",
       "3    퇴마록       이우혁        들녁  1994-01-01   8550"
      ]
     },
     "execution_count": 47,
     "metadata": {},
     "output_type": "execute_result"
    },
    {
     "data": {
      "text/html": [
       "<div>\n",
       "<style scoped>\n",
       "    .dataframe tbody tr th:only-of-type {\n",
       "        vertical-align: middle;\n",
       "    }\n",
       "\n",
       "    .dataframe tbody tr th {\n",
       "        vertical-align: top;\n",
       "    }\n",
       "\n",
       "    .dataframe thead th {\n",
       "        text-align: right;\n",
       "    }\n",
       "</style>\n",
       "<table border=\"1\" class=\"dataframe\">\n",
       "  <thead>\n",
       "    <tr style=\"text-align: right;\">\n",
       "      <th></th>\n",
       "      <th>writer</th>\n",
       "      <th>publisher</th>\n",
       "      <th>1st-edition</th>\n",
       "      <th>price</th>\n",
       "    </tr>\n",
       "    <tr>\n",
       "      <th>title</th>\n",
       "      <th></th>\n",
       "      <th></th>\n",
       "      <th></th>\n",
       "      <th></th>\n",
       "    </tr>\n",
       "  </thead>\n",
       "  <tbody>\n",
       "    <tr>\n",
       "      <th>개미</th>\n",
       "      <td>베르나르베르베르</td>\n",
       "      <td>열린책들</td>\n",
       "      <td>2013-05-30</td>\n",
       "      <td>15800</td>\n",
       "    </tr>\n",
       "    <tr>\n",
       "      <th>고구려</th>\n",
       "      <td>김진명</td>\n",
       "      <td>이타북스</td>\n",
       "      <td>2011-02-28</td>\n",
       "      <td>15800</td>\n",
       "    </tr>\n",
       "    <tr>\n",
       "      <th>드래곤라자</th>\n",
       "      <td>이영도</td>\n",
       "      <td>황금가지</td>\n",
       "      <td>1998-05-30</td>\n",
       "      <td>6300</td>\n",
       "    </tr>\n",
       "    <tr>\n",
       "      <th>퇴마록</th>\n",
       "      <td>이우혁</td>\n",
       "      <td>들녁</td>\n",
       "      <td>1994-01-01</td>\n",
       "      <td>8550</td>\n",
       "    </tr>\n",
       "  </tbody>\n",
       "</table>\n",
       "</div>"
      ],
      "text/plain": [
       "         writer publisher 1st-edition  price\n",
       "title                                       \n",
       "개미     베르나르베르베르      열린책들  2013-05-30  15800\n",
       "고구려         김진명      이타북스  2011-02-28  15800\n",
       "드래곤라자       이영도      황금가지  1998-05-30   6300\n",
       "퇴마록         이우혁        들녁  1994-01-01   8550"
      ]
     },
     "execution_count": 47,
     "metadata": {},
     "output_type": "execute_result"
    }
   ],
   "source": [
    "df_books\n",
    "df_title"
   ]
  },
  {
   "cell_type": "code",
   "execution_count": 52,
   "metadata": {},
   "outputs": [
    {
     "data": {
      "text/html": [
       "<div>\n",
       "<style scoped>\n",
       "    .dataframe tbody tr th:only-of-type {\n",
       "        vertical-align: middle;\n",
       "    }\n",
       "\n",
       "    .dataframe tbody tr th {\n",
       "        vertical-align: top;\n",
       "    }\n",
       "\n",
       "    .dataframe thead th {\n",
       "        text-align: right;\n",
       "    }\n",
       "</style>\n",
       "<table border=\"1\" class=\"dataframe\">\n",
       "  <thead>\n",
       "    <tr style=\"text-align: right;\">\n",
       "      <th></th>\n",
       "      <th>title</th>\n",
       "      <th>writer</th>\n",
       "      <th>publisher</th>\n",
       "      <th>1st-edition</th>\n",
       "      <th>price</th>\n",
       "    </tr>\n",
       "  </thead>\n",
       "  <tbody>\n",
       "    <tr>\n",
       "      <th>0</th>\n",
       "      <td>개미</td>\n",
       "      <td>베르나르베르베르</td>\n",
       "      <td>열린책들</td>\n",
       "      <td>2013-05-30</td>\n",
       "      <td>15800</td>\n",
       "    </tr>\n",
       "    <tr>\n",
       "      <th>1</th>\n",
       "      <td>고구려</td>\n",
       "      <td>김진명</td>\n",
       "      <td>이타북스</td>\n",
       "      <td>2011-02-28</td>\n",
       "      <td>15800</td>\n",
       "    </tr>\n",
       "    <tr>\n",
       "      <th>2</th>\n",
       "      <td>드래곤라자</td>\n",
       "      <td>이영도</td>\n",
       "      <td>황금가지</td>\n",
       "      <td>1998-05-30</td>\n",
       "      <td>6300</td>\n",
       "    </tr>\n",
       "    <tr>\n",
       "      <th>3</th>\n",
       "      <td>퇴마록</td>\n",
       "      <td>이우혁</td>\n",
       "      <td>들녁</td>\n",
       "      <td>1994-01-01</td>\n",
       "      <td>8550</td>\n",
       "    </tr>\n",
       "  </tbody>\n",
       "</table>\n",
       "</div>"
      ],
      "text/plain": [
       "   title    writer publisher 1st-edition  price\n",
       "0     개미  베르나르베르베르      열린책들  2013-05-30  15800\n",
       "1    고구려       김진명      이타북스  2011-02-28  15800\n",
       "2  드래곤라자       이영도      황금가지  1998-05-30   6300\n",
       "3    퇴마록       이우혁        들녁  1994-01-01   8550"
      ]
     },
     "execution_count": 52,
     "metadata": {},
     "output_type": "execute_result"
    }
   ],
   "source": [
    "# 다시 숫자 인덱스로 되돌리고 싶을 때\n",
    "df_title.reset_index()"
   ]
  },
  {
   "cell_type": "code",
   "execution_count": 54,
   "metadata": {},
   "outputs": [
    {
     "data": {
      "text/plain": [
       "price    46450\n",
       "dtype: int64"
      ]
     },
     "execution_count": 54,
     "metadata": {},
     "output_type": "execute_result"
    }
   ],
   "source": [
    "# 숫자값 컬럼이 하나일 경우에 숫자만 더함\n",
    "df_title.sum(numeric_only=True)"
   ]
  },
  {
   "cell_type": "code",
   "execution_count": 56,
   "metadata": {},
   "outputs": [
    {
     "data": {
      "text/plain": [
       "price    12175.0\n",
       "dtype: float64"
      ]
     },
     "execution_count": 56,
     "metadata": {},
     "output_type": "execute_result"
    }
   ],
   "source": [
    "df_title.median(numeric_only=True)"
   ]
  },
  {
   "cell_type": "code",
   "execution_count": 57,
   "metadata": {},
   "outputs": [
    {
     "data": {
      "text/plain": [
       "title\n",
       "개미       2013-05-30\n",
       "고구려      2011-02-28\n",
       "드래곤라자    1998-05-30\n",
       "퇴마록      1994-01-01\n",
       "Name: 1st-edition, dtype: object"
      ]
     },
     "execution_count": 57,
     "metadata": {},
     "output_type": "execute_result"
    }
   ],
   "source": [
    "df_title[\"1st-edition\"]"
   ]
  },
  {
   "cell_type": "code",
   "execution_count": 58,
   "metadata": {},
   "outputs": [
    {
     "data": {
      "text/plain": [
       "title\n",
       "개미      2013-05-30\n",
       "고구려     2011-02-28\n",
       "드래곤라자   1998-05-30\n",
       "퇴마록     1994-01-01\n",
       "Name: 1st-edition, dtype: datetime64[ns]"
      ]
     },
     "execution_count": 58,
     "metadata": {},
     "output_type": "execute_result"
    }
   ],
   "source": [
    "pd.to_datetime(df_title[\"1st-edition\"])"
   ]
  },
  {
   "cell_type": "code",
   "execution_count": 59,
   "metadata": {},
   "outputs": [
    {
     "name": "stdout",
     "output_type": "stream",
     "text": [
      "<class 'pandas.core.frame.DataFrame'>\n",
      "Index: 4 entries, 개미 to 퇴마록\n",
      "Data columns (total 4 columns):\n",
      " #   Column       Non-Null Count  Dtype \n",
      "---  ------       --------------  ----- \n",
      " 0   writer       4 non-null      object\n",
      " 1   publisher    4 non-null      object\n",
      " 2   1st-edition  4 non-null      object\n",
      " 3   price        4 non-null      int64 \n",
      "dtypes: int64(1), object(3)\n",
      "memory usage: 332.0+ bytes\n"
     ]
    }
   ],
   "source": [
    "df_title.info()"
   ]
  },
  {
   "cell_type": "code",
   "execution_count": 60,
   "metadata": {},
   "outputs": [],
   "source": [
    "df_title[\"1st-edition\"] = pd.to_datetime(df_title[\"1st-edition\"])"
   ]
  },
  {
   "cell_type": "code",
   "execution_count": 61,
   "metadata": {},
   "outputs": [
    {
     "name": "stdout",
     "output_type": "stream",
     "text": [
      "<class 'pandas.core.frame.DataFrame'>\n",
      "Index: 4 entries, 개미 to 퇴마록\n",
      "Data columns (total 4 columns):\n",
      " #   Column       Non-Null Count  Dtype         \n",
      "---  ------       --------------  -----         \n",
      " 0   writer       4 non-null      object        \n",
      " 1   publisher    4 non-null      object        \n",
      " 2   1st-edition  4 non-null      datetime64[ns]\n",
      " 3   price        4 non-null      int64         \n",
      "dtypes: datetime64[ns](1), int64(1), object(2)\n",
      "memory usage: 332.0+ bytes\n"
     ]
    }
   ],
   "source": [
    "df_title.info()"
   ]
  },
  {
   "cell_type": "code",
   "execution_count": 62,
   "metadata": {},
   "outputs": [
    {
     "data": {
      "text/html": [
       "<div>\n",
       "<style scoped>\n",
       "    .dataframe tbody tr th:only-of-type {\n",
       "        vertical-align: middle;\n",
       "    }\n",
       "\n",
       "    .dataframe tbody tr th {\n",
       "        vertical-align: top;\n",
       "    }\n",
       "\n",
       "    .dataframe thead th {\n",
       "        text-align: right;\n",
       "    }\n",
       "</style>\n",
       "<table border=\"1\" class=\"dataframe\">\n",
       "  <thead>\n",
       "    <tr style=\"text-align: right;\">\n",
       "      <th></th>\n",
       "      <th>writer</th>\n",
       "      <th>publisher</th>\n",
       "    </tr>\n",
       "    <tr>\n",
       "      <th>title</th>\n",
       "      <th></th>\n",
       "      <th></th>\n",
       "    </tr>\n",
       "  </thead>\n",
       "  <tbody>\n",
       "    <tr>\n",
       "      <th>개미</th>\n",
       "      <td>베르나르베르베르</td>\n",
       "      <td>열린책들</td>\n",
       "    </tr>\n",
       "    <tr>\n",
       "      <th>고구려</th>\n",
       "      <td>김진명</td>\n",
       "      <td>이타북스</td>\n",
       "    </tr>\n",
       "    <tr>\n",
       "      <th>드래곤라자</th>\n",
       "      <td>이영도</td>\n",
       "      <td>황금가지</td>\n",
       "    </tr>\n",
       "    <tr>\n",
       "      <th>퇴마록</th>\n",
       "      <td>이우혁</td>\n",
       "      <td>들녁</td>\n",
       "    </tr>\n",
       "  </tbody>\n",
       "</table>\n",
       "</div>"
      ],
      "text/plain": [
       "         writer publisher\n",
       "title                    \n",
       "개미     베르나르베르베르      열린책들\n",
       "고구려         김진명      이타북스\n",
       "드래곤라자       이영도      황금가지\n",
       "퇴마록         이우혁        들녁"
      ]
     },
     "execution_count": 62,
     "metadata": {},
     "output_type": "execute_result"
    }
   ],
   "source": [
    "df_title.select_dtypes(\"object\")"
   ]
  },
  {
   "cell_type": "code",
   "execution_count": 63,
   "metadata": {},
   "outputs": [
    {
     "data": {
      "text/html": [
       "<div>\n",
       "<style scoped>\n",
       "    .dataframe tbody tr th:only-of-type {\n",
       "        vertical-align: middle;\n",
       "    }\n",
       "\n",
       "    .dataframe tbody tr th {\n",
       "        vertical-align: top;\n",
       "    }\n",
       "\n",
       "    .dataframe thead th {\n",
       "        text-align: right;\n",
       "    }\n",
       "</style>\n",
       "<table border=\"1\" class=\"dataframe\">\n",
       "  <thead>\n",
       "    <tr style=\"text-align: right;\">\n",
       "      <th></th>\n",
       "      <th>writer</th>\n",
       "      <th>publisher</th>\n",
       "    </tr>\n",
       "    <tr>\n",
       "      <th>title</th>\n",
       "      <th></th>\n",
       "      <th></th>\n",
       "    </tr>\n",
       "  </thead>\n",
       "  <tbody>\n",
       "    <tr>\n",
       "      <th>개미</th>\n",
       "      <td>베르나르베르베르</td>\n",
       "      <td>열린책들</td>\n",
       "    </tr>\n",
       "    <tr>\n",
       "      <th>고구려</th>\n",
       "      <td>김진명</td>\n",
       "      <td>이타북스</td>\n",
       "    </tr>\n",
       "    <tr>\n",
       "      <th>드래곤라자</th>\n",
       "      <td>이영도</td>\n",
       "      <td>황금가지</td>\n",
       "    </tr>\n",
       "    <tr>\n",
       "      <th>퇴마록</th>\n",
       "      <td>이우혁</td>\n",
       "      <td>들녁</td>\n",
       "    </tr>\n",
       "  </tbody>\n",
       "</table>\n",
       "</div>"
      ],
      "text/plain": [
       "         writer publisher\n",
       "title                    \n",
       "개미     베르나르베르베르      열린책들\n",
       "고구려         김진명      이타북스\n",
       "드래곤라자       이영도      황금가지\n",
       "퇴마록         이우혁        들녁"
      ]
     },
     "execution_count": 63,
     "metadata": {},
     "output_type": "execute_result"
    }
   ],
   "source": [
    "df_title.select_dtypes(include=\"object\")"
   ]
  },
  {
   "cell_type": "code",
   "execution_count": 64,
   "metadata": {},
   "outputs": [
    {
     "data": {
      "text/html": [
       "<div>\n",
       "<style scoped>\n",
       "    .dataframe tbody tr th:only-of-type {\n",
       "        vertical-align: middle;\n",
       "    }\n",
       "\n",
       "    .dataframe tbody tr th {\n",
       "        vertical-align: top;\n",
       "    }\n",
       "\n",
       "    .dataframe thead th {\n",
       "        text-align: right;\n",
       "    }\n",
       "</style>\n",
       "<table border=\"1\" class=\"dataframe\">\n",
       "  <thead>\n",
       "    <tr style=\"text-align: right;\">\n",
       "      <th></th>\n",
       "      <th>1st-edition</th>\n",
       "      <th>price</th>\n",
       "    </tr>\n",
       "    <tr>\n",
       "      <th>title</th>\n",
       "      <th></th>\n",
       "      <th></th>\n",
       "    </tr>\n",
       "  </thead>\n",
       "  <tbody>\n",
       "    <tr>\n",
       "      <th>개미</th>\n",
       "      <td>2013-05-30</td>\n",
       "      <td>15800</td>\n",
       "    </tr>\n",
       "    <tr>\n",
       "      <th>고구려</th>\n",
       "      <td>2011-02-28</td>\n",
       "      <td>15800</td>\n",
       "    </tr>\n",
       "    <tr>\n",
       "      <th>드래곤라자</th>\n",
       "      <td>1998-05-30</td>\n",
       "      <td>6300</td>\n",
       "    </tr>\n",
       "    <tr>\n",
       "      <th>퇴마록</th>\n",
       "      <td>1994-01-01</td>\n",
       "      <td>8550</td>\n",
       "    </tr>\n",
       "  </tbody>\n",
       "</table>\n",
       "</div>"
      ],
      "text/plain": [
       "      1st-edition  price\n",
       "title                   \n",
       "개미     2013-05-30  15800\n",
       "고구려    2011-02-28  15800\n",
       "드래곤라자  1998-05-30   6300\n",
       "퇴마록    1994-01-01   8550"
      ]
     },
     "execution_count": 64,
     "metadata": {},
     "output_type": "execute_result"
    }
   ],
   "source": [
    "df_title.select_dtypes(exclude=\"object\")"
   ]
  },
  {
   "cell_type": "code",
   "execution_count": 66,
   "metadata": {},
   "outputs": [
    {
     "data": {
      "text/html": [
       "<div>\n",
       "<style scoped>\n",
       "    .dataframe tbody tr th:only-of-type {\n",
       "        vertical-align: middle;\n",
       "    }\n",
       "\n",
       "    .dataframe tbody tr th {\n",
       "        vertical-align: top;\n",
       "    }\n",
       "\n",
       "    .dataframe thead th {\n",
       "        text-align: right;\n",
       "    }\n",
       "</style>\n",
       "<table border=\"1\" class=\"dataframe\">\n",
       "  <thead>\n",
       "    <tr style=\"text-align: right;\">\n",
       "      <th></th>\n",
       "      <th>writer</th>\n",
       "      <th>publisher</th>\n",
       "      <th>1st-edition</th>\n",
       "      <th>price</th>\n",
       "    </tr>\n",
       "    <tr>\n",
       "      <th>title</th>\n",
       "      <th></th>\n",
       "      <th></th>\n",
       "      <th></th>\n",
       "      <th></th>\n",
       "    </tr>\n",
       "  </thead>\n",
       "  <tbody>\n",
       "    <tr>\n",
       "      <th>개미</th>\n",
       "      <td>베르나르베르베르</td>\n",
       "      <td>열린책들</td>\n",
       "      <td>2013-05-30</td>\n",
       "      <td>15800</td>\n",
       "    </tr>\n",
       "    <tr>\n",
       "      <th>고구려</th>\n",
       "      <td>김진명</td>\n",
       "      <td>이타북스</td>\n",
       "      <td>2011-02-28</td>\n",
       "      <td>15800</td>\n",
       "    </tr>\n",
       "    <tr>\n",
       "      <th>드래곤라자</th>\n",
       "      <td>이영도</td>\n",
       "      <td>황금가지</td>\n",
       "      <td>1998-05-30</td>\n",
       "      <td>6300</td>\n",
       "    </tr>\n",
       "    <tr>\n",
       "      <th>퇴마록</th>\n",
       "      <td>이우혁</td>\n",
       "      <td>들녁</td>\n",
       "      <td>1994-01-01</td>\n",
       "      <td>8550</td>\n",
       "    </tr>\n",
       "  </tbody>\n",
       "</table>\n",
       "</div>"
      ],
      "text/plain": [
       "         writer publisher 1st-edition  price\n",
       "title                                       \n",
       "개미     베르나르베르베르      열린책들  2013-05-30  15800\n",
       "고구려         김진명      이타북스  2011-02-28  15800\n",
       "드래곤라자       이영도      황금가지  1998-05-30   6300\n",
       "퇴마록         이우혁        들녁  1994-01-01   8550"
      ]
     },
     "execution_count": 66,
     "metadata": {},
     "output_type": "execute_result"
    }
   ],
   "source": [
    "df_title"
   ]
  },
  {
   "cell_type": "code",
   "execution_count": 70,
   "metadata": {},
   "outputs": [
    {
     "data": {
      "text/html": [
       "<div>\n",
       "<style scoped>\n",
       "    .dataframe tbody tr th:only-of-type {\n",
       "        vertical-align: middle;\n",
       "    }\n",
       "\n",
       "    .dataframe tbody tr th {\n",
       "        vertical-align: top;\n",
       "    }\n",
       "\n",
       "    .dataframe thead th {\n",
       "        text-align: right;\n",
       "    }\n",
       "</style>\n",
       "<table border=\"1\" class=\"dataframe\">\n",
       "  <thead>\n",
       "    <tr style=\"text-align: right;\">\n",
       "      <th></th>\n",
       "      <th>writer</th>\n",
       "      <th>price</th>\n",
       "    </tr>\n",
       "    <tr>\n",
       "      <th>title</th>\n",
       "      <th></th>\n",
       "      <th></th>\n",
       "    </tr>\n",
       "  </thead>\n",
       "  <tbody>\n",
       "    <tr>\n",
       "      <th>개미</th>\n",
       "      <td>베르나르베르베르</td>\n",
       "      <td>15800</td>\n",
       "    </tr>\n",
       "    <tr>\n",
       "      <th>고구려</th>\n",
       "      <td>김진명</td>\n",
       "      <td>15800</td>\n",
       "    </tr>\n",
       "    <tr>\n",
       "      <th>드래곤라자</th>\n",
       "      <td>이영도</td>\n",
       "      <td>6300</td>\n",
       "    </tr>\n",
       "    <tr>\n",
       "      <th>퇴마록</th>\n",
       "      <td>이우혁</td>\n",
       "      <td>8550</td>\n",
       "    </tr>\n",
       "  </tbody>\n",
       "</table>\n",
       "</div>"
      ],
      "text/plain": [
       "         writer  price\n",
       "title                 \n",
       "개미     베르나르베르베르  15800\n",
       "고구려         김진명  15800\n",
       "드래곤라자       이영도   6300\n",
       "퇴마록         이우혁   8550"
      ]
     },
     "execution_count": 70,
     "metadata": {},
     "output_type": "execute_result"
    }
   ],
   "source": [
    "# 여러 개의 컬럼을 가지고 오고 싶을 때 : 리스트 형식으로\n",
    "df_title[[\"writer\", \"price\"]]"
   ]
  },
  {
   "cell_type": "code",
   "execution_count": 73,
   "metadata": {},
   "outputs": [
    {
     "data": {
      "text/plain": [
       "title\n",
       "개미       베르나르베르베르\n",
       "고구려           김진명\n",
       "드래곤라자         이영도\n",
       "퇴마록           이우혁\n",
       "Name: writer, dtype: object"
      ]
     },
     "execution_count": 73,
     "metadata": {},
     "output_type": "execute_result"
    },
    {
     "data": {
      "text/plain": [
       "pandas.core.series.Series"
      ]
     },
     "execution_count": 73,
     "metadata": {},
     "output_type": "execute_result"
    }
   ],
   "source": [
    "# 시리즈 (1차원)\n",
    "df_title[\"writer\"]\n",
    "type(df_title[\"writer\"])"
   ]
  },
  {
   "cell_type": "code",
   "execution_count": 74,
   "metadata": {},
   "outputs": [
    {
     "data": {
      "text/html": [
       "<div>\n",
       "<style scoped>\n",
       "    .dataframe tbody tr th:only-of-type {\n",
       "        vertical-align: middle;\n",
       "    }\n",
       "\n",
       "    .dataframe tbody tr th {\n",
       "        vertical-align: top;\n",
       "    }\n",
       "\n",
       "    .dataframe thead th {\n",
       "        text-align: right;\n",
       "    }\n",
       "</style>\n",
       "<table border=\"1\" class=\"dataframe\">\n",
       "  <thead>\n",
       "    <tr style=\"text-align: right;\">\n",
       "      <th></th>\n",
       "      <th>writer</th>\n",
       "    </tr>\n",
       "    <tr>\n",
       "      <th>title</th>\n",
       "      <th></th>\n",
       "    </tr>\n",
       "  </thead>\n",
       "  <tbody>\n",
       "    <tr>\n",
       "      <th>개미</th>\n",
       "      <td>베르나르베르베르</td>\n",
       "    </tr>\n",
       "    <tr>\n",
       "      <th>고구려</th>\n",
       "      <td>김진명</td>\n",
       "    </tr>\n",
       "    <tr>\n",
       "      <th>드래곤라자</th>\n",
       "      <td>이영도</td>\n",
       "    </tr>\n",
       "    <tr>\n",
       "      <th>퇴마록</th>\n",
       "      <td>이우혁</td>\n",
       "    </tr>\n",
       "  </tbody>\n",
       "</table>\n",
       "</div>"
      ],
      "text/plain": [
       "         writer\n",
       "title          \n",
       "개미     베르나르베르베르\n",
       "고구려         김진명\n",
       "드래곤라자       이영도\n",
       "퇴마록         이우혁"
      ]
     },
     "execution_count": 74,
     "metadata": {},
     "output_type": "execute_result"
    },
    {
     "data": {
      "text/plain": [
       "pandas.core.frame.DataFrame"
      ]
     },
     "execution_count": 74,
     "metadata": {},
     "output_type": "execute_result"
    }
   ],
   "source": [
    "# 데이터 프레임 (2차원)\n",
    "df_title[[\"writer\"]]\n",
    "type(df_title[[\"writer\"]])"
   ]
  },
  {
   "cell_type": "code",
   "execution_count": 75,
   "metadata": {},
   "outputs": [
    {
     "data": {
      "text/plain": [
       "writer                         이영도\n",
       "publisher                     황금가지\n",
       "1st-edition    1998-05-30 00:00:00\n",
       "price                         6300\n",
       "Name: 드래곤라자, dtype: object"
      ]
     },
     "execution_count": 75,
     "metadata": {},
     "output_type": "execute_result"
    }
   ],
   "source": [
    "# 컬럼이 아니라 인덱스로 찾을 때 location\n",
    "df_title.loc[\"드래곤라자\"]"
   ]
  },
  {
   "cell_type": "code",
   "execution_count": 78,
   "metadata": {},
   "outputs": [
    {
     "data": {
      "text/html": [
       "<div>\n",
       "<style scoped>\n",
       "    .dataframe tbody tr th:only-of-type {\n",
       "        vertical-align: middle;\n",
       "    }\n",
       "\n",
       "    .dataframe tbody tr th {\n",
       "        vertical-align: top;\n",
       "    }\n",
       "\n",
       "    .dataframe thead th {\n",
       "        text-align: right;\n",
       "    }\n",
       "</style>\n",
       "<table border=\"1\" class=\"dataframe\">\n",
       "  <thead>\n",
       "    <tr style=\"text-align: right;\">\n",
       "      <th></th>\n",
       "      <th>writer</th>\n",
       "      <th>publisher</th>\n",
       "      <th>1st-edition</th>\n",
       "      <th>price</th>\n",
       "    </tr>\n",
       "    <tr>\n",
       "      <th>title</th>\n",
       "      <th></th>\n",
       "      <th></th>\n",
       "      <th></th>\n",
       "      <th></th>\n",
       "    </tr>\n",
       "  </thead>\n",
       "  <tbody>\n",
       "    <tr>\n",
       "      <th>개미</th>\n",
       "      <td>베르나르베르베르</td>\n",
       "      <td>열린책들</td>\n",
       "      <td>2013-05-30</td>\n",
       "      <td>15800</td>\n",
       "    </tr>\n",
       "    <tr>\n",
       "      <th>고구려</th>\n",
       "      <td>김진명</td>\n",
       "      <td>이타북스</td>\n",
       "      <td>2011-02-28</td>\n",
       "      <td>15800</td>\n",
       "    </tr>\n",
       "    <tr>\n",
       "      <th>드래곤라자</th>\n",
       "      <td>이영도</td>\n",
       "      <td>황금가지</td>\n",
       "      <td>1998-05-30</td>\n",
       "      <td>6300</td>\n",
       "    </tr>\n",
       "    <tr>\n",
       "      <th>퇴마록</th>\n",
       "      <td>이우혁</td>\n",
       "      <td>들녁</td>\n",
       "      <td>1994-01-01</td>\n",
       "      <td>8550</td>\n",
       "    </tr>\n",
       "  </tbody>\n",
       "</table>\n",
       "</div>"
      ],
      "text/plain": [
       "         writer publisher 1st-edition  price\n",
       "title                                       \n",
       "개미     베르나르베르베르      열린책들  2013-05-30  15800\n",
       "고구려         김진명      이타북스  2011-02-28  15800\n",
       "드래곤라자       이영도      황금가지  1998-05-30   6300\n",
       "퇴마록         이우혁        들녁  1994-01-01   8550"
      ]
     },
     "execution_count": 78,
     "metadata": {},
     "output_type": "execute_result"
    }
   ],
   "source": [
    "df_title"
   ]
  },
  {
   "cell_type": "code",
   "execution_count": 80,
   "metadata": {},
   "outputs": [
    {
     "data": {
      "text/html": [
       "<div>\n",
       "<style scoped>\n",
       "    .dataframe tbody tr th:only-of-type {\n",
       "        vertical-align: middle;\n",
       "    }\n",
       "\n",
       "    .dataframe tbody tr th {\n",
       "        vertical-align: top;\n",
       "    }\n",
       "\n",
       "    .dataframe thead th {\n",
       "        text-align: right;\n",
       "    }\n",
       "</style>\n",
       "<table border=\"1\" class=\"dataframe\">\n",
       "  <thead>\n",
       "    <tr style=\"text-align: right;\">\n",
       "      <th></th>\n",
       "      <th>writer</th>\n",
       "      <th>publisher</th>\n",
       "      <th>1st-edition</th>\n",
       "      <th>price</th>\n",
       "    </tr>\n",
       "    <tr>\n",
       "      <th>title</th>\n",
       "      <th></th>\n",
       "      <th></th>\n",
       "      <th></th>\n",
       "      <th></th>\n",
       "    </tr>\n",
       "  </thead>\n",
       "  <tbody>\n",
       "    <tr>\n",
       "      <th>드래곤라자</th>\n",
       "      <td>이영도</td>\n",
       "      <td>황금가지</td>\n",
       "      <td>1998-05-30</td>\n",
       "      <td>6300</td>\n",
       "    </tr>\n",
       "    <tr>\n",
       "      <th>퇴마록</th>\n",
       "      <td>이우혁</td>\n",
       "      <td>들녁</td>\n",
       "      <td>1994-01-01</td>\n",
       "      <td>8550</td>\n",
       "    </tr>\n",
       "  </tbody>\n",
       "</table>\n",
       "</div>"
      ],
      "text/plain": [
       "      writer publisher 1st-edition  price\n",
       "title                                    \n",
       "드래곤라자    이영도      황금가지  1998-05-30   6300\n",
       "퇴마록      이우혁        들녁  1994-01-01   8550"
      ]
     },
     "execution_count": 80,
     "metadata": {},
     "output_type": "execute_result"
    }
   ],
   "source": [
    "# 여러개 가져올 땐 대괄호로!\n",
    "df_title.loc[[\"드래곤라자\", \"퇴마록\"]]"
   ]
  },
  {
   "cell_type": "code",
   "execution_count": 83,
   "metadata": {},
   "outputs": [
    {
     "data": {
      "text/plain": [
       "writer                    베르나르베르베르\n",
       "publisher                     열린책들\n",
       "1st-edition    2013-05-30 00:00:00\n",
       "price                        15800\n",
       "Name: 개미, dtype: object"
      ]
     },
     "execution_count": 83,
     "metadata": {},
     "output_type": "execute_result"
    }
   ],
   "source": [
    "# iloc : index location 해당 인덱스의 번지\n",
    "df_title.iloc[0]"
   ]
  },
  {
   "cell_type": "code",
   "execution_count": 84,
   "metadata": {},
   "outputs": [
    {
     "data": {
      "text/html": [
       "<div>\n",
       "<style scoped>\n",
       "    .dataframe tbody tr th:only-of-type {\n",
       "        vertical-align: middle;\n",
       "    }\n",
       "\n",
       "    .dataframe tbody tr th {\n",
       "        vertical-align: top;\n",
       "    }\n",
       "\n",
       "    .dataframe thead th {\n",
       "        text-align: right;\n",
       "    }\n",
       "</style>\n",
       "<table border=\"1\" class=\"dataframe\">\n",
       "  <thead>\n",
       "    <tr style=\"text-align: right;\">\n",
       "      <th></th>\n",
       "      <th>writer</th>\n",
       "      <th>publisher</th>\n",
       "      <th>1st-edition</th>\n",
       "      <th>price</th>\n",
       "    </tr>\n",
       "    <tr>\n",
       "      <th>title</th>\n",
       "      <th></th>\n",
       "      <th></th>\n",
       "      <th></th>\n",
       "      <th></th>\n",
       "    </tr>\n",
       "  </thead>\n",
       "  <tbody>\n",
       "    <tr>\n",
       "      <th>드래곤라자</th>\n",
       "      <td>이영도</td>\n",
       "      <td>황금가지</td>\n",
       "      <td>1998-05-30</td>\n",
       "      <td>6300</td>\n",
       "    </tr>\n",
       "    <tr>\n",
       "      <th>퇴마록</th>\n",
       "      <td>이우혁</td>\n",
       "      <td>들녁</td>\n",
       "      <td>1994-01-01</td>\n",
       "      <td>8550</td>\n",
       "    </tr>\n",
       "  </tbody>\n",
       "</table>\n",
       "</div>"
      ],
      "text/plain": [
       "      writer publisher 1st-edition  price\n",
       "title                                    \n",
       "드래곤라자    이영도      황금가지  1998-05-30   6300\n",
       "퇴마록      이우혁        들녁  1994-01-01   8550"
      ]
     },
     "execution_count": 84,
     "metadata": {},
     "output_type": "execute_result"
    }
   ],
   "source": [
    "df_title.iloc[2:4]"
   ]
  },
  {
   "cell_type": "code",
   "execution_count": null,
   "metadata": {},
   "outputs": [],
   "source": []
  }
 ],
 "metadata": {
  "kernelspec": {
   "display_name": "dsde04",
   "language": "python",
   "name": "python3"
  },
  "language_info": {
   "codemirror_mode": {
    "name": "ipython",
    "version": 3
   },
   "file_extension": ".py",
   "mimetype": "text/x-python",
   "name": "python",
   "nbconvert_exporter": "python",
   "pygments_lexer": "ipython3",
   "version": "3.10.11"
  },
  "orig_nbformat": 4
 },
 "nbformat": 4,
 "nbformat_minor": 2
}
