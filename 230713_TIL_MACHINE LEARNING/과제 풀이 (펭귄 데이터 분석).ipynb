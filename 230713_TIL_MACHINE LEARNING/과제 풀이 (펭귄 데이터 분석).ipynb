{
 "cells": [
  {
   "cell_type": "code",
   "execution_count": 77,
   "metadata": {},
   "outputs": [],
   "source": [
    "import seaborn as sns\n",
    "import pandas as pd\n",
    "\n",
    "import matplotlib.pyplot as plt\n",
    "\n",
    "from sklearn.preprocessing import StandardScaler\n",
    "from sklearn.model_selection import train_test_split\n",
    "\n",
    "from sklearn.naive_bayes import GaussianNB\n",
    "from sklearn.neighbors import KNeighborsClassifier\n",
    "from sklearn.tree import DecisionTreeClassifier\n",
    "\n",
    "from sklearn.metrics import accuracy_score, r2_score, precision_score, recall_score, roc_auc_score, roc_curve"
   ]
  },
  {
   "cell_type": "code",
   "execution_count": 78,
   "metadata": {},
   "outputs": [],
   "source": [
    "penguins = sns.load_dataset(\"penguins\")"
   ]
  },
  {
   "cell_type": "code",
   "execution_count": 79,
   "metadata": {},
   "outputs": [
    {
     "data": {
      "text/plain": [
       "3"
      ]
     },
     "execution_count": 79,
     "metadata": {},
     "output_type": "execute_result"
    }
   ],
   "source": [
    "num_species = penguins[\"species\"].nunique()\n",
    "num_species"
   ]
  },
  {
   "cell_type": "code",
   "execution_count": 80,
   "metadata": {},
   "outputs": [
    {
     "data": {
      "text/plain": [
       "species              0\n",
       "island               0\n",
       "bill_length_mm       0\n",
       "bill_depth_mm        0\n",
       "flipper_length_mm    0\n",
       "body_mass_g          0\n",
       "sex                  9\n",
       "dtype: int64"
      ]
     },
     "execution_count": 80,
     "metadata": {},
     "output_type": "execute_result"
    }
   ],
   "source": [
    "penguins.dropna(subset=[\"bill_length_mm\"], inplace=True)\n",
    "penguins.isna().sum()"
   ]
  },
  {
   "cell_type": "code",
   "execution_count": 81,
   "metadata": {},
   "outputs": [],
   "source": [
    "# 나이브 베이즈, knn(k=3), 의사결정트리(depth=3) 로\n",
    "# 펭귄의 종을 예측하는 모델을 만들고 학습하자!\n",
    "\n",
    "# 스탠다드 스케일러로 정규화 해야 함\n",
    "\n",
    "# 각 모델의 정확도, r2스코어, precision스코어, recall스코어\n",
    "# roc auc 스코어를 각각 출력하자!"
   ]
  },
  {
   "cell_type": "code",
   "execution_count": 82,
   "metadata": {},
   "outputs": [
    {
     "data": {
      "text/plain": [
       "array([0, 0, 0, 1, 1, 1, 0, 0, 0, 0, 0, 1, 0, 2, 0, 1, 1, 1, 1, 1, 1, 0,\n",
       "       1, 0, 1, 0, 1, 1, 1, 1, 2, 2, 1, 0, 2, 1, 0, 0, 1, 0, 1, 2, 2, 2,\n",
       "       1, 0, 0, 2, 1, 0, 1, 0, 1, 1, 0, 2, 0, 1, 1, 2, 0, 0, 1, 0, 0, 0,\n",
       "       0, 1, 1], dtype=int64)"
      ]
     },
     "execution_count": 82,
     "metadata": {},
     "output_type": "execute_result"
    }
   ],
   "source": [
    "# [나이브 베이즈 : model01]\n",
    "# 1. 데이터 준비\n",
    "x = penguins[[\"bill_length_mm\", \"bill_depth_mm\", \"flipper_length_mm\", \"body_mass_g\"]]\n",
    "y = penguins[\"species\"].map(lambda x: 0 if x==\"Adelie\" else 1 if x==\"Gentoo\" else 2)\n",
    "\n",
    "# 1-1. 스케일링\n",
    "x_scale = StandardScaler().fit_transform(x)\n",
    "\n",
    "# 2. 데이터 나누기\n",
    "x_train, x_test, y_train, y_test = train_test_split(x_scale, y, test_size=0.2, random_state=1)\n",
    "\n",
    "# 3. 모델 선택\n",
    "model01 = GaussianNB()\n",
    "\n",
    "# 4. 학습\n",
    "model01.fit(x_train, y_train)\n",
    "\n",
    "# 5. 평가\n",
    "model01.score(x_test, y_test)\n",
    "\n",
    "# 6. 예측\n",
    "predict = model01.predict(x_test)\n",
    "predict"
   ]
  },
  {
   "cell_type": "code",
   "execution_count": 83,
   "metadata": {},
   "outputs": [
    {
     "name": "stdout",
     "output_type": "stream",
     "text": [
      "0.9710144927536232\n",
      "0.7630901287553649\n",
      "[0.96551724 1.         0.9       ]\n",
      "[0.96551724 1.         0.9       ]\n"
     ]
    }
   ],
   "source": [
    "# 정확도(accuracy)\n",
    "accuracy01 = accuracy_score(y_test, predict)\n",
    "\n",
    "# r2 스코어\n",
    "r201 = r2_score(y_test, predict)\n",
    "\n",
    "# precision 스코어\n",
    "precision01 = precision_score(y_test, predict, average=None)\n",
    "\n",
    "# recall 스코어\n",
    "recall01 = recall_score(y_test, predict, average=None)\n",
    "\n",
    "print(accuracy01)\n",
    "print(r201)\n",
    "print(precision01)\n",
    "print(recall01)\n"
   ]
  },
  {
   "cell_type": "code",
   "execution_count": 97,
   "metadata": {},
   "outputs": [
    {
     "data": {
      "text/plain": [
       "array([[9.98805163e-01, 1.60602438e-11, 1.19483698e-03],\n",
       "       [9.97557731e-01, 1.09290759e-09, 2.44226797e-03],\n",
       "       [9.92475033e-01, 2.42592255e-11, 7.52496672e-03],\n",
       "       [3.82599407e-14, 1.00000000e+00, 1.45887237e-10],\n",
       "       [1.28728904e-13, 1.00000000e+00, 3.25140737e-10],\n",
       "       [7.32897875e-10, 9.99999904e-01, 9.51323244e-08],\n",
       "       [8.36775813e-01, 3.28513875e-07, 1.63223859e-01],\n",
       "       [9.99411571e-01, 2.13303285e-09, 5.88426724e-04],\n",
       "       [9.98297886e-01, 1.33838571e-07, 1.70198036e-03],\n",
       "       [9.58614419e-01, 1.71590994e-08, 4.13855639e-02],\n",
       "       [9.99835942e-01, 3.00966090e-10, 1.64057389e-04],\n",
       "       [1.96783129e-11, 9.99999992e-01, 8.09045612e-09],\n",
       "       [9.99965265e-01, 1.90763249e-10, 3.47343961e-05],\n",
       "       [3.95535122e-02, 2.81730397e-06, 9.60443671e-01],\n",
       "       [9.94808843e-01, 1.93009313e-13, 5.19115738e-03],\n",
       "       [4.66364089e-12, 1.00000000e+00, 1.02776481e-10],\n",
       "       [1.77384690e-10, 9.99999921e-01, 7.83721862e-08],\n",
       "       [2.91755632e-05, 9.99919368e-01, 5.14567034e-05],\n",
       "       [2.16122751e-16, 1.00000000e+00, 2.17246760e-12],\n",
       "       [1.98372773e-08, 9.99999481e-01, 4.98851972e-07],\n",
       "       [2.51593918e-08, 9.99999734e-01, 2.40508668e-07],\n",
       "       [9.99858117e-01, 2.57185318e-11, 1.41882613e-04],\n",
       "       [4.83713705e-07, 9.99998880e-01, 6.35945066e-07],\n",
       "       [9.96584606e-01, 6.20059909e-08, 3.41533193e-03],\n",
       "       [3.60396430e-15, 1.00000000e+00, 1.73296211e-11],\n",
       "       [7.88931273e-01, 1.09987386e-05, 2.11057728e-01],\n",
       "       [8.27967330e-16, 1.00000000e+00, 1.88531846e-11],\n",
       "       [7.01600123e-06, 9.99990379e-01, 2.60464566e-06],\n",
       "       [3.91302013e-10, 9.99996232e-01, 3.76785867e-06],\n",
       "       [4.99473838e-10, 9.99999999e-01, 8.16635700e-10],\n",
       "       [5.77769812e-04, 4.76757613e-08, 9.99422183e-01],\n",
       "       [6.94367529e-05, 1.02939753e-06, 9.99929534e-01],\n",
       "       [1.52590407e-09, 9.99999883e-01, 1.15762945e-07],\n",
       "       [9.99623536e-01, 5.94524746e-12, 3.76464171e-04],\n",
       "       [1.04072805e-01, 1.18893633e-10, 8.95927195e-01],\n",
       "       [6.24498206e-15, 9.99999997e-01, 2.92923812e-09],\n",
       "       [9.99924133e-01, 1.35821499e-11, 7.58674318e-05],\n",
       "       [9.99078783e-01, 1.42716041e-10, 9.21216619e-04],\n",
       "       [2.43216229e-13, 1.00000000e+00, 3.13005797e-11],\n",
       "       [9.96026200e-01, 7.04299647e-11, 3.97379992e-03],\n",
       "       [2.99188808e-08, 9.99999799e-01, 1.70984414e-07],\n",
       "       [6.69906943e-02, 1.61182131e-06, 9.33007694e-01],\n",
       "       [2.66149322e-05, 2.12944232e-06, 9.99971256e-01],\n",
       "       [3.96113265e-01, 3.56976489e-06, 6.03883166e-01],\n",
       "       [2.80640230e-16, 1.00000000e+00, 3.69016953e-12],\n",
       "       [9.97963649e-01, 1.20873384e-10, 2.03635123e-03],\n",
       "       [8.82883567e-01, 2.82077002e-03, 1.14295663e-01],\n",
       "       [3.36845296e-06, 2.64963759e-04, 9.99731668e-01],\n",
       "       [4.66080723e-09, 9.99998676e-01, 1.31962774e-06],\n",
       "       [9.97422153e-01, 1.38564649e-08, 2.57783362e-03],\n",
       "       [9.87214769e-09, 9.99999929e-01, 6.12130914e-08],\n",
       "       [9.99754639e-01, 1.08405712e-07, 2.45252443e-04],\n",
       "       [2.57673102e-15, 9.99999999e-01, 1.19835124e-09],\n",
       "       [1.01877316e-11, 9.99999966e-01, 3.44380928e-08],\n",
       "       [9.97059299e-01, 4.48357354e-14, 2.94070093e-03],\n",
       "       [4.39426846e-03, 4.71410589e-04, 9.95134321e-01],\n",
       "       [9.99738647e-01, 1.67341763e-16, 2.61352881e-04],\n",
       "       [8.11057915e-06, 9.99576146e-01, 4.15743058e-04],\n",
       "       [1.37580298e-10, 9.99999791e-01, 2.08684146e-07],\n",
       "       [1.96662281e-06, 4.50142165e-06, 9.99993532e-01],\n",
       "       [9.98875452e-01, 1.11938689e-11, 1.12454828e-03],\n",
       "       [9.99961107e-01, 9.01405845e-12, 3.88926575e-05],\n",
       "       [1.37745639e-16, 1.00000000e+00, 1.74542135e-15],\n",
       "       [9.99811146e-01, 3.95117264e-11, 1.88853616e-04],\n",
       "       [9.97657248e-01, 2.34546533e-10, 2.34275135e-03],\n",
       "       [9.97655838e-01, 2.58810515e-06, 2.34157417e-03],\n",
       "       [8.06613845e-01, 2.58204344e-03, 1.90804112e-01],\n",
       "       [4.00767758e-09, 9.99998955e-01, 1.04121528e-06],\n",
       "       [1.81984780e-14, 1.00000000e+00, 8.58180286e-11]])"
      ]
     },
     "execution_count": 97,
     "metadata": {},
     "output_type": "execute_result"
    }
   ],
   "source": [
    "predict_proba = model01.predict_proba(x_test)\n",
    "predict_proba"
   ]
  },
  {
   "cell_type": "code",
   "execution_count": 98,
   "metadata": {},
   "outputs": [
    {
     "name": "stdout",
     "output_type": "stream",
     "text": [
      "ROC-AUC Score: 0.9948860315604909\n"
     ]
    }
   ],
   "source": [
    "roc_auc01 = roc_auc_score(y_test, predict_proba, multi_class='ovr')\n",
    "print(\"ROC-AUC Score:\", roc_auc01)"
   ]
  },
  {
   "cell_type": "code",
   "execution_count": 86,
   "metadata": {},
   "outputs": [
    {
     "data": {
      "text/plain": [
       "\"\\nfpr, tpr, thresholds = roc_curve(y_test, predict)\\n\\nplt.plot(fpr, tpr)\\nplt.xlabel('False Positive Rate (FPR)')\\nplt.ylabel('True Positive Rate (TPR)')\\nplt.title('ROC Curve')\\nplt.show()\\n\""
      ]
     },
     "execution_count": 86,
     "metadata": {},
     "output_type": "execute_result"
    }
   ],
   "source": [
    "# roc_auc  \n",
    "# roc_auc = roc_auc_score(y_test, predict)\n",
    "\n",
    "# 이진분류가 아니라서 roc_curve 함수를 그릴 수 없는건가?\n",
    "\n",
    "\"\"\"\n",
    "fpr, tpr, thresholds = roc_curve(y_test, predict)\n",
    "\n",
    "plt.plot(fpr, tpr)\n",
    "plt.xlabel('False Positive Rate (FPR)')\n",
    "plt.ylabel('True Positive Rate (TPR)')\n",
    "plt.title('ROC Curve')\n",
    "plt.show()\n",
    "\"\"\""
   ]
  },
  {
   "cell_type": "code",
   "execution_count": 87,
   "metadata": {},
   "outputs": [
    {
     "data": {
      "text/plain": [
       "array([0, 0, 0, 1, 1, 1, 0, 0, 0, 2, 0, 1, 0, 2, 0, 1, 1, 1, 1, 1, 1, 0,\n",
       "       1, 0, 1, 0, 1, 1, 1, 1, 2, 2, 1, 0, 0, 1, 0, 0, 1, 0, 1, 0, 2, 2,\n",
       "       1, 0, 0, 2, 1, 0, 1, 0, 1, 1, 0, 2, 0, 1, 1, 2, 0, 0, 1, 0, 0, 0,\n",
       "       0, 1, 1], dtype=int64)"
      ]
     },
     "execution_count": 87,
     "metadata": {},
     "output_type": "execute_result"
    }
   ],
   "source": [
    "# [Knn : model02]\n",
    "# 1. 데이터 준비\n",
    "x = penguins[[\"bill_length_mm\", \"bill_depth_mm\", \"flipper_length_mm\", \"body_mass_g\"]]\n",
    "y = penguins[\"species\"].map(lambda x: 0 if x==\"Adelie\" else 1 if x==\"Gentoo\" else 2)\n",
    "\n",
    "# 1-1. 스케일링\n",
    "x_scale = StandardScaler().fit_transform(x)\n",
    "\n",
    "# 2. 데이터 나누기\n",
    "x_train, x_test, y_train, y_test = train_test_split(x_scale, y, test_size=0.2, random_state=1)\n",
    "\n",
    "# 3. 모델 선택\n",
    "model02 = KNeighborsClassifier()\n",
    "\n",
    "# 4. 학습\n",
    "model02.fit(x_train, y_train)\n",
    "\n",
    "# 5. 평가\n",
    "model02.score(x_test, y_test)\n",
    "\n",
    "# 6. 예측\n",
    "predict = model02.predict(x_test)\n",
    "predict"
   ]
  },
  {
   "cell_type": "code",
   "execution_count": 102,
   "metadata": {},
   "outputs": [
    {
     "name": "stdout",
     "output_type": "stream",
     "text": [
      "0.9710144927536232\n",
      "0.851931330472103\n",
      "[0.96551724 1.         0.90909091]\n",
      "[0.96551724 0.96666667 1.        ]\n",
      "ROC-AUC Score: 0.9991476719267484\n"
     ]
    }
   ],
   "source": [
    "# 정확도(accuracy)\n",
    "accuracy02 = accuracy_score(y_test, predict)\n",
    "\n",
    "# r2 스코어\n",
    "r202 = r2_score(y_test, predict)\n",
    "\n",
    "# precision 스코어\n",
    "precision02 = precision_score(y_test, predict, average=None)\n",
    "\n",
    "# recall 스코어\n",
    "recall02 = recall_score(y_test, predict, average=None)\n",
    "\n",
    "print(accuracy02)\n",
    "print(r202)\n",
    "print(precision02)\n",
    "print(recall02)\n",
    "\n",
    "# roc_auc_score\n",
    "predict_proba = model02.predict_proba(x_test)\n",
    "predict_proba\n",
    "roc_auc02 = roc_auc_score(y_test, predict_proba, multi_class='ovr')\n",
    "print(\"ROC-AUC Score:\", roc_auc02)\n"
   ]
  },
  {
   "cell_type": "code",
   "execution_count": 89,
   "metadata": {},
   "outputs": [
    {
     "data": {
      "text/plain": [
       "array([0, 0, 0, 1, 1, 1, 0, 0, 0, 2, 0, 1, 0, 2, 0, 1, 1, 1, 1, 1, 1, 0,\n",
       "       0, 0, 1, 0, 1, 1, 1, 1, 2, 2, 1, 0, 2, 1, 0, 0, 1, 0, 1, 2, 2, 2,\n",
       "       1, 0, 0, 2, 1, 0, 1, 0, 1, 1, 0, 2, 0, 1, 1, 2, 0, 0, 1, 0, 0, 0,\n",
       "       0, 1, 1], dtype=int64)"
      ]
     },
     "execution_count": 89,
     "metadata": {},
     "output_type": "execute_result"
    }
   ],
   "source": [
    "# [의사결정트리(depth=3) : model03]\n",
    "# 1. 데이터 준비\n",
    "x = penguins[[\"bill_length_mm\", \"bill_depth_mm\", \"flipper_length_mm\", \"body_mass_g\"]]\n",
    "y = penguins[\"species\"].map(lambda x: 0 if x==\"Adelie\" else 1 if x==\"Gentoo\" else 2)\n",
    "\n",
    "# 1-1. 스케일링\n",
    "x_scale = StandardScaler().fit_transform(x)\n",
    "\n",
    "# 2. 데이터 나누기\n",
    "x_train, x_test, y_train, y_test = train_test_split(x_scale, y, test_size=0.2, random_state=1)\n",
    "\n",
    "# 3. 모델 선택\n",
    "model03 = DecisionTreeClassifier()\n",
    "\n",
    "# 4. 학습\n",
    "model03.fit(x_train, y_train)\n",
    "\n",
    "# 5. 평가\n",
    "model03.score(x_test, y_test)\n",
    "\n",
    "# 6. 예측\n",
    "predict = model03.predict(x_test)\n",
    "predict"
   ]
  },
  {
   "cell_type": "code",
   "execution_count": 100,
   "metadata": {},
   "outputs": [
    {
     "name": "stdout",
     "output_type": "stream",
     "text": [
      "0.9710144927536232\n",
      "0.851931330472103\n",
      "[0.96551724 1.         0.90909091]\n",
      "[0.96551724 0.96666667 1.        ]\n",
      "ROC-AUC Score: 0.981705792583934\n"
     ]
    }
   ],
   "source": [
    "# 정확도(accuracy)\n",
    "accuracy03 = accuracy_score(y_test, predict)\n",
    "\n",
    "# r2 스코어\n",
    "r203 = r2_score(y_test, predict)\n",
    "\n",
    "# precision 스코어\n",
    "precision03 = precision_score(y_test, predict, average=None)\n",
    "\n",
    "# recall 스코어\n",
    "recall03 = recall_score(y_test, predict, average=None)\n",
    "\n",
    "print(accuracy03)\n",
    "print(r203)\n",
    "print(precision03)\n",
    "print(recall03)\n",
    "\n",
    "# roc_auc_score\n",
    "predict_proba = model03.predict_proba(x_test)\n",
    "predict_proba\n",
    "roc_auc03 = roc_auc_score(y_test, predict_proba, multi_class='ovr')\n",
    "print(\"ROC-AUC Score:\", roc_auc03)"
   ]
  },
  {
   "cell_type": "code",
   "execution_count": null,
   "metadata": {},
   "outputs": [],
   "source": []
  }
 ],
 "metadata": {
  "kernelspec": {
   "display_name": "dsde04",
   "language": "python",
   "name": "python3"
  },
  "language_info": {
   "codemirror_mode": {
    "name": "ipython",
    "version": 3
   },
   "file_extension": ".py",
   "mimetype": "text/x-python",
   "name": "python",
   "nbconvert_exporter": "python",
   "pygments_lexer": "ipython3",
   "version": "3.10.11"
  },
  "orig_nbformat": 4
 },
 "nbformat": 4,
 "nbformat_minor": 2
}
