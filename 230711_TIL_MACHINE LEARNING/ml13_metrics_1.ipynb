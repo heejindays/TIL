{
 "cells": [
  {
   "cell_type": "markdown",
   "metadata": {},
   "source": [
    "metrix(평가지표)\n",
    "\n",
    "- MAE (Mean Absolute Error) : 오차 절대값 평균\n",
    "\n",
    "- MSE (Mean Squared Error) : 오차 제곱 평균\n",
    "\n",
    "- RMSE (Root Mean Squared Error) : \"오차 제곱 평균\"의 제곱근\n",
    "\n",
    "R Squared (결정계수) : 예측값 Variance / 실제값 Variance (1에 가까울수록 정확도가 높다)\n",
    "\n",
    "confusion metrix (혼동 행렬)\n",
    "\n",
    "- TP (True Positive)\n",
    "- FP (False Positive)\n",
    "- TN (True Negative)\n",
    "- FN (False Negative)\n",
    "\n",
    "accuracy (score) : 정답 / 전체 -> TP + TN / (TP + TN + FP + FN)\n",
    "\n",
    "f1_score : Presision과 Recall의 조화 평균\n",
    "\n",
    "2 * (precision * recall / (precision + recall))\n",
    "\n",
    "- Presision (정밀도) : TP / (TP + FP) (True로 분류한 것 중 정답 비율)\n",
    "\n",
    "- Recall (재현율 / 민감도) : TP / TP + FN (실제 True 중 True로 예측한 비율)\n",
    "\n",
    "- TPR (True Positive Rate) : TP / (TP + FN) (=Recall)\n",
    "\n",
    "- FPR (False Positive Rate) : FP / (FP + TN) (실제 False 중 False로 에측한 비율)"
   ]
  },
  {
   "cell_type": "code",
   "execution_count": 1,
   "metadata": {},
   "outputs": [],
   "source": [
    "import numpy as np\n",
    "from sklearn.metrics import mean_squared_error, mean_absolute_error, r2_score"
   ]
  },
  {
   "cell_type": "code",
   "execution_count": 11,
   "metadata": {},
   "outputs": [
    {
     "data": {
      "text/plain": [
       "array([ 0, -1,  0,  0,  3,  0,  0,  0, -2,  0])"
      ]
     },
     "execution_count": 11,
     "metadata": {},
     "output_type": "execute_result"
    }
   ],
   "source": [
    "# 모델을 만들었다고 치고, 그 결과를 가지고 평가만 해보기\n",
    "\n",
    "y_test = np.array([1, 2, 3, 4, 5, 6, 7, 8, 9, 10])\n",
    "predict = np.array([1, 1, 3, 4, 8, 6, 7, 8, 7, 10])\n",
    "predict - y_test"
   ]
  },
  {
   "cell_type": "code",
   "execution_count": 9,
   "metadata": {},
   "outputs": [],
   "source": [
    "# 절대값을 다 더한 뒤 평균을 냄\n",
    "# MAE (Mean Absolute Error) : 오차 절대값 평균\n",
    "def mae(y_test, predict):\n",
    "    return abs(y_test - predict).mean()"
   ]
  },
  {
   "cell_type": "code",
   "execution_count": 10,
   "metadata": {},
   "outputs": [
    {
     "name": "stdout",
     "output_type": "stream",
     "text": [
      "0.6\n",
      "0.6\n"
     ]
    }
   ],
   "source": [
    "print(mae(y_test, predict))\n",
    "print(mean_absolute_error(y_test, predict))"
   ]
  },
  {
   "cell_type": "code",
   "execution_count": 12,
   "metadata": {},
   "outputs": [],
   "source": [
    "# 오차의 평균을 제곱함\n",
    "# MAE (Mean Absolute Error) : 오차 절대값 평균\n",
    "def mse(y_test, predict):\n",
    "    return ((y_test - predict)**2).mean()"
   ]
  },
  {
   "cell_type": "code",
   "execution_count": 13,
   "metadata": {},
   "outputs": [
    {
     "name": "stdout",
     "output_type": "stream",
     "text": [
      "1.4\n",
      "1.4\n"
     ]
    }
   ],
   "source": [
    "print(mse(y_test, predict))\n",
    "print(mean_squared_error(y_test, predict))"
   ]
  },
  {
   "cell_type": "code",
   "execution_count": 14,
   "metadata": {},
   "outputs": [],
   "source": [
    "# RMSE (Root Mean Squared Error) : \"오차 제곱 평균\"의 제곱근\n",
    "def rmse(y_test, predict):\n",
    "    return np.sqrt(((y_test - predict)**2).mean())"
   ]
  },
  {
   "cell_type": "code",
   "execution_count": 16,
   "metadata": {},
   "outputs": [
    {
     "name": "stdout",
     "output_type": "stream",
     "text": [
      "1.1832159566199232\n",
      "1.1832159566199232\n"
     ]
    }
   ],
   "source": [
    "print(rmse(y_test, predict))\n",
    "# sklearn에서 바로 RMSE가 없어서 따로 작업\n",
    "print(mean_squared_error(y_test, predict, squared=False))"
   ]
  },
  {
   "cell_type": "code",
   "execution_count": 17,
   "metadata": {},
   "outputs": [],
   "source": [
    "def my_r2_score(y_test, predict):\n",
    "    y_bar = y_test.mean()\n",
    "    ss_tot = ((y_test - y_bar)**2).sum()\n",
    "    ss_res = ((y_test - predict)**2).sum()\n",
    "\n",
    "    return 1 - (ss_res / ss_tot)"
   ]
  },
  {
   "cell_type": "code",
   "execution_count": 18,
   "metadata": {},
   "outputs": [
    {
     "name": "stdout",
     "output_type": "stream",
     "text": [
      "0.8303030303030303\n",
      "0.8303030303030303\n"
     ]
    }
   ],
   "source": [
    "print(my_r2_score(y_test, predict))\n",
    "print(r2_score(y_test, predict))"
   ]
  },
  {
   "cell_type": "code",
   "execution_count": null,
   "metadata": {},
   "outputs": [],
   "source": []
  }
 ],
 "metadata": {
  "kernelspec": {
   "display_name": "dsde04",
   "language": "python",
   "name": "python3"
  },
  "language_info": {
   "codemirror_mode": {
    "name": "ipython",
    "version": 3
   },
   "file_extension": ".py",
   "mimetype": "text/x-python",
   "name": "python",
   "nbconvert_exporter": "python",
   "pygments_lexer": "ipython3",
   "version": "3.10.11"
  },
  "orig_nbformat": 4
 },
 "nbformat": 4,
 "nbformat_minor": 2
}
