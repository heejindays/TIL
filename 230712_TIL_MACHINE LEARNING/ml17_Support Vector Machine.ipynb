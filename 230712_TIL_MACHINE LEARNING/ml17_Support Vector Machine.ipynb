{
 "cells": [
  {
   "cell_type": "code",
   "execution_count": 4,
   "metadata": {},
   "outputs": [],
   "source": [
    "from sklearn.preprocessing import StandardScaler\n",
    "from sklearn.svm import NuSVC\n",
    "import numpy as np"
   ]
  },
  {
   "cell_type": "code",
   "execution_count": 6,
   "metadata": {},
   "outputs": [
    {
     "name": "stdout",
     "output_type": "stream",
     "text": [
      "[[ 1.76405235  0.40015721]\n",
      " [ 0.97873798  2.2408932 ]\n",
      " [ 1.86755799 -0.97727788]\n",
      " [ 0.95008842 -0.15135721]\n",
      " [-0.10321885  0.4105985 ]\n",
      " [ 0.14404357  1.45427351]\n",
      " [ 0.76103773  0.12167502]\n",
      " [ 0.44386323  0.33367433]\n",
      " [ 1.49407907 -0.20515826]\n",
      " [ 0.3130677  -0.85409574]\n",
      " [-2.55298982  0.6536186 ]\n",
      " [ 0.8644362  -0.74216502]\n",
      " [ 2.26975462 -1.45436567]\n",
      " [ 0.04575852 -0.18718385]\n",
      " [ 1.53277921  1.46935877]\n",
      " [ 0.15494743  0.37816252]\n",
      " [-0.88778575 -1.98079647]\n",
      " [-0.34791215  0.15634897]\n",
      " [ 1.23029068  1.20237985]\n",
      " [-0.38732682 -0.30230275]\n",
      " [-1.04855297 -1.42001794]\n",
      " [-1.70627019  1.9507754 ]\n",
      " [-0.50965218 -0.4380743 ]\n",
      " [-1.25279536  0.77749036]\n",
      " [-1.61389785 -0.21274028]\n",
      " [-0.89546656  0.3869025 ]\n",
      " [-0.51080514 -1.18063218]\n",
      " [-0.02818223  0.42833187]\n",
      " [ 0.06651722  0.3024719 ]\n",
      " [-0.63432209 -0.36274117]\n",
      " [-0.67246045 -0.35955316]\n",
      " [-0.81314628 -1.7262826 ]\n",
      " [ 0.17742614 -0.40178094]\n",
      " [-1.63019835  0.46278226]\n",
      " [-0.90729836  0.0519454 ]\n",
      " [ 0.72909056  0.12898291]\n",
      " [ 1.13940068 -1.23482582]\n",
      " [ 0.40234164 -0.68481009]\n",
      " [-0.87079715 -0.57884966]\n",
      " [-0.31155253  0.05616534]\n",
      " [-1.16514984  0.90082649]\n",
      " [ 0.46566244 -1.53624369]\n",
      " [ 1.48825219  1.89588918]\n",
      " [ 1.17877957 -0.17992484]\n",
      " [-1.07075262  1.05445173]\n",
      " [-0.40317695  1.22244507]\n",
      " [ 0.20827498  0.97663904]\n",
      " [ 0.3563664   0.70657317]\n",
      " [ 0.01050002  1.78587049]\n",
      " [ 0.12691209  0.40198936]\n",
      " [ 1.8831507  -1.34775906]\n",
      " [-1.270485    0.96939671]\n",
      " [-1.17312341  1.94362119]\n",
      " [-0.41361898 -0.74745481]\n",
      " [ 1.92294203  1.48051479]\n",
      " [ 1.86755896  0.90604466]\n",
      " [-0.86122569  1.91006495]\n",
      " [-0.26800337  0.8024564 ]\n",
      " [ 0.94725197 -0.15501009]\n",
      " [ 0.61407937  0.92220667]\n",
      " [ 0.37642553 -1.09940079]\n",
      " [ 0.29823817  1.3263859 ]\n",
      " [-0.69456786 -0.14963454]\n",
      " [-0.43515355  1.84926373]\n",
      " [ 0.67229476  0.40746184]\n",
      " [-0.76991607  0.53924919]\n",
      " [-0.67433266  0.03183056]\n",
      " [-0.63584608  0.67643329]\n",
      " [ 0.57659082 -0.20829876]\n",
      " [ 0.39600671 -1.09306151]\n",
      " [-1.49125759  0.4393917 ]\n",
      " [ 0.1666735   0.63503144]\n",
      " [ 2.38314477  0.94447949]\n",
      " [-0.91282223  1.11701629]\n",
      " [-1.31590741 -0.4615846 ]\n",
      " [-0.06824161  1.71334272]\n",
      " [-0.74475482 -0.82643854]\n",
      " [-0.09845252 -0.66347829]\n",
      " [ 1.12663592 -1.07993151]\n",
      " [-1.14746865 -0.43782004]\n",
      " [-0.49803245  1.92953205]\n",
      " [ 0.94942081  0.08755124]\n",
      " [-1.22543552  0.84436298]\n",
      " [-1.00021535 -1.5447711 ]\n",
      " [ 1.18802979  0.31694261]\n",
      " [ 0.92085882  0.31872765]\n",
      " [ 0.85683061 -0.65102559]\n",
      " [-1.03424284  0.68159452]\n",
      " [-0.80340966 -0.68954978]\n",
      " [-0.4555325   0.01747916]\n",
      " [-0.35399391 -1.37495129]\n",
      " [-0.6436184  -2.22340315]\n",
      " [ 0.62523145 -1.60205766]\n",
      " [-1.10438334  0.05216508]\n",
      " [-0.739563    1.5430146 ]\n",
      " [-1.29285691  0.26705087]\n",
      " [-0.03928282 -1.1680935 ]\n",
      " [ 0.52327666 -0.17154633]\n",
      " [ 0.77179055  0.82350415]\n",
      " [ 2.16323595  1.33652795]\n",
      " [-0.36918184 -0.23937918]\n",
      " [ 1.0996596   0.65526373]\n",
      " [ 0.64013153 -1.61695604]\n",
      " [-0.02432612 -0.73803091]\n",
      " [ 0.2799246  -0.09815039]\n",
      " [ 0.91017891  0.31721822]\n",
      " [ 0.78632796 -0.4664191 ]\n",
      " [-0.94444626 -0.41004969]\n",
      " [-0.01702041  0.37915174]\n",
      " [ 2.25930895 -0.04225715]\n",
      " [-0.955945   -0.34598178]\n",
      " [-0.46359597  0.48148147]\n",
      " [-1.54079701  0.06326199]\n",
      " [ 0.15650654  0.23218104]\n",
      " [-0.59731607 -0.23792173]\n",
      " [-1.42406091 -0.49331988]\n",
      " [-0.54286148  0.41605005]\n",
      " [-1.15618243  0.7811981 ]\n",
      " [ 1.49448454 -2.06998503]\n",
      " [ 0.42625873  0.67690804]\n",
      " [-0.63743703 -0.39727181]\n",
      " [-0.13288058 -0.29779088]\n",
      " [-0.30901297 -1.67600381]\n",
      " [ 1.15233156  1.07961859]\n",
      " [-0.81336426 -1.46642433]\n",
      " [ 0.52106488 -0.57578797]\n",
      " [ 0.14195316 -0.31932842]\n",
      " [ 0.69153875  0.69474914]\n",
      " [-0.72559738 -1.38336396]\n",
      " [-1.5829384   0.61037938]\n",
      " [-1.18885926 -0.50681635]\n",
      " [-0.59631404 -0.0525673 ]\n",
      " [-1.93627981  0.1887786 ]\n",
      " [ 0.52389102  0.08842209]\n",
      " [-0.31088617  0.09740017]\n",
      " [ 0.39904635 -2.77259276]\n",
      " [ 1.95591231  0.39009332]\n",
      " [-0.65240858 -0.39095338]\n",
      " [ 0.49374178 -0.11610394]\n",
      " [-2.03068447  2.06449286]\n",
      " [-0.11054066  1.02017271]\n",
      " [-0.69204985  1.53637705]\n",
      " [ 0.28634369  0.60884383]\n",
      " [-1.04525337  1.21114529]\n",
      " [ 0.68981816  1.30184623]\n",
      " [-0.62808756 -0.48102712]\n",
      " [ 2.3039167  -1.06001582]\n",
      " [-0.1359497   1.13689136]\n",
      " [ 0.09772497  0.58295368]\n",
      " [-0.39944903  0.37005589]\n",
      " [-1.30652685  1.65813068]\n",
      " [-0.11816405 -0.6801782 ]\n",
      " [ 0.66638308 -0.46071979]\n",
      " [-1.33425847 -1.34671751]\n",
      " [ 0.69377315 -0.15957344]\n",
      " [-0.13370156  1.07774381]\n",
      " [-1.12682581 -0.73067775]\n",
      " [-0.38487981  0.09435159]\n",
      " [-0.04217145 -0.28688719]\n",
      " [-0.0616264  -0.10730528]\n",
      " [-0.71960439 -0.81299299]\n",
      " [ 0.27451636 -0.89091508]\n",
      " [-1.15735526 -0.31229225]\n",
      " [-0.15766702  2.2567235 ]\n",
      " [-0.70470028  0.94326072]\n",
      " [ 0.74718833 -1.18894496]\n",
      " [ 0.77325298 -1.18388064]\n",
      " [-2.65917224  0.60631952]\n",
      " [-1.75589058  0.45093446]\n",
      " [-0.6840109   1.6595508 ]\n",
      " [ 1.0685094  -0.4533858 ]\n",
      " [-0.68783761 -1.2140774 ]\n",
      " [-0.44092263 -0.2803555 ]\n",
      " [-0.36469354  0.15670386]\n",
      " [ 0.5785215   0.34965446]\n",
      " [-0.76414392 -1.43779147]\n",
      " [ 1.36453185 -0.68944918]\n",
      " [-0.6522936  -0.52118931]\n",
      " [-1.84306955 -0.477974  ]\n",
      " [-0.47965581  0.6203583 ]\n",
      " [ 0.69845715  0.00377089]\n",
      " [ 0.93184837  0.33996498]\n",
      " [-0.01568211  0.16092817]\n",
      " [-0.19065349 -0.39484951]\n",
      " [-0.26773354 -1.12801133]\n",
      " [ 0.28044171 -0.99312361]\n",
      " [ 0.84163126 -0.24945858]\n",
      " [ 0.04949498  0.49383678]\n",
      " [ 0.64331447 -1.57062341]\n",
      " [-0.20690368  0.88017891]\n",
      " [-1.69810582  0.38728048]\n",
      " [-2.25556423 -1.02250684]\n",
      " [ 0.03863055 -1.6567151 ]\n",
      " [-0.98551074 -1.47183501]\n",
      " [ 1.64813493  0.16422776]\n",
      " [ 0.56729028 -0.2226751 ]\n",
      " [-0.35343175 -1.61647419]\n",
      " [-0.29183736 -0.76149221]\n",
      " [ 0.85792392  1.14110187]\n",
      " [ 1.46657872  0.85255194]]\n",
      "[1 1 0 0 0 1 1 1 0 0 0 0 0 0 1 1 1 0 1 1 1 0 1 0 1 0 1 0 1 1 1 1 0 0 0 1 0\n",
      " 0 1 0 0 0 1 0 0 0 1 1 1 1 0 0 0 1 1 1 0 0 0 1 0 1 1 0 1 0 0 0 0 0 0 1 1 0\n",
      " 1 0 1 1 0 1 0 1 0 1 1 1 0 0 1 0 1 1 0 0 0 0 1 0 1 1 1 1 0 1 0 1 0 1 0 0 1\n",
      " 0 0 1 1 1 0 0 0 1 1 1 1 1 1 0 0 1 1 0 1 1 0 1 0 0 1 1 0 0 0 0 1 0 1 1 0 0\n",
      " 1 0 0 1 0 1 0 0 1 0 1 1 1 0 1 0 0 0 0 0 0 0 0 1 1 0 1 1 0 1 1 0 1 1 0 1 1\n",
      " 0 0 1 0 0 0 1 0 1 1 0 1 1 1 1]\n"
     ]
    }
   ],
   "source": [
    "np.random.seed(0)\n",
    "\n",
    "x = np.random.randn(200, 2)\n",
    "y = np.where(np.logical_xor(x[:,0] > 0, x[:,1] > 0), 0, 1)\n",
    "\n",
    "print(x)\n",
    "print(y)"
   ]
  },
  {
   "cell_type": "code",
   "execution_count": 7,
   "metadata": {},
   "outputs": [],
   "source": [
    "from matplotlib.colors import ListedColormap\n",
    "import matplotlib.pyplot as plt"
   ]
  },
  {
   "cell_type": "code",
   "execution_count": 8,
   "metadata": {},
   "outputs": [],
   "source": [
    "def plot_decision_regions(x, y, classifier):\n",
    "    cmap = ListedColormap((\"red\", \"blue\"))\n",
    "    xx1, xx2 = np.meshgrid(np.arange(-3, 3, 0.02), np.arange(-3, 3, 0.02))\n",
    "    z = classifier.predict(np.array([xx1.ravel(), xx2.ravel()]).T)\n",
    "    z = z.reshape(xx1.shape)\n",
    "    plt.contourf(xx1, xx2, z, alpha=0.1, cmap=cmap)\n",
    "\n",
    "    for idx, cl in enumerate(np.unique(y)):\n",
    "        plt.scatter(x=x[y==cl, 0], y=x[y==cl, 1], alpha=0.8, c=cmap.colors[idx], marker='.', label=cl)"
   ]
  },
  {
   "cell_type": "code",
   "execution_count": 12,
   "metadata": {},
   "outputs": [
    {
     "data": {
      "text/html": [
       "<style>#sk-container-id-1 {color: black;}#sk-container-id-1 pre{padding: 0;}#sk-container-id-1 div.sk-toggleable {background-color: white;}#sk-container-id-1 label.sk-toggleable__label {cursor: pointer;display: block;width: 100%;margin-bottom: 0;padding: 0.3em;box-sizing: border-box;text-align: center;}#sk-container-id-1 label.sk-toggleable__label-arrow:before {content: \"▸\";float: left;margin-right: 0.25em;color: #696969;}#sk-container-id-1 label.sk-toggleable__label-arrow:hover:before {color: black;}#sk-container-id-1 div.sk-estimator:hover label.sk-toggleable__label-arrow:before {color: black;}#sk-container-id-1 div.sk-toggleable__content {max-height: 0;max-width: 0;overflow: hidden;text-align: left;background-color: #f0f8ff;}#sk-container-id-1 div.sk-toggleable__content pre {margin: 0.2em;color: black;border-radius: 0.25em;background-color: #f0f8ff;}#sk-container-id-1 input.sk-toggleable__control:checked~div.sk-toggleable__content {max-height: 200px;max-width: 100%;overflow: auto;}#sk-container-id-1 input.sk-toggleable__control:checked~label.sk-toggleable__label-arrow:before {content: \"▾\";}#sk-container-id-1 div.sk-estimator input.sk-toggleable__control:checked~label.sk-toggleable__label {background-color: #d4ebff;}#sk-container-id-1 div.sk-label input.sk-toggleable__control:checked~label.sk-toggleable__label {background-color: #d4ebff;}#sk-container-id-1 input.sk-hidden--visually {border: 0;clip: rect(1px 1px 1px 1px);clip: rect(1px, 1px, 1px, 1px);height: 1px;margin: -1px;overflow: hidden;padding: 0;position: absolute;width: 1px;}#sk-container-id-1 div.sk-estimator {font-family: monospace;background-color: #f0f8ff;border: 1px dotted black;border-radius: 0.25em;box-sizing: border-box;margin-bottom: 0.5em;}#sk-container-id-1 div.sk-estimator:hover {background-color: #d4ebff;}#sk-container-id-1 div.sk-parallel-item::after {content: \"\";width: 100%;border-bottom: 1px solid gray;flex-grow: 1;}#sk-container-id-1 div.sk-label:hover label.sk-toggleable__label {background-color: #d4ebff;}#sk-container-id-1 div.sk-serial::before {content: \"\";position: absolute;border-left: 1px solid gray;box-sizing: border-box;top: 0;bottom: 0;left: 50%;z-index: 0;}#sk-container-id-1 div.sk-serial {display: flex;flex-direction: column;align-items: center;background-color: white;padding-right: 0.2em;padding-left: 0.2em;position: relative;}#sk-container-id-1 div.sk-item {position: relative;z-index: 1;}#sk-container-id-1 div.sk-parallel {display: flex;align-items: stretch;justify-content: center;background-color: white;position: relative;}#sk-container-id-1 div.sk-item::before, #sk-container-id-1 div.sk-parallel-item::before {content: \"\";position: absolute;border-left: 1px solid gray;box-sizing: border-box;top: 0;bottom: 0;left: 50%;z-index: -1;}#sk-container-id-1 div.sk-parallel-item {display: flex;flex-direction: column;z-index: 1;position: relative;background-color: white;}#sk-container-id-1 div.sk-parallel-item:first-child::after {align-self: flex-end;width: 50%;}#sk-container-id-1 div.sk-parallel-item:last-child::after {align-self: flex-start;width: 50%;}#sk-container-id-1 div.sk-parallel-item:only-child::after {width: 0;}#sk-container-id-1 div.sk-dashed-wrapped {border: 1px dashed gray;margin: 0 0.4em 0.5em 0.4em;box-sizing: border-box;padding-bottom: 0.4em;background-color: white;}#sk-container-id-1 div.sk-label label {font-family: monospace;font-weight: bold;display: inline-block;line-height: 1.2em;}#sk-container-id-1 div.sk-label-container {text-align: center;}#sk-container-id-1 div.sk-container {/* jupyter's `normalize.less` sets `[hidden] { display: none; }` but bootstrap.min.css set `[hidden] { display: none !important; }` so we also need the `!important` here to be able to override the default hidden behavior on the sphinx rendered scikit-learn.org. See: https://github.com/scikit-learn/scikit-learn/issues/21755 */display: inline-block !important;position: relative;}#sk-container-id-1 div.sk-text-repr-fallback {display: none;}</style><div id=\"sk-container-id-1\" class=\"sk-top-container\"><div class=\"sk-text-repr-fallback\"><pre>SVC(C=1, kernel=&#x27;linear&#x27;, random_state=0)</pre><b>In a Jupyter environment, please rerun this cell to show the HTML representation or trust the notebook. <br />On GitHub, the HTML representation is unable to render, please try loading this page with nbviewer.org.</b></div><div class=\"sk-container\" hidden><div class=\"sk-item\"><div class=\"sk-estimator sk-toggleable\"><input class=\"sk-toggleable__control sk-hidden--visually\" id=\"sk-estimator-id-1\" type=\"checkbox\" checked><label for=\"sk-estimator-id-1\" class=\"sk-toggleable__label sk-toggleable__label-arrow\">SVC</label><div class=\"sk-toggleable__content\"><pre>SVC(C=1, kernel=&#x27;linear&#x27;, random_state=0)</pre></div></div></div></div></div>"
      ],
      "text/plain": [
       "SVC(C=1, kernel='linear', random_state=0)"
      ]
     },
     "execution_count": 12,
     "metadata": {},
     "output_type": "execute_result"
    }
   ],
   "source": [
    "# kernel=\"linear\" : 초평면 형태를 선으로 나누겠다\n",
    "# C (cost) : 이상치 허용 (낮으면 많이 허용, 높으면 적게 허용)\n",
    "# l2 규제 사용\n",
    "\n",
    "from sklearn.svm import SVC\n",
    "svc = SVC(kernel=\"linear\", random_state=0, C=1)\n",
    "svc.fit(x, y)"
   ]
  },
  {
   "cell_type": "code",
   "execution_count": 13,
   "metadata": {},
   "outputs": [
    {
     "data": {
      "image/png": "[encoded data removed]",
      "text/plain": [
       "<Figure size 640x480 with 1 Axes>"
      ]
     },
     "metadata": {},
     "output_type": "display_data"
    }
   ],
   "source": [
    "plot_decision_regions(x, y, svc)"
   ]
  },
  {
   "cell_type": "code",
   "execution_count": 15,
   "metadata": {},
   "outputs": [
    {
     "data": {
      "text/html": [
       "<style>#sk-container-id-2 {color: black;}#sk-container-id-2 pre{padding: 0;}#sk-container-id-2 div.sk-toggleable {background-color: white;}#sk-container-id-2 label.sk-toggleable__label {cursor: pointer;display: block;width: 100%;margin-bottom: 0;padding: 0.3em;box-sizing: border-box;text-align: center;}#sk-container-id-2 label.sk-toggleable__label-arrow:before {content: \"▸\";float: left;margin-right: 0.25em;color: #696969;}#sk-container-id-2 label.sk-toggleable__label-arrow:hover:before {color: black;}#sk-container-id-2 div.sk-estimator:hover label.sk-toggleable__label-arrow:before {color: black;}#sk-container-id-2 div.sk-toggleable__content {max-height: 0;max-width: 0;overflow: hidden;text-align: left;background-color: #f0f8ff;}#sk-container-id-2 div.sk-toggleable__content pre {margin: 0.2em;color: black;border-radius: 0.25em;background-color: #f0f8ff;}#sk-container-id-2 input.sk-toggleable__control:checked~div.sk-toggleable__content {max-height: 200px;max-width: 100%;overflow: auto;}#sk-container-id-2 input.sk-toggleable__control:checked~label.sk-toggleable__label-arrow:before {content: \"▾\";}#sk-container-id-2 div.sk-estimator input.sk-toggleable__control:checked~label.sk-toggleable__label {background-color: #d4ebff;}#sk-container-id-2 div.sk-label input.sk-toggleable__control:checked~label.sk-toggleable__label {background-color: #d4ebff;}#sk-container-id-2 input.sk-hidden--visually {border: 0;clip: rect(1px 1px 1px 1px);clip: rect(1px, 1px, 1px, 1px);height: 1px;margin: -1px;overflow: hidden;padding: 0;position: absolute;width: 1px;}#sk-container-id-2 div.sk-estimator {font-family: monospace;background-color: #f0f8ff;border: 1px dotted black;border-radius: 0.25em;box-sizing: border-box;margin-bottom: 0.5em;}#sk-container-id-2 div.sk-estimator:hover {background-color: #d4ebff;}#sk-container-id-2 div.sk-parallel-item::after {content: \"\";width: 100%;border-bottom: 1px solid gray;flex-grow: 1;}#sk-container-id-2 div.sk-label:hover label.sk-toggleable__label {background-color: #d4ebff;}#sk-container-id-2 div.sk-serial::before {content: \"\";position: absolute;border-left: 1px solid gray;box-sizing: border-box;top: 0;bottom: 0;left: 50%;z-index: 0;}#sk-container-id-2 div.sk-serial {display: flex;flex-direction: column;align-items: center;background-color: white;padding-right: 0.2em;padding-left: 0.2em;position: relative;}#sk-container-id-2 div.sk-item {position: relative;z-index: 1;}#sk-container-id-2 div.sk-parallel {display: flex;align-items: stretch;justify-content: center;background-color: white;position: relative;}#sk-container-id-2 div.sk-item::before, #sk-container-id-2 div.sk-parallel-item::before {content: \"\";position: absolute;border-left: 1px solid gray;box-sizing: border-box;top: 0;bottom: 0;left: 50%;z-index: -1;}#sk-container-id-2 div.sk-parallel-item {display: flex;flex-direction: column;z-index: 1;position: relative;background-color: white;}#sk-container-id-2 div.sk-parallel-item:first-child::after {align-self: flex-end;width: 50%;}#sk-container-id-2 div.sk-parallel-item:last-child::after {align-self: flex-start;width: 50%;}#sk-container-id-2 div.sk-parallel-item:only-child::after {width: 0;}#sk-container-id-2 div.sk-dashed-wrapped {border: 1px dashed gray;margin: 0 0.4em 0.5em 0.4em;box-sizing: border-box;padding-bottom: 0.4em;background-color: white;}#sk-container-id-2 div.sk-label label {font-family: monospace;font-weight: bold;display: inline-block;line-height: 1.2em;}#sk-container-id-2 div.sk-label-container {text-align: center;}#sk-container-id-2 div.sk-container {/* jupyter's `normalize.less` sets `[hidden] { display: none; }` but bootstrap.min.css set `[hidden] { display: none !important; }` so we also need the `!important` here to be able to override the default hidden behavior on the sphinx rendered scikit-learn.org. See: https://github.com/scikit-learn/scikit-learn/issues/21755 */display: inline-block !important;position: relative;}#sk-container-id-2 div.sk-text-repr-fallback {display: none;}</style><div id=\"sk-container-id-2\" class=\"sk-top-container\"><div class=\"sk-text-repr-fallback\"><pre>SVC(C=1, gamma=1, random_state=0)</pre><b>In a Jupyter environment, please rerun this cell to show the HTML representation or trust the notebook. <br />On GitHub, the HTML representation is unable to render, please try loading this page with nbviewer.org.</b></div><div class=\"sk-container\" hidden><div class=\"sk-item\"><div class=\"sk-estimator sk-toggleable\"><input class=\"sk-toggleable__control sk-hidden--visually\" id=\"sk-estimator-id-2\" type=\"checkbox\" checked><label for=\"sk-estimator-id-2\" class=\"sk-toggleable__label sk-toggleable__label-arrow\">SVC</label><div class=\"sk-toggleable__content\"><pre>SVC(C=1, gamma=1, random_state=0)</pre></div></div></div></div></div>"
      ],
      "text/plain": [
       "SVC(C=1, gamma=1, random_state=0)"
      ]
     },
     "execution_count": 15,
     "metadata": {},
     "output_type": "execute_result"
    }
   ],
   "source": [
    "# rbf : 가우시안 rbf 커널 (Radial Basis Function)\n",
    "# gamma : 경계의 복잡도 (서포트벡터의 영향력이 미치는 거리 - 표준편차)\n",
    "# 클수록 작은 표준편차 > overfitting 위험\n",
    "# 작을수록 큰 표준편차 > underfitting 위험\n",
    "\n",
    "model = SVC(kernel=\"rbf\", random_state=0, C=1, gamma=1)\n",
    "model.fit(x, y)"
   ]
  },
  {
   "cell_type": "code",
   "execution_count": 16,
   "metadata": {},
   "outputs": [
    {
     "data": {
      "image/png": "[encoded data removed]",
      "text/plain": [
       "<Figure size 640x480 with 1 Axes>"
      ]
     },
     "metadata": {},
     "output_type": "display_data"
    }
   ],
   "source": [
    "plot_decision_regions(x, y, model)"
   ]
  },
  {
   "cell_type": "code",
   "execution_count": null,
   "metadata": {},
   "outputs": [],
   "source": []
  }
 ],
 "metadata": {
  "kernelspec": {
   "display_name": "dsde04",
   "language": "python",
   "name": "python3"
  },
  "language_info": {
   "codemirror_mode": {
    "name": "ipython",
    "version": 3
   },
   "file_extension": ".py",
   "mimetype": "text/x-python",
   "name": "python",
   "nbconvert_exporter": "python",
   "pygments_lexer": "ipython3",
   "version": "3.10.11"
  },
  "orig_nbformat": 4
 },
 "nbformat": 4,
 "nbformat_minor": 2
}
