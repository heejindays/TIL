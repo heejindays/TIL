{
 "cells": [
  {
   "cell_type": "code",
   "execution_count": 1,
   "metadata": {},
   "outputs": [],
   "source": [
    "from sklearn.datasets import load_iris\n",
    "from sklearn.model_selection import train_test_split\n",
    "from sklearn.svm import SVC"
   ]
  },
  {
   "cell_type": "code",
   "execution_count": 2,
   "metadata": {},
   "outputs": [],
   "source": [
    "# 하이퍼 파라미터 튜닝 \n",
    "# 모델의 학습 결과를 좀 더 올리기 위해서 스코어를 올리기 위해 파라미터를 바꿔보는 것\n",
    "\n",
    "iris = load_iris()\n",
    "\n",
    "# 10개 중에서 2개는 테스트로 쓸거고\n",
    "x_train_valid, x_test, y_train_valid, y_test = train_test_split(iris.data, iris.target, test_size=0.2, random_state=1)"
   ]
  },
  {
   "cell_type": "code",
   "execution_count": 3,
   "metadata": {},
   "outputs": [],
   "source": [
    "# 나머지 남은 8개 중에서 0.25개를 쓸 것\n",
    "x_train, x_valid, y_train, y_valid = train_test_split(x_train_valid, y_train_valid, test_size=0.25, random_state=1)"
   ]
  },
  {
   "cell_type": "code",
   "execution_count": 5,
   "metadata": {},
   "outputs": [
    {
     "name": "stdout",
     "output_type": "stream",
     "text": [
      "train: 90\n",
      "valid: 30\n",
      "test: 30\n"
     ]
    }
   ],
   "source": [
    "print(f\"train: {x_train.shape[0]}\")\n",
    "print(f\"valid: {x_valid.shape[0]}\")\n",
    "print(f\"test: {x_test.shape[0]}\")\n",
    "\n",
    "# test 셋은 모델이 잘 만들어져 있는지 마지막에 딱 한 번만 씀\n",
    "# vaild 셋은 학습할 때 잘 되어있는지 반복적으로 씀"
   ]
  },
  {
   "cell_type": "code",
   "execution_count": 11,
   "metadata": {},
   "outputs": [
    {
     "name": "stdout",
     "output_type": "stream",
     "text": [
      "gamma:0.001/ C:0.001 -> score:0.36666666666666664\n",
      "gamma:0.001/ C:0.01 -> score:0.36666666666666664\n",
      "gamma:0.001/ C:0.1 -> score:0.36666666666666664\n",
      "gamma:0.001/ C:1 -> score:0.6666666666666666\n",
      "gamma:0.001/ C:10 -> score:0.9666666666666667\n",
      "gamma:0.001/ C:100 -> score:0.9666666666666667\n",
      "gamma:0.01/ C:0.001 -> score:0.36666666666666664\n",
      "gamma:0.01/ C:0.01 -> score:0.36666666666666664\n",
      "gamma:0.01/ C:0.1 -> score:0.6666666666666666\n",
      "gamma:0.01/ C:1 -> score:0.9666666666666667\n",
      "gamma:0.01/ C:10 -> score:0.9666666666666667\n",
      "gamma:0.01/ C:100 -> score:0.9666666666666667\n",
      "gamma:0.1/ C:0.001 -> score:0.36666666666666664\n",
      "gamma:0.1/ C:0.01 -> score:0.36666666666666664\n",
      "gamma:0.1/ C:0.1 -> score:0.9333333333333333\n",
      "gamma:0.1/ C:1 -> score:0.9666666666666667\n",
      "gamma:0.1/ C:10 -> score:0.9666666666666667\n",
      "gamma:0.1/ C:100 -> score:0.9666666666666667\n",
      "gamma:1/ C:0.001 -> score:0.36666666666666664\n",
      "gamma:1/ C:0.01 -> score:0.36666666666666664\n",
      "gamma:1/ C:0.1 -> score:0.9666666666666667\n",
      "gamma:1/ C:1 -> score:0.9666666666666667\n",
      "gamma:1/ C:10 -> score:0.9666666666666667\n",
      "gamma:1/ C:100 -> score:0.9333333333333333\n",
      "gamma:10/ C:0.001 -> score:0.36666666666666664\n",
      "gamma:10/ C:0.01 -> score:0.36666666666666664\n",
      "gamma:10/ C:0.1 -> score:0.4\n",
      "gamma:10/ C:1 -> score:0.9\n",
      "gamma:10/ C:10 -> score:0.9333333333333333\n",
      "gamma:10/ C:100 -> score:0.9333333333333333\n",
      "gamma:100/ C:0.001 -> score:0.36666666666666664\n",
      "gamma:100/ C:0.01 -> score:0.36666666666666664\n",
      "gamma:100/ C:0.1 -> score:0.36666666666666664\n",
      "gamma:100/ C:1 -> score:0.5333333333333333\n",
      "gamma:100/ C:10 -> score:0.5666666666666667\n",
      "gamma:100/ C:100 -> score:0.5666666666666667\n"
     ]
    }
   ],
   "source": [
    "best_score = 0\n",
    "\n",
    "# C(cost) : 이상치 허용 (낮으면 많이 허용, 높으면 적게 허용)\n",
    "# gamma : 경계의 복잡도 (서포트 벡터의 영향력이 미치는 거리 - 표준 편차)\n",
    "\n",
    "# gamma=gamma, C=C : 모델의 파라미터 부분을 바꾸는 것이 영향을 많이 미침 (이걸 찾는 과정이 하이퍼 파라미터 튜닝)\n",
    "\n",
    "for gamma in [0.001, 0.01, 0.1, 1, 10, 100]:\n",
    "    for C in [0.001, 0.01, 0.1, 1, 10, 100]:\n",
    "        model = SVC(gamma=gamma, C=C)\n",
    "        model.fit(x_train, y_train)\n",
    "        score = model.score(x_valid, y_valid)\n",
    "\n",
    "        # 다른 건 못 건드리지만, 감마랑 C를 바꿔가면서 score가 가장 큰 걸 찾으려고 함\n",
    "        print(f\"gamma:{gamma}/ C:{C} -> score:{score}\")\n",
    "\n",
    "        if score > best_score:\n",
    "            best_score = score\n",
    "            best_parameters = {\"gamma\": gamma, \"C\":C}"
   ]
  },
  {
   "cell_type": "code",
   "execution_count": 8,
   "metadata": {},
   "outputs": [],
   "source": [
    "# {\"gamma\": gamma, \"C\":C} 딕셔너리 형태니까 **가 있어야 함\n",
    "best_model = SVC(**best_parameters)"
   ]
  },
  {
   "cell_type": "code",
   "execution_count": 9,
   "metadata": {},
   "outputs": [],
   "source": [
    "best_model.fit(x_train_valid, y_train_valid)\n",
    "test_score = best_model.score(x_test, y_test)"
   ]
  },
  {
   "cell_type": "code",
   "execution_count": 10,
   "metadata": {},
   "outputs": [
    {
     "name": "stdout",
     "output_type": "stream",
     "text": [
      "valid best score : 0.9666666666666667\n",
      "best params : {'gamma': 0.001, 'C': 10}\n",
      "test score : 0.9333333333333333\n"
     ]
    }
   ],
   "source": [
    "print(f\"valid best score : {best_score}\")\n",
    "print(f\"best params : {best_parameters}\")\n",
    "print(f\"test score : {test_score}\")"
   ]
  },
  {
   "cell_type": "code",
   "execution_count": 12,
   "metadata": {},
   "outputs": [],
   "source": [
    "# 매번 위 과정으로 하기 어려우니까\n",
    "# 그리드 서치(Grid Search)\n",
    "# 가능한 모든 조합을 대상으로 하이퍼파라미터 공간을 탐색하여 최적의 조합을 찾는 방법\n",
    "# 조합들을 모두 탐색하여 모델을 학습하고 검증 데이터를 사용하여 성능을 평가합니다. \n",
    "# 그리고 가장 우수한 조합과 해당 조합에서의 성능을 반환\n",
    "\n",
    "from sklearn.model_selection import GridSearchCV"
   ]
  },
  {
   "cell_type": "code",
   "execution_count": 13,
   "metadata": {},
   "outputs": [],
   "source": [
    "x_train, x_test, y_train, y_test = train_test_split(iris.data, iris.target, train_size=0.2, random_state=1)"
   ]
  },
  {
   "cell_type": "code",
   "execution_count": 14,
   "metadata": {},
   "outputs": [
    {
     "data": {
      "text/plain": [
       "dict_keys(['C', 'break_ties', 'cache_size', 'class_weight', 'coef0', 'decision_function_shape', 'degree', 'gamma', 'kernel', 'max_iter', 'probability', 'random_state', 'shrinking', 'tol', 'verbose'])"
      ]
     },
     "execution_count": 14,
     "metadata": {},
     "output_type": "execute_result"
    }
   ],
   "source": [
    "model = SVC()\n",
    "model.get_params().keys()"
   ]
  },
  {
   "cell_type": "code",
   "execution_count": 15,
   "metadata": {},
   "outputs": [
    {
     "data": {
      "text/html": [
       "<style>#sk-container-id-1 {color: black;}#sk-container-id-1 pre{padding: 0;}#sk-container-id-1 div.sk-toggleable {background-color: white;}#sk-container-id-1 label.sk-toggleable__label {cursor: pointer;display: block;width: 100%;margin-bottom: 0;padding: 0.3em;box-sizing: border-box;text-align: center;}#sk-container-id-1 label.sk-toggleable__label-arrow:before {content: \"▸\";float: left;margin-right: 0.25em;color: #696969;}#sk-container-id-1 label.sk-toggleable__label-arrow:hover:before {color: black;}#sk-container-id-1 div.sk-estimator:hover label.sk-toggleable__label-arrow:before {color: black;}#sk-container-id-1 div.sk-toggleable__content {max-height: 0;max-width: 0;overflow: hidden;text-align: left;background-color: #f0f8ff;}#sk-container-id-1 div.sk-toggleable__content pre {margin: 0.2em;color: black;border-radius: 0.25em;background-color: #f0f8ff;}#sk-container-id-1 input.sk-toggleable__control:checked~div.sk-toggleable__content {max-height: 200px;max-width: 100%;overflow: auto;}#sk-container-id-1 input.sk-toggleable__control:checked~label.sk-toggleable__label-arrow:before {content: \"▾\";}#sk-container-id-1 div.sk-estimator input.sk-toggleable__control:checked~label.sk-toggleable__label {background-color: #d4ebff;}#sk-container-id-1 div.sk-label input.sk-toggleable__control:checked~label.sk-toggleable__label {background-color: #d4ebff;}#sk-container-id-1 input.sk-hidden--visually {border: 0;clip: rect(1px 1px 1px 1px);clip: rect(1px, 1px, 1px, 1px);height: 1px;margin: -1px;overflow: hidden;padding: 0;position: absolute;width: 1px;}#sk-container-id-1 div.sk-estimator {font-family: monospace;background-color: #f0f8ff;border: 1px dotted black;border-radius: 0.25em;box-sizing: border-box;margin-bottom: 0.5em;}#sk-container-id-1 div.sk-estimator:hover {background-color: #d4ebff;}#sk-container-id-1 div.sk-parallel-item::after {content: \"\";width: 100%;border-bottom: 1px solid gray;flex-grow: 1;}#sk-container-id-1 div.sk-label:hover label.sk-toggleable__label {background-color: #d4ebff;}#sk-container-id-1 div.sk-serial::before {content: \"\";position: absolute;border-left: 1px solid gray;box-sizing: border-box;top: 0;bottom: 0;left: 50%;z-index: 0;}#sk-container-id-1 div.sk-serial {display: flex;flex-direction: column;align-items: center;background-color: white;padding-right: 0.2em;padding-left: 0.2em;position: relative;}#sk-container-id-1 div.sk-item {position: relative;z-index: 1;}#sk-container-id-1 div.sk-parallel {display: flex;align-items: stretch;justify-content: center;background-color: white;position: relative;}#sk-container-id-1 div.sk-item::before, #sk-container-id-1 div.sk-parallel-item::before {content: \"\";position: absolute;border-left: 1px solid gray;box-sizing: border-box;top: 0;bottom: 0;left: 50%;z-index: -1;}#sk-container-id-1 div.sk-parallel-item {display: flex;flex-direction: column;z-index: 1;position: relative;background-color: white;}#sk-container-id-1 div.sk-parallel-item:first-child::after {align-self: flex-end;width: 50%;}#sk-container-id-1 div.sk-parallel-item:last-child::after {align-self: flex-start;width: 50%;}#sk-container-id-1 div.sk-parallel-item:only-child::after {width: 0;}#sk-container-id-1 div.sk-dashed-wrapped {border: 1px dashed gray;margin: 0 0.4em 0.5em 0.4em;box-sizing: border-box;padding-bottom: 0.4em;background-color: white;}#sk-container-id-1 div.sk-label label {font-family: monospace;font-weight: bold;display: inline-block;line-height: 1.2em;}#sk-container-id-1 div.sk-label-container {text-align: center;}#sk-container-id-1 div.sk-container {/* jupyter's `normalize.less` sets `[hidden] { display: none; }` but bootstrap.min.css set `[hidden] { display: none !important; }` so we also need the `!important` here to be able to override the default hidden behavior on the sphinx rendered scikit-learn.org. See: https://github.com/scikit-learn/scikit-learn/issues/21755 */display: inline-block !important;position: relative;}#sk-container-id-1 div.sk-text-repr-fallback {display: none;}</style><div id=\"sk-container-id-1\" class=\"sk-top-container\"><div class=\"sk-text-repr-fallback\"><pre>GridSearchCV(estimator=SVC(),\n",
       "             param_grid={&#x27;C&#x27;: [1, 2],\n",
       "                         &#x27;kernel&#x27;: [&#x27;linear&#x27;, &#x27;poly&#x27;, &#x27;rbf&#x27;, &#x27;sigmoid&#x27;]})</pre><b>In a Jupyter environment, please rerun this cell to show the HTML representation or trust the notebook. <br />On GitHub, the HTML representation is unable to render, please try loading this page with nbviewer.org.</b></div><div class=\"sk-container\" hidden><div class=\"sk-item sk-dashed-wrapped\"><div class=\"sk-label-container\"><div class=\"sk-label sk-toggleable\"><input class=\"sk-toggleable__control sk-hidden--visually\" id=\"sk-estimator-id-1\" type=\"checkbox\" ><label for=\"sk-estimator-id-1\" class=\"sk-toggleable__label sk-toggleable__label-arrow\">GridSearchCV</label><div class=\"sk-toggleable__content\"><pre>GridSearchCV(estimator=SVC(),\n",
       "             param_grid={&#x27;C&#x27;: [1, 2],\n",
       "                         &#x27;kernel&#x27;: [&#x27;linear&#x27;, &#x27;poly&#x27;, &#x27;rbf&#x27;, &#x27;sigmoid&#x27;]})</pre></div></div></div><div class=\"sk-parallel\"><div class=\"sk-parallel-item\"><div class=\"sk-item\"><div class=\"sk-label-container\"><div class=\"sk-label sk-toggleable\"><input class=\"sk-toggleable__control sk-hidden--visually\" id=\"sk-estimator-id-2\" type=\"checkbox\" ><label for=\"sk-estimator-id-2\" class=\"sk-toggleable__label sk-toggleable__label-arrow\">estimator: SVC</label><div class=\"sk-toggleable__content\"><pre>SVC()</pre></div></div></div><div class=\"sk-serial\"><div class=\"sk-item\"><div class=\"sk-estimator sk-toggleable\"><input class=\"sk-toggleable__control sk-hidden--visually\" id=\"sk-estimator-id-3\" type=\"checkbox\" ><label for=\"sk-estimator-id-3\" class=\"sk-toggleable__label sk-toggleable__label-arrow\">SVC</label><div class=\"sk-toggleable__content\"><pre>SVC()</pre></div></div></div></div></div></div></div></div></div></div>"
      ],
      "text/plain": [
       "GridSearchCV(estimator=SVC(),\n",
       "             param_grid={'C': [1, 2],\n",
       "                         'kernel': ['linear', 'poly', 'rbf', 'sigmoid']})"
      ]
     },
     "execution_count": 15,
     "metadata": {},
     "output_type": "execute_result"
    }
   ],
   "source": [
    "kernel_list = [\"linear\", \"poly\", \"rbf\", \"sigmoid\"]\n",
    "C_list = [1, 2]\n",
    "params = {\"kernel\" : kernel_list, \"C\" : C_list}\n",
    "\n",
    "gscv_model = GridSearchCV(model, params)\n",
    "gscv_model.fit(x_train, y_train)"
   ]
  },
  {
   "cell_type": "code",
   "execution_count": 17,
   "metadata": {},
   "outputs": [
    {
     "name": "stdout",
     "output_type": "stream",
     "text": [
      "score: 0.95\n",
      "best params : {'C': 1, 'kernel': 'linear'}\n",
      "best valid score : 1.0\n",
      "best model : SVC(C=1, kernel='linear')\n"
     ]
    }
   ],
   "source": [
    "print(f\"score: {gscv_model.score(x_test, y_test)}\")\n",
    "print(f\"best params : {gscv_model.best_params_}\")\n",
    "print(f\"best valid score : {gscv_model.best_score_}\")\n",
    "print(f\"best model : {gscv_model.best_estimator_}\")"
   ]
  }
 ],
 "metadata": {
  "kernelspec": {
   "display_name": "dsde04",
   "language": "python",
   "name": "python3"
  },
  "language_info": {
   "codemirror_mode": {
    "name": "ipython",
    "version": 3
   },
   "file_extension": ".py",
   "mimetype": "text/x-python",
   "name": "python",
   "nbconvert_exporter": "python",
   "pygments_lexer": "ipython3",
   "version": "3.10.11"
  },
  "orig_nbformat": 4
 },
 "nbformat": 4,
 "nbformat_minor": 2
}
