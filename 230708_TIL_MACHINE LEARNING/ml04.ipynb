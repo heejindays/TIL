{
 "cells": [
  {
   "cell_type": "code",
   "execution_count": 30,
   "metadata": {},
   "outputs": [
    {
     "name": "stdout",
     "output_type": "stream",
     "text": [
      "Requirement already satisfied: scikit-learn in c:\\users\\heeji\\anaconda3\\envs\\dsde04\\lib\\site-packages (1.3.0)\n",
      "Requirement already satisfied: numpy>=1.17.3 in c:\\users\\heeji\\anaconda3\\envs\\dsde04\\lib\\site-packages (from scikit-learn) (1.25.0)\n",
      "Requirement already satisfied: scipy>=1.5.0 in c:\\users\\heeji\\anaconda3\\envs\\dsde04\\lib\\site-packages (from scikit-learn) (1.11.1)\n",
      "Requirement already satisfied: joblib>=1.1.1 in c:\\users\\heeji\\anaconda3\\envs\\dsde04\\lib\\site-packages (from scikit-learn) (1.3.1)\n",
      "Requirement already satisfied: threadpoolctl>=2.0.0 in c:\\users\\heeji\\anaconda3\\envs\\dsde04\\lib\\site-packages (from scikit-learn) (3.1.0)\n",
      "Note: you may need to restart the kernel to use updated packages.\n"
     ]
    }
   ],
   "source": [
    "%pip install scikit-learn"
   ]
  },
  {
   "cell_type": "code",
   "execution_count": 31,
   "metadata": {},
   "outputs": [],
   "source": [
    "# scikit-learn은 주로 학습용"
   ]
  },
  {
   "cell_type": "code",
   "execution_count": 32,
   "metadata": {},
   "outputs": [],
   "source": [
    "import numpy as np\n",
    "import matplotlib.pyplot as plt\n",
    "from sklearn.model_selection import train_test_split\n",
    "from sklearn.linear_model import LinearRegression"
   ]
  },
  {
   "cell_type": "code",
   "execution_count": 33,
   "metadata": {},
   "outputs": [],
   "source": [
    "# 데이터 준비\n",
    "x = 10 * np.random.rand(100, 1)\n",
    "y = 3 * x + 1 + np.random.randn(100, 1)"
   ]
  },
  {
   "cell_type": "code",
   "execution_count": 34,
   "metadata": {},
   "outputs": [
    {
     "name": "stdout",
     "output_type": "stream",
     "text": [
      "[[5.62088934]\n",
      " [9.89516216]\n",
      " [8.4473574 ]\n",
      " [8.58078175]\n",
      " [0.47283346]\n",
      " [0.51929988]\n",
      " [9.06340575]\n",
      " [5.43827162]\n",
      " [2.46055822]\n",
      " [4.79548621]\n",
      " [8.46643457]\n",
      " [4.68764181]\n",
      " [4.11554329]\n",
      " [2.33700331]\n",
      " [6.56872536]\n",
      " [4.99028611]\n",
      " [5.29563602]\n",
      " [6.18895682]\n",
      " [5.51596446]\n",
      " [6.19217915]\n",
      " [0.06227764]\n",
      " [0.3546752 ]\n",
      " [9.53565407]\n",
      " [4.7772379 ]\n",
      " [1.70066848]\n",
      " [7.23851001]\n",
      " [5.8992556 ]\n",
      " [6.74964965]\n",
      " [4.7641712 ]\n",
      " [3.81253457]\n",
      " [7.82764337]\n",
      " [6.88796504]\n",
      " [6.8858058 ]\n",
      " [7.92666705]\n",
      " [1.32359965]\n",
      " [5.2767792 ]\n",
      " [6.08095168]\n",
      " [3.30392585]\n",
      " [3.44561373]\n",
      " [4.52599093]\n",
      " [8.83510415]\n",
      " [2.66540755]\n",
      " [4.65614302]\n",
      " [2.29934707]\n",
      " [2.41139931]\n",
      " [0.52086032]\n",
      " [9.6733486 ]\n",
      " [4.68351025]\n",
      " [8.08385272]\n",
      " [0.89480412]\n",
      " [4.20247572]\n",
      " [2.29980933]\n",
      " [7.94125955]\n",
      " [5.51724684]\n",
      " [1.39134188]\n",
      " [3.94531161]\n",
      " [0.35267616]\n",
      " [0.16193649]\n",
      " [8.07535985]\n",
      " [3.14541277]\n",
      " [0.85445218]\n",
      " [5.9435588 ]\n",
      " [7.6316712 ]\n",
      " [4.19645938]\n",
      " [8.50029861]\n",
      " [7.67571568]\n",
      " [8.71075094]\n",
      " [3.23285777]\n",
      " [0.1920701 ]\n",
      " [1.46321852]\n",
      " [8.81160808]\n",
      " [6.96514664]\n",
      " [9.14358972]\n",
      " [3.52547849]\n",
      " [6.78471782]\n",
      " [5.19750495]\n",
      " [6.90537354]\n",
      " [5.18102765]\n",
      " [7.82575281]\n",
      " [2.77172507]\n",
      " [7.72783321]\n",
      " [3.24867494]\n",
      " [2.30728926]\n",
      " [7.15566885]\n",
      " [7.68228459]\n",
      " [5.86393816]\n",
      " [8.75934416]\n",
      " [2.99090815]\n",
      " [7.64510859]\n",
      " [1.9271803 ]\n",
      " [7.47915262]\n",
      " [0.66303853]\n",
      " [3.67809024]\n",
      " [4.28347041]\n",
      " [4.42816354]\n",
      " [3.07674107]\n",
      " [5.85351904]\n",
      " [2.14958933]\n",
      " [1.00855406]\n",
      " [1.509613  ]]\n",
      "[[19.35295339]\n",
      " [29.89245322]\n",
      " [25.8589372 ]\n",
      " [25.72807394]\n",
      " [ 3.11974801]\n",
      " [ 3.08905091]\n",
      " [26.99544717]\n",
      " [16.60709207]\n",
      " [ 7.92872945]\n",
      " [14.84951698]\n",
      " [26.13128954]\n",
      " [15.50941919]\n",
      " [12.86311277]\n",
      " [ 6.8902998 ]\n",
      " [21.31517998]\n",
      " [16.80806868]\n",
      " [17.08340054]\n",
      " [19.03312809]\n",
      " [16.9270501 ]\n",
      " [19.36145989]\n",
      " [-0.12219543]\n",
      " [ 1.56994277]\n",
      " [28.97987244]\n",
      " [14.60795933]\n",
      " [ 6.07168839]\n",
      " [22.47990742]\n",
      " [17.66481816]\n",
      " [21.54078233]\n",
      " [12.61363905]\n",
      " [11.53246511]\n",
      " [24.0960457 ]\n",
      " [21.03485977]\n",
      " [21.89059463]\n",
      " [26.31927096]\n",
      " [ 4.08863066]\n",
      " [16.86107862]\n",
      " [20.63042748]\n",
      " [10.29717443]\n",
      " [11.81500874]\n",
      " [14.64508043]\n",
      " [25.84931831]\n",
      " [ 8.6836718 ]\n",
      " [13.52390644]\n",
      " [ 9.84095219]\n",
      " [ 9.45287574]\n",
      " [ 2.88525414]\n",
      " [31.09180008]\n",
      " [15.46596026]\n",
      " [24.79655864]\n",
      " [ 2.37804709]\n",
      " [14.61644238]\n",
      " [ 8.59629629]\n",
      " [24.09834798]\n",
      " [15.93844976]\n",
      " [ 4.42160412]\n",
      " [11.78693167]\n",
      " [ 1.13593564]\n",
      " [ 0.67899603]\n",
      " [26.35846643]\n",
      " [ 9.73508034]\n",
      " [ 3.59687476]\n",
      " [18.39668312]\n",
      " [23.19426488]\n",
      " [13.83196846]\n",
      " [27.6108851 ]\n",
      " [24.89478882]\n",
      " [26.13030173]\n",
      " [12.17105033]\n",
      " [ 1.62329221]\n",
      " [ 4.7678252 ]\n",
      " [28.55803077]\n",
      " [21.55513184]\n",
      " [28.84201887]\n",
      " [11.84311261]\n",
      " [19.91687709]\n",
      " [17.7936815 ]\n",
      " [22.85776284]\n",
      " [15.67291834]\n",
      " [23.17299819]\n",
      " [ 9.31508599]\n",
      " [25.38664148]\n",
      " [ 9.45017294]\n",
      " [ 9.60042931]\n",
      " [21.18686818]\n",
      " [24.12156296]\n",
      " [19.59423513]\n",
      " [26.64571516]\n",
      " [10.75457341]\n",
      " [24.35812132]\n",
      " [ 6.01175443]\n",
      " [23.900299  ]\n",
      " [ 1.9516094 ]\n",
      " [10.27514913]\n",
      " [13.15517702]\n",
      " [14.00715244]\n",
      " [10.85092967]\n",
      " [20.20252412]\n",
      " [ 6.57527428]\n",
      " [ 3.9837589 ]\n",
      " [ 5.21376149]]\n"
     ]
    }
   ],
   "source": [
    "print(x)\n",
    "print(y)"
   ]
  },
  {
   "cell_type": "code",
   "execution_count": 35,
   "metadata": {},
   "outputs": [
    {
     "data": {
      "text/plain": [
       "<matplotlib.collections.PathCollection at 0x2a239e091e0>"
      ]
     },
     "execution_count": 35,
     "metadata": {},
     "output_type": "execute_result"
    },
    {
     "data": {
      "image/png": "[encoded data removed]",
      "text/plain": [
       "<Figure size 640x480 with 1 Axes>"
      ]
     },
     "metadata": {},
     "output_type": "display_data"
    }
   ],
   "source": [
    "plt.scatter(x, y)\n",
    "# 탐색적 데이터 분석 과정을 거쳐서 어떤 모양인지 데이터의 특징을 살펴봐야 함\n",
    "# x를 넣어서 y를 찾아야겠다고 판단"
   ]
  },
  {
   "cell_type": "code",
   "execution_count": 36,
   "metadata": {},
   "outputs": [],
   "source": [
    "# 회귀 분석 : 데이터를 가장 잘 표현할 수 있는 선을 그리자\n",
    "# 선형 회귀 : x의 값을 통해 y의 값을 예측하는데, 이걸 가장 잘 표현할 수 있는 y값을 찾자\n",
    "# 선을 그리겠다 > y = wx + b"
   ]
  },
  {
   "cell_type": "code",
   "execution_count": 37,
   "metadata": {},
   "outputs": [],
   "source": [
    "# 데이터 분할\n",
    "# 학습에 필요한 데이터와 검증에 필요한 데이터가 다르다 (검증은 한번)\n",
    "\n",
    "# test_size=0.3 : 데이터 중에서 30%만 테스트용으로 선택 (나머지 70%는 학습용)\n",
    "# random_state는 랜덤으로 가져오는 시드 고정\n",
    "\n",
    "x_train, x_test, y_train, y_test = train_test_split(x, y, test_size=0.3, random_state=1)"
   ]
  },
  {
   "cell_type": "code",
   "execution_count": 38,
   "metadata": {},
   "outputs": [
    {
     "name": "stdout",
     "output_type": "stream",
     "text": [
      "[[3.23285777]\n",
      " [1.509613  ]\n",
      " [1.39134188]\n",
      " [3.07674107]\n",
      " [7.64510859]\n",
      " [8.83510415]\n",
      " [8.08385272]\n",
      " [3.14541277]\n",
      " [4.7772379 ]\n",
      " [1.32359965]\n",
      " [8.75934416]\n",
      " [5.51724684]\n",
      " [5.18102765]\n",
      " [4.99028611]\n",
      " [7.15566885]\n",
      " [2.66540755]\n",
      " [0.52086032]\n",
      " [0.66303853]\n",
      " [5.8992556 ]\n",
      " [1.00855406]\n",
      " [2.29934707]\n",
      " [3.94531161]\n",
      " [1.70066848]\n",
      " [0.47283346]\n",
      " [8.07535985]\n",
      " [0.89480412]\n",
      " [0.3546752 ]\n",
      " [2.99090815]\n",
      " [8.58078175]\n",
      " [6.78471782]\n",
      " [7.82764337]\n",
      " [8.71075094]\n",
      " [8.81160808]\n",
      " [4.65614302]\n",
      " [4.68351025]\n",
      " [1.9271803 ]\n",
      " [2.46055822]\n",
      " [0.85445218]\n",
      " [5.62088934]\n",
      " [7.47915262]\n",
      " [0.16193649]\n",
      " [9.53565407]\n",
      " [5.9435588 ]\n",
      " [4.19645938]\n",
      " [5.43827162]\n",
      " [5.85351904]\n",
      " [2.33700331]\n",
      " [0.1920701 ]\n",
      " [5.86393816]\n",
      " [6.56872536]\n",
      " [3.81253457]\n",
      " [4.7641712 ]\n",
      " [4.68764181]\n",
      " [5.51596446]\n",
      " [0.06227764]\n",
      " [4.20247572]\n",
      " [7.23851001]\n",
      " [9.06340575]\n",
      " [6.96514664]\n",
      " [6.90537354]\n",
      " [9.89516216]\n",
      " [5.29563602]\n",
      " [8.50029861]\n",
      " [2.77172507]\n",
      " [0.51929988]\n",
      " [5.19750495]\n",
      " [4.79548621]\n",
      " [9.14358972]\n",
      " [4.11554329]\n",
      " [3.30392585]]\n",
      "[[7.72783321]\n",
      " [7.68228459]\n",
      " [7.92666705]\n",
      " [3.24867494]\n",
      " [4.28347041]\n",
      " [6.18895682]\n",
      " [6.08095168]\n",
      " [2.30728926]\n",
      " [1.46321852]\n",
      " [7.67571568]\n",
      " [3.67809024]\n",
      " [4.52599093]\n",
      " [0.35267616]\n",
      " [7.94125955]\n",
      " [2.29980933]\n",
      " [6.8858058 ]\n",
      " [6.88796504]\n",
      " [2.41139931]\n",
      " [7.82575281]\n",
      " [8.46643457]\n",
      " [8.4473574 ]\n",
      " [3.52547849]\n",
      " [2.14958933]\n",
      " [7.6316712 ]\n",
      " [6.19217915]\n",
      " [5.2767792 ]\n",
      " [4.42816354]\n",
      " [6.74964965]\n",
      " [9.6733486 ]\n",
      " [3.44561373]]\n"
     ]
    }
   ],
   "source": [
    "print(x_train)\n",
    "print(x_test)"
   ]
  },
  {
   "cell_type": "code",
   "execution_count": 39,
   "metadata": {},
   "outputs": [],
   "source": [
    "# 모델 선택 (사이킷런이 만들어둔 모델)\n",
    "model = LinearRegression()"
   ]
  },
  {
   "cell_type": "code",
   "execution_count": 40,
   "metadata": {},
   "outputs": [
    {
     "data": {
      "text/html": [
       "<style>#sk-container-id-2 {color: black;}#sk-container-id-2 pre{padding: 0;}#sk-container-id-2 div.sk-toggleable {background-color: white;}#sk-container-id-2 label.sk-toggleable__label {cursor: pointer;display: block;width: 100%;margin-bottom: 0;padding: 0.3em;box-sizing: border-box;text-align: center;}#sk-container-id-2 label.sk-toggleable__label-arrow:before {content: \"▸\";float: left;margin-right: 0.25em;color: #696969;}#sk-container-id-2 label.sk-toggleable__label-arrow:hover:before {color: black;}#sk-container-id-2 div.sk-estimator:hover label.sk-toggleable__label-arrow:before {color: black;}#sk-container-id-2 div.sk-toggleable__content {max-height: 0;max-width: 0;overflow: hidden;text-align: left;background-color: #f0f8ff;}#sk-container-id-2 div.sk-toggleable__content pre {margin: 0.2em;color: black;border-radius: 0.25em;background-color: #f0f8ff;}#sk-container-id-2 input.sk-toggleable__control:checked~div.sk-toggleable__content {max-height: 200px;max-width: 100%;overflow: auto;}#sk-container-id-2 input.sk-toggleable__control:checked~label.sk-toggleable__label-arrow:before {content: \"▾\";}#sk-container-id-2 div.sk-estimator input.sk-toggleable__control:checked~label.sk-toggleable__label {background-color: #d4ebff;}#sk-container-id-2 div.sk-label input.sk-toggleable__control:checked~label.sk-toggleable__label {background-color: #d4ebff;}#sk-container-id-2 input.sk-hidden--visually {border: 0;clip: rect(1px 1px 1px 1px);clip: rect(1px, 1px, 1px, 1px);height: 1px;margin: -1px;overflow: hidden;padding: 0;position: absolute;width: 1px;}#sk-container-id-2 div.sk-estimator {font-family: monospace;background-color: #f0f8ff;border: 1px dotted black;border-radius: 0.25em;box-sizing: border-box;margin-bottom: 0.5em;}#sk-container-id-2 div.sk-estimator:hover {background-color: #d4ebff;}#sk-container-id-2 div.sk-parallel-item::after {content: \"\";width: 100%;border-bottom: 1px solid gray;flex-grow: 1;}#sk-container-id-2 div.sk-label:hover label.sk-toggleable__label {background-color: #d4ebff;}#sk-container-id-2 div.sk-serial::before {content: \"\";position: absolute;border-left: 1px solid gray;box-sizing: border-box;top: 0;bottom: 0;left: 50%;z-index: 0;}#sk-container-id-2 div.sk-serial {display: flex;flex-direction: column;align-items: center;background-color: white;padding-right: 0.2em;padding-left: 0.2em;position: relative;}#sk-container-id-2 div.sk-item {position: relative;z-index: 1;}#sk-container-id-2 div.sk-parallel {display: flex;align-items: stretch;justify-content: center;background-color: white;position: relative;}#sk-container-id-2 div.sk-item::before, #sk-container-id-2 div.sk-parallel-item::before {content: \"\";position: absolute;border-left: 1px solid gray;box-sizing: border-box;top: 0;bottom: 0;left: 50%;z-index: -1;}#sk-container-id-2 div.sk-parallel-item {display: flex;flex-direction: column;z-index: 1;position: relative;background-color: white;}#sk-container-id-2 div.sk-parallel-item:first-child::after {align-self: flex-end;width: 50%;}#sk-container-id-2 div.sk-parallel-item:last-child::after {align-self: flex-start;width: 50%;}#sk-container-id-2 div.sk-parallel-item:only-child::after {width: 0;}#sk-container-id-2 div.sk-dashed-wrapped {border: 1px dashed gray;margin: 0 0.4em 0.5em 0.4em;box-sizing: border-box;padding-bottom: 0.4em;background-color: white;}#sk-container-id-2 div.sk-label label {font-family: monospace;font-weight: bold;display: inline-block;line-height: 1.2em;}#sk-container-id-2 div.sk-label-container {text-align: center;}#sk-container-id-2 div.sk-container {/* jupyter's `normalize.less` sets `[hidden] { display: none; }` but bootstrap.min.css set `[hidden] { display: none !important; }` so we also need the `!important` here to be able to override the default hidden behavior on the sphinx rendered scikit-learn.org. See: https://github.com/scikit-learn/scikit-learn/issues/21755 */display: inline-block !important;position: relative;}#sk-container-id-2 div.sk-text-repr-fallback {display: none;}</style><div id=\"sk-container-id-2\" class=\"sk-top-container\"><div class=\"sk-text-repr-fallback\"><pre>LinearRegression()</pre><b>In a Jupyter environment, please rerun this cell to show the HTML representation or trust the notebook. <br />On GitHub, the HTML representation is unable to render, please try loading this page with nbviewer.org.</b></div><div class=\"sk-container\" hidden><div class=\"sk-item\"><div class=\"sk-estimator sk-toggleable\"><input class=\"sk-toggleable__control sk-hidden--visually\" id=\"sk-estimator-id-2\" type=\"checkbox\" checked><label for=\"sk-estimator-id-2\" class=\"sk-toggleable__label sk-toggleable__label-arrow\">LinearRegression</label><div class=\"sk-toggleable__content\"><pre>LinearRegression()</pre></div></div></div></div></div>"
      ],
      "text/plain": [
       "LinearRegression()"
      ]
     },
     "execution_count": 40,
     "metadata": {},
     "output_type": "execute_result"
    }
   ],
   "source": [
    "# 모델 학습\n",
    "model.fit(x_train, y_train)"
   ]
  },
  {
   "cell_type": "code",
   "execution_count": 41,
   "metadata": {},
   "outputs": [
    {
     "data": {
      "text/plain": [
       "array([[23.99981216],\n",
       "       [23.86297545],\n",
       "       [24.59714684],\n",
       "       [10.5435689 ],\n",
       "       [13.65229127],\n",
       "       [19.37673483],\n",
       "       [19.05226685],\n",
       "       [ 7.71546729],\n",
       "       [ 5.17971828],\n",
       "       [23.84324117],\n",
       "       [11.83361414],\n",
       "       [14.38086905],\n",
       "       [ 1.84343784],\n",
       "       [24.64098548],\n",
       "       [ 7.69299616],\n",
       "       [21.47020169],\n",
       "       [21.47668847],\n",
       "       [ 8.02823368],\n",
       "       [24.29398125],\n",
       "       [26.21871111],\n",
       "       [26.16139964],\n",
       "       [11.3751394 ],\n",
       "       [ 7.24170671],\n",
       "       [23.71092318],\n",
       "       [19.38641532],\n",
       "       [16.6363798 ],\n",
       "       [14.08697696],\n",
       "       [21.06116271],\n",
       "       [29.84451037],\n",
       "       [11.13521048]])"
      ]
     },
     "execution_count": 41,
     "metadata": {},
     "output_type": "execute_result"
    }
   ],
   "source": [
    "# 예측\n",
    "predict = model.predict(x_test)\n",
    "predict"
   ]
  },
  {
   "cell_type": "code",
   "execution_count": 42,
   "metadata": {},
   "outputs": [
    {
     "data": {
      "image/png": "[encoded data removed]",
      "text/plain": [
       "<Figure size 640x480 with 1 Axes>"
      ]
     },
     "metadata": {},
     "output_type": "display_data"
    }
   ],
   "source": [
    "plt.plot(x, y, 'o')\n",
    "plt.plot(x_test, predict)\n",
    "plt.show()"
   ]
  },
  {
   "cell_type": "code",
   "execution_count": 45,
   "metadata": {},
   "outputs": [
    {
     "data": {
      "text/plain": [
       "array([[27.82164312]])"
      ]
     },
     "execution_count": 45,
     "metadata": {},
     "output_type": "execute_result"
    }
   ],
   "source": [
    "# x에 9를 넣으면 y 값으로 27.82164312을 반환\n",
    "model.predict([[9]])"
   ]
  },
  {
   "cell_type": "code",
   "execution_count": null,
   "metadata": {},
   "outputs": [],
   "source": []
  }
 ],
 "metadata": {
  "kernelspec": {
   "display_name": "dsde04",
   "language": "python",
   "name": "python3"
  },
  "language_info": {
   "codemirror_mode": {
    "name": "ipython",
    "version": 3
   },
   "file_extension": ".py",
   "mimetype": "text/x-python",
   "name": "python",
   "nbconvert_exporter": "python",
   "pygments_lexer": "ipython3",
   "version": "3.10.11"
  },
  "orig_nbformat": 4
 },
 "nbformat": 4,
 "nbformat_minor": 2
}
