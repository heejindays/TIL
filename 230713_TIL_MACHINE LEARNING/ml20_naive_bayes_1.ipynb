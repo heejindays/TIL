{
 "cells": [
  {
   "cell_type": "code",
   "execution_count": 1,
   "metadata": {},
   "outputs": [],
   "source": [
    "# 확률 계산 > 이런 게 있다는 정도로만 넘어가지만 나중에 공부해볼 것"
   ]
  },
  {
   "cell_type": "markdown",
   "metadata": {},
   "source": [
    "나이브 베이즈\n",
    "\n",
    "- 사전 확률(prior)을 기반으로 사후확률(posterior)를 계산(추론)\n",
    "\n",
    "1) GaussianNB : 연속적인 특성 (정규분포)\n",
    "\n",
    "2) BernoulliNB : 이진 특성\n",
    "\n",
    "3) MultinomialNB : 카운트 특성 (ex. 단어의 갯수)"
   ]
  },
  {
   "cell_type": "code",
   "execution_count": 2,
   "metadata": {},
   "outputs": [],
   "source": [
    "from sklearn.datasets import load_iris\n",
    "from sklearn.model_selection import train_test_split\n",
    "from sklearn.naive_bayes import GaussianNB\n",
    "from sklearn.metrics import accuracy_score"
   ]
  },
  {
   "cell_type": "code",
   "execution_count": 3,
   "metadata": {},
   "outputs": [],
   "source": [
    "# 1. 데이터 준비\n",
    "\n",
    "iris = load_iris()\n",
    "x = iris.data\n",
    "y = iris.target"
   ]
  },
  {
   "cell_type": "code",
   "execution_count": 4,
   "metadata": {},
   "outputs": [],
   "source": [
    "# 2. 데이터 분할\n",
    "x_train, x_test, y_train, y_test = train_test_split(x, y, test_size=0.3, random_state=1)"
   ]
  },
  {
   "cell_type": "code",
   "execution_count": 5,
   "metadata": {},
   "outputs": [],
   "source": [
    "# 3. 모델 선택\n",
    "model = GaussianNB()"
   ]
  },
  {
   "cell_type": "code",
   "execution_count": 6,
   "metadata": {},
   "outputs": [
    {
     "data": {
      "text/html": [
       "<style>#sk-container-id-1 {color: black;}#sk-container-id-1 pre{padding: 0;}#sk-container-id-1 div.sk-toggleable {background-color: white;}#sk-container-id-1 label.sk-toggleable__label {cursor: pointer;display: block;width: 100%;margin-bottom: 0;padding: 0.3em;box-sizing: border-box;text-align: center;}#sk-container-id-1 label.sk-toggleable__label-arrow:before {content: \"▸\";float: left;margin-right: 0.25em;color: #696969;}#sk-container-id-1 label.sk-toggleable__label-arrow:hover:before {color: black;}#sk-container-id-1 div.sk-estimator:hover label.sk-toggleable__label-arrow:before {color: black;}#sk-container-id-1 div.sk-toggleable__content {max-height: 0;max-width: 0;overflow: hidden;text-align: left;background-color: #f0f8ff;}#sk-container-id-1 div.sk-toggleable__content pre {margin: 0.2em;color: black;border-radius: 0.25em;background-color: #f0f8ff;}#sk-container-id-1 input.sk-toggleable__control:checked~div.sk-toggleable__content {max-height: 200px;max-width: 100%;overflow: auto;}#sk-container-id-1 input.sk-toggleable__control:checked~label.sk-toggleable__label-arrow:before {content: \"▾\";}#sk-container-id-1 div.sk-estimator input.sk-toggleable__control:checked~label.sk-toggleable__label {background-color: #d4ebff;}#sk-container-id-1 div.sk-label input.sk-toggleable__control:checked~label.sk-toggleable__label {background-color: #d4ebff;}#sk-container-id-1 input.sk-hidden--visually {border: 0;clip: rect(1px 1px 1px 1px);clip: rect(1px, 1px, 1px, 1px);height: 1px;margin: -1px;overflow: hidden;padding: 0;position: absolute;width: 1px;}#sk-container-id-1 div.sk-estimator {font-family: monospace;background-color: #f0f8ff;border: 1px dotted black;border-radius: 0.25em;box-sizing: border-box;margin-bottom: 0.5em;}#sk-container-id-1 div.sk-estimator:hover {background-color: #d4ebff;}#sk-container-id-1 div.sk-parallel-item::after {content: \"\";width: 100%;border-bottom: 1px solid gray;flex-grow: 1;}#sk-container-id-1 div.sk-label:hover label.sk-toggleable__label {background-color: #d4ebff;}#sk-container-id-1 div.sk-serial::before {content: \"\";position: absolute;border-left: 1px solid gray;box-sizing: border-box;top: 0;bottom: 0;left: 50%;z-index: 0;}#sk-container-id-1 div.sk-serial {display: flex;flex-direction: column;align-items: center;background-color: white;padding-right: 0.2em;padding-left: 0.2em;position: relative;}#sk-container-id-1 div.sk-item {position: relative;z-index: 1;}#sk-container-id-1 div.sk-parallel {display: flex;align-items: stretch;justify-content: center;background-color: white;position: relative;}#sk-container-id-1 div.sk-item::before, #sk-container-id-1 div.sk-parallel-item::before {content: \"\";position: absolute;border-left: 1px solid gray;box-sizing: border-box;top: 0;bottom: 0;left: 50%;z-index: -1;}#sk-container-id-1 div.sk-parallel-item {display: flex;flex-direction: column;z-index: 1;position: relative;background-color: white;}#sk-container-id-1 div.sk-parallel-item:first-child::after {align-self: flex-end;width: 50%;}#sk-container-id-1 div.sk-parallel-item:last-child::after {align-self: flex-start;width: 50%;}#sk-container-id-1 div.sk-parallel-item:only-child::after {width: 0;}#sk-container-id-1 div.sk-dashed-wrapped {border: 1px dashed gray;margin: 0 0.4em 0.5em 0.4em;box-sizing: border-box;padding-bottom: 0.4em;background-color: white;}#sk-container-id-1 div.sk-label label {font-family: monospace;font-weight: bold;display: inline-block;line-height: 1.2em;}#sk-container-id-1 div.sk-label-container {text-align: center;}#sk-container-id-1 div.sk-container {/* jupyter's `normalize.less` sets `[hidden] { display: none; }` but bootstrap.min.css set `[hidden] { display: none !important; }` so we also need the `!important` here to be able to override the default hidden behavior on the sphinx rendered scikit-learn.org. See: https://github.com/scikit-learn/scikit-learn/issues/21755 */display: inline-block !important;position: relative;}#sk-container-id-1 div.sk-text-repr-fallback {display: none;}</style><div id=\"sk-container-id-1\" class=\"sk-top-container\"><div class=\"sk-text-repr-fallback\"><pre>GaussianNB()</pre><b>In a Jupyter environment, please rerun this cell to show the HTML representation or trust the notebook. <br />On GitHub, the HTML representation is unable to render, please try loading this page with nbviewer.org.</b></div><div class=\"sk-container\" hidden><div class=\"sk-item\"><div class=\"sk-estimator sk-toggleable\"><input class=\"sk-toggleable__control sk-hidden--visually\" id=\"sk-estimator-id-1\" type=\"checkbox\" checked><label for=\"sk-estimator-id-1\" class=\"sk-toggleable__label sk-toggleable__label-arrow\">GaussianNB</label><div class=\"sk-toggleable__content\"><pre>GaussianNB()</pre></div></div></div></div></div>"
      ],
      "text/plain": [
       "GaussianNB()"
      ]
     },
     "execution_count": 6,
     "metadata": {},
     "output_type": "execute_result"
    }
   ],
   "source": [
    "# 4. 모델 학습\n",
    "model.fit(x_train, y_train)\n",
    "model"
   ]
  },
  {
   "cell_type": "code",
   "execution_count": 7,
   "metadata": {},
   "outputs": [
    {
     "name": "stdout",
     "output_type": "stream",
     "text": [
      "확률 분포 : [0.34285714 0.3047619  0.35238095]\n",
      "기댓값 : [[4.94166667 3.35277778 1.46944444 0.23333333]\n",
      " [5.928125   2.7375     4.2125     1.303125  ]\n",
      " [6.52432432 2.99189189 5.53513514 2.02432432]]\n"
     ]
    }
   ],
   "source": [
    "print(f\"확률 분포 : {model.class_prior_}\")\n",
    "print(f\"기댓값 : {model.theta_}\")"
   ]
  },
  {
   "cell_type": "code",
   "execution_count": 8,
   "metadata": {},
   "outputs": [
    {
     "data": {
      "text/plain": [
       "0.9333333333333333"
      ]
     },
     "execution_count": 8,
     "metadata": {},
     "output_type": "execute_result"
    }
   ],
   "source": [
    "# 5. 모델 평가\n",
    "model.score(x_test, y_test)"
   ]
  },
  {
   "cell_type": "code",
   "execution_count": 9,
   "metadata": {},
   "outputs": [
    {
     "data": {
      "text/plain": [
       "0.9333333333333333"
      ]
     },
     "execution_count": 9,
     "metadata": {},
     "output_type": "execute_result"
    }
   ],
   "source": [
    "# 6. 예측\n",
    "predict = model.predict(x_test)\n",
    "accuracy_score(y_test, predict)"
   ]
  },
  {
   "cell_type": "code",
   "execution_count": 10,
   "metadata": {},
   "outputs": [
    {
     "data": {
      "text/plain": [
       "array([[1.00000000e+000, 7.30172724e-017, 1.92698897e-023],\n",
       "       [1.83127445e-031, 9.99999349e-001, 6.50949259e-007],\n",
       "       [6.64026638e-099, 9.71309470e-001, 2.86905301e-002],\n",
       "       [1.00000000e+000, 4.50426332e-015, 5.93894621e-022],\n",
       "       [1.24729705e-266, 1.50022255e-009, 9.99999998e-001],\n",
       "       [1.25848413e-120, 4.97361143e-001, 5.02638857e-001],\n",
       "       [8.22548006e-192, 6.90370263e-007, 9.99999310e-001],\n",
       "       [1.00000000e+000, 3.05551312e-011, 3.69926602e-018],\n",
       "       [1.00000000e+000, 1.34176387e-015, 8.87395065e-023],\n",
       "       [1.55475502e-229, 2.00287031e-008, 9.99999980e-001],\n",
       "       [4.44110262e-082, 9.99584753e-001, 4.15247469e-004],\n",
       "       [1.00000000e+000, 8.14093994e-013, 1.12264893e-019],\n",
       "       [1.14065997e-230, 2.17224776e-007, 9.99999783e-001],\n",
       "       [1.44834682e-106, 8.84361311e-001, 1.15638689e-001],\n",
       "       [2.27759005e-105, 9.66946340e-001, 3.30536601e-002],\n",
       "       [1.00000000e+000, 2.98417907e-017, 1.87295578e-024],\n",
       "       [1.26088164e-070, 9.99923670e-001, 7.63296422e-005],\n",
       "       [9.89241676e-104, 9.75618268e-001, 2.43817319e-002],\n",
       "       [1.00000000e+000, 6.22633347e-013, 6.56696474e-020],\n",
       "       [1.00000000e+000, 6.63890281e-017, 5.05492193e-024],\n",
       "       [3.65198539e-087, 9.99747933e-001, 2.52067159e-004],\n",
       "       [3.68284431e-103, 9.80258703e-001, 1.97412969e-002],\n",
       "       [3.18341504e-145, 4.59358350e-002, 9.54064165e-001],\n",
       "       [1.00000000e+000, 2.82591244e-016, 2.58974468e-023],\n",
       "       [5.05976094e-219, 7.33481114e-006, 9.99992665e-001],\n",
       "       [6.70809495e-078, 9.99570944e-001, 4.29055699e-004],\n",
       "       [1.00000000e+000, 7.67773744e-018, 1.15093232e-024],\n",
       "       [1.00000000e+000, 4.98462631e-016, 5.51250415e-023],\n",
       "       [1.59004950e-103, 9.96022888e-001, 3.97711189e-003],\n",
       "       [5.16423154e-155, 2.56995890e-002, 9.74300411e-001],\n",
       "       [4.62812296e-106, 9.73894566e-001, 2.61054338e-002],\n",
       "       [1.03683864e-264, 2.39773530e-010, 1.00000000e+000],\n",
       "       [1.49163595e-062, 9.99986479e-001, 1.35209710e-005],\n",
       "       [1.36177973e-205, 1.13704449e-005, 9.99988630e-001],\n",
       "       [1.53056782e-193, 1.54810714e-006, 9.99998452e-001],\n",
       "       [1.00000000e+000, 1.81274380e-016, 2.73823928e-023],\n",
       "       [5.02341335e-074, 9.99959144e-001, 4.08560547e-005],\n",
       "       [1.00000000e+000, 1.97422939e-016, 2.20675816e-023],\n",
       "       [8.71799029e-113, 9.07917329e-001, 9.20826706e-002],\n",
       "       [7.84796279e-202, 5.87068297e-004, 9.99412932e-001],\n",
       "       [1.95613688e-201, 5.14258706e-006, 9.99994857e-001],\n",
       "       [1.00000000e+000, 9.56176015e-016, 9.24160376e-023],\n",
       "       [2.17080010e-132, 9.70110757e-001, 2.98892434e-002],\n",
       "       [1.22350919e-185, 1.31028189e-003, 9.98689718e-001],\n",
       "       [1.34758952e-104, 9.79637678e-001, 2.03623216e-002]])"
      ]
     },
     "execution_count": 10,
     "metadata": {},
     "output_type": "execute_result"
    }
   ],
   "source": [
    "proba = model.predict_proba(x_test)\n",
    "proba"
   ]
  },
  {
   "cell_type": "code",
   "execution_count": 12,
   "metadata": {},
   "outputs": [
    {
     "data": {
      "text/plain": [
       "array([[1, 0, 0],\n",
       "       [0, 1, 0],\n",
       "       [0, 1, 0],\n",
       "       [1, 0, 0],\n",
       "       [0, 0, 1],\n",
       "       [0, 0, 0],\n",
       "       [0, 0, 1],\n",
       "       [1, 0, 0],\n",
       "       [1, 0, 0],\n",
       "       [0, 0, 1],\n",
       "       [0, 1, 0],\n",
       "       [1, 0, 0],\n",
       "       [0, 0, 1],\n",
       "       [0, 1, 0],\n",
       "       [0, 1, 0],\n",
       "       [1, 0, 0],\n",
       "       [0, 1, 0],\n",
       "       [0, 1, 0],\n",
       "       [1, 0, 0],\n",
       "       [1, 0, 0],\n",
       "       [0, 1, 0],\n",
       "       [0, 1, 0],\n",
       "       [0, 0, 1],\n",
       "       [1, 0, 0],\n",
       "       [0, 0, 1],\n",
       "       [0, 1, 0],\n",
       "       [1, 0, 0],\n",
       "       [1, 0, 0],\n",
       "       [0, 1, 0],\n",
       "       [0, 0, 1],\n",
       "       [0, 1, 0],\n",
       "       [0, 0, 1],\n",
       "       [0, 1, 0],\n",
       "       [0, 0, 1],\n",
       "       [0, 0, 1],\n",
       "       [1, 0, 0],\n",
       "       [0, 1, 0],\n",
       "       [1, 0, 0],\n",
       "       [0, 1, 0],\n",
       "       [0, 0, 1],\n",
       "       [0, 0, 1],\n",
       "       [1, 0, 0],\n",
       "       [0, 1, 0],\n",
       "       [0, 0, 1],\n",
       "       [0, 1, 0]])"
      ]
     },
     "execution_count": 12,
     "metadata": {},
     "output_type": "execute_result"
    }
   ],
   "source": [
    "# (proba > 0.8) 는 True / False로 나올테니까\n",
    "# True는 1 / False는 0인 상황\n",
    "# 거기에 0을 더하면 숫자로 나옴\n",
    "\n",
    "proba_class = (proba > 0.8) + 0\n",
    "proba_class"
   ]
  },
  {
   "cell_type": "code",
   "execution_count": null,
   "metadata": {},
   "outputs": [],
   "source": []
  }
 ],
 "metadata": {
  "kernelspec": {
   "display_name": "dsde04",
   "language": "python",
   "name": "python3"
  },
  "language_info": {
   "codemirror_mode": {
    "name": "ipython",
    "version": 3
   },
   "file_extension": ".py",
   "mimetype": "text/x-python",
   "name": "python",
   "nbconvert_exporter": "python",
   "pygments_lexer": "ipython3",
   "version": "3.10.11"
  },
  "orig_nbformat": 4
 },
 "nbformat": 4,
 "nbformat_minor": 2
}
